{
 "cells": [
  {
   "cell_type": "code",
   "execution_count": 37,
   "id": "11467a28-c885-4172-9d88-0d1014904fd7",
   "metadata": {},
   "outputs": [],
   "source": [
    "import pandas as pd\n",
    "import numpy as np\n",
    "import matplotlib.pyplot as plt\n",
    "import datetime as dt\n",
    "%matplotlib inline\n",
    "import ipywidgets as widgets\n",
    "import datetime\n",
    "from IPython.display import display"
   ]
  },
  {
   "cell_type": "code",
   "execution_count": 38,
   "id": "77191317-b2c5-47d2-b900-e1d056490438",
   "metadata": {},
   "outputs": [],
   "source": [
    "dfemploee = pd.read_csv(\"emploee.txt\")\n",
    "dftimesheet1 = pd.read_csv(\"timesheet11.txt\")\n",
    "dftimesheet2 = pd.read_csv(\"timesheet12.txt\")\n",
    "dfcheck1 = pd.read_csv(\"check11.txt\")\n",
    "dfcheck2 = pd.read_csv(\"check12.txt\")\n",
    "dfservice = pd.read_csv(\"service.txt\")\n",
    "dftariff = pd.read_csv(\"tariff.txt\")"
   ]
  },
  {
   "cell_type": "code",
   "execution_count": 39,
   "id": "2868637a-7016-4f0a-abb4-63bcbc062e52",
   "metadata": {},
   "outputs": [
    {
     "data": {
      "text/html": [
       "<div>\n",
       "<style scoped>\n",
       "    .dataframe tbody tr th:only-of-type {\n",
       "        vertical-align: middle;\n",
       "    }\n",
       "\n",
       "    .dataframe tbody tr th {\n",
       "        vertical-align: top;\n",
       "    }\n",
       "\n",
       "    .dataframe thead th {\n",
       "        text-align: right;\n",
       "    }\n",
       "</style>\n",
       "<table border=\"1\" class=\"dataframe\">\n",
       "  <thead>\n",
       "    <tr style=\"text-align: right;\">\n",
       "      <th></th>\n",
       "      <th>id_number</th>\n",
       "      <th>tariff class</th>\n",
       "      <th>surname</th>\n",
       "    </tr>\n",
       "  </thead>\n",
       "  <tbody>\n",
       "    <tr>\n",
       "      <th>0</th>\n",
       "      <td>21</td>\n",
       "      <td>6</td>\n",
       "      <td>Bochka</td>\n",
       "    </tr>\n",
       "    <tr>\n",
       "      <th>1</th>\n",
       "      <td>23</td>\n",
       "      <td>7</td>\n",
       "      <td>Borovets</td>\n",
       "    </tr>\n",
       "    <tr>\n",
       "      <th>2</th>\n",
       "      <td>26</td>\n",
       "      <td>9</td>\n",
       "      <td>Korol</td>\n",
       "    </tr>\n",
       "  </tbody>\n",
       "</table>\n",
       "</div>"
      ],
      "text/plain": [
       "   id_number  tariff class   surname\n",
       "0         21             6    Bochka\n",
       "1         23             7  Borovets\n",
       "2         26             9     Korol"
      ]
     },
     "execution_count": 39,
     "metadata": {},
     "output_type": "execute_result"
    }
   ],
   "source": [
    "dfemploee"
   ]
  },
  {
   "cell_type": "code",
   "execution_count": 40,
   "id": "1c348313-157a-47d8-9604-48b7569d2569",
   "metadata": {},
   "outputs": [
    {
     "data": {
      "text/html": [
       "<div>\n",
       "<style scoped>\n",
       "    .dataframe tbody tr th:only-of-type {\n",
       "        vertical-align: middle;\n",
       "    }\n",
       "\n",
       "    .dataframe tbody tr th {\n",
       "        vertical-align: top;\n",
       "    }\n",
       "\n",
       "    .dataframe thead th {\n",
       "        text-align: right;\n",
       "    }\n",
       "</style>\n",
       "<table border=\"1\" class=\"dataframe\">\n",
       "  <thead>\n",
       "    <tr style=\"text-align: right;\">\n",
       "      <th></th>\n",
       "      <th>id_number</th>\n",
       "      <th>date</th>\n",
       "      <th>hours</th>\n",
       "    </tr>\n",
       "  </thead>\n",
       "  <tbody>\n",
       "    <tr>\n",
       "      <th>0</th>\n",
       "      <td>21</td>\n",
       "      <td>04/11/2022</td>\n",
       "      <td>32</td>\n",
       "    </tr>\n",
       "    <tr>\n",
       "      <th>1</th>\n",
       "      <td>23</td>\n",
       "      <td>05/11/2022</td>\n",
       "      <td>34</td>\n",
       "    </tr>\n",
       "    <tr>\n",
       "      <th>2</th>\n",
       "      <td>26</td>\n",
       "      <td>06/11/2022</td>\n",
       "      <td>36</td>\n",
       "    </tr>\n",
       "  </tbody>\n",
       "</table>\n",
       "</div>"
      ],
      "text/plain": [
       "   id_number        date  hours\n",
       "0         21  04/11/2022     32\n",
       "1         23  05/11/2022     34\n",
       "2         26  06/11/2022     36"
      ]
     },
     "execution_count": 40,
     "metadata": {},
     "output_type": "execute_result"
    }
   ],
   "source": [
    "dftimesheet1"
   ]
  },
  {
   "cell_type": "code",
   "execution_count": 41,
   "id": "d78bb93e-4ba0-449d-8f83-64ff92963eca",
   "metadata": {},
   "outputs": [
    {
     "data": {
      "text/html": [
       "<div>\n",
       "<style scoped>\n",
       "    .dataframe tbody tr th:only-of-type {\n",
       "        vertical-align: middle;\n",
       "    }\n",
       "\n",
       "    .dataframe tbody tr th {\n",
       "        vertical-align: top;\n",
       "    }\n",
       "\n",
       "    .dataframe thead th {\n",
       "        text-align: right;\n",
       "    }\n",
       "</style>\n",
       "<table border=\"1\" class=\"dataframe\">\n",
       "  <thead>\n",
       "    <tr style=\"text-align: right;\">\n",
       "      <th></th>\n",
       "      <th>id_number</th>\n",
       "      <th>date</th>\n",
       "      <th>hours</th>\n",
       "    </tr>\n",
       "  </thead>\n",
       "  <tbody>\n",
       "    <tr>\n",
       "      <th>0</th>\n",
       "      <td>21</td>\n",
       "      <td>04/12/2022</td>\n",
       "      <td>42</td>\n",
       "    </tr>\n",
       "    <tr>\n",
       "      <th>1</th>\n",
       "      <td>23</td>\n",
       "      <td>05/12/2022</td>\n",
       "      <td>44</td>\n",
       "    </tr>\n",
       "    <tr>\n",
       "      <th>2</th>\n",
       "      <td>26</td>\n",
       "      <td>06/12/2022</td>\n",
       "      <td>46</td>\n",
       "    </tr>\n",
       "  </tbody>\n",
       "</table>\n",
       "</div>"
      ],
      "text/plain": [
       "   id_number        date  hours\n",
       "0         21  04/12/2022     42\n",
       "1         23  05/12/2022     44\n",
       "2         26  06/12/2022     46"
      ]
     },
     "execution_count": 41,
     "metadata": {},
     "output_type": "execute_result"
    }
   ],
   "source": [
    "dftimesheet2"
   ]
  },
  {
   "cell_type": "code",
   "execution_count": 42,
   "id": "971443e5-79cb-460b-84ec-0a5a70daf1c3",
   "metadata": {},
   "outputs": [
    {
     "data": {
      "text/html": [
       "<div>\n",
       "<style scoped>\n",
       "    .dataframe tbody tr th:only-of-type {\n",
       "        vertical-align: middle;\n",
       "    }\n",
       "\n",
       "    .dataframe tbody tr th {\n",
       "        vertical-align: top;\n",
       "    }\n",
       "\n",
       "    .dataframe thead th {\n",
       "        text-align: right;\n",
       "    }\n",
       "</style>\n",
       "<table border=\"1\" class=\"dataframe\">\n",
       "  <thead>\n",
       "    <tr style=\"text-align: right;\">\n",
       "      <th></th>\n",
       "      <th>id_number</th>\n",
       "      <th>date</th>\n",
       "      <th>id_service</th>\n",
       "    </tr>\n",
       "  </thead>\n",
       "  <tbody>\n",
       "    <tr>\n",
       "      <th>0</th>\n",
       "      <td>21</td>\n",
       "      <td>04/11/2022</td>\n",
       "      <td>1</td>\n",
       "    </tr>\n",
       "    <tr>\n",
       "      <th>1</th>\n",
       "      <td>23</td>\n",
       "      <td>05/11/2022</td>\n",
       "      <td>3</td>\n",
       "    </tr>\n",
       "    <tr>\n",
       "      <th>2</th>\n",
       "      <td>26</td>\n",
       "      <td>06/11/2022</td>\n",
       "      <td>2</td>\n",
       "    </tr>\n",
       "  </tbody>\n",
       "</table>\n",
       "</div>"
      ],
      "text/plain": [
       "   id_number        date  id_service\n",
       "0         21  04/11/2022           1\n",
       "1         23  05/11/2022           3\n",
       "2         26  06/11/2022           2"
      ]
     },
     "execution_count": 42,
     "metadata": {},
     "output_type": "execute_result"
    }
   ],
   "source": [
    "dfcheck1"
   ]
  },
  {
   "cell_type": "code",
   "execution_count": 43,
   "id": "8e4e3a66-3963-4884-908b-52d1918712bd",
   "metadata": {},
   "outputs": [
    {
     "data": {
      "text/html": [
       "<div>\n",
       "<style scoped>\n",
       "    .dataframe tbody tr th:only-of-type {\n",
       "        vertical-align: middle;\n",
       "    }\n",
       "\n",
       "    .dataframe tbody tr th {\n",
       "        vertical-align: top;\n",
       "    }\n",
       "\n",
       "    .dataframe thead th {\n",
       "        text-align: right;\n",
       "    }\n",
       "</style>\n",
       "<table border=\"1\" class=\"dataframe\">\n",
       "  <thead>\n",
       "    <tr style=\"text-align: right;\">\n",
       "      <th></th>\n",
       "      <th>id_number</th>\n",
       "      <th>date</th>\n",
       "      <th>id_service</th>\n",
       "    </tr>\n",
       "  </thead>\n",
       "  <tbody>\n",
       "    <tr>\n",
       "      <th>0</th>\n",
       "      <td>21</td>\n",
       "      <td>04/12/2022</td>\n",
       "      <td>2</td>\n",
       "    </tr>\n",
       "    <tr>\n",
       "      <th>1</th>\n",
       "      <td>23</td>\n",
       "      <td>05/12/2022</td>\n",
       "      <td>1</td>\n",
       "    </tr>\n",
       "    <tr>\n",
       "      <th>2</th>\n",
       "      <td>26</td>\n",
       "      <td>06/12/2022</td>\n",
       "      <td>3</td>\n",
       "    </tr>\n",
       "  </tbody>\n",
       "</table>\n",
       "</div>"
      ],
      "text/plain": [
       "   id_number        date  id_service\n",
       "0         21  04/12/2022           2\n",
       "1         23  05/12/2022           1\n",
       "2         26  06/12/2022           3"
      ]
     },
     "execution_count": 43,
     "metadata": {},
     "output_type": "execute_result"
    }
   ],
   "source": [
    "dfcheck2"
   ]
  },
  {
   "cell_type": "code",
   "execution_count": 44,
   "id": "8bdcb8a8-2243-4093-be0c-39caff53c821",
   "metadata": {},
   "outputs": [
    {
     "data": {
      "text/html": [
       "<div>\n",
       "<style scoped>\n",
       "    .dataframe tbody tr th:only-of-type {\n",
       "        vertical-align: middle;\n",
       "    }\n",
       "\n",
       "    .dataframe tbody tr th {\n",
       "        vertical-align: top;\n",
       "    }\n",
       "\n",
       "    .dataframe thead th {\n",
       "        text-align: right;\n",
       "    }\n",
       "</style>\n",
       "<table border=\"1\" class=\"dataframe\">\n",
       "  <thead>\n",
       "    <tr style=\"text-align: right;\">\n",
       "      <th></th>\n",
       "      <th>id_service</th>\n",
       "      <th>name</th>\n",
       "      <th>cost</th>\n",
       "    </tr>\n",
       "  </thead>\n",
       "  <tbody>\n",
       "    <tr>\n",
       "      <th>0</th>\n",
       "      <td>1</td>\n",
       "      <td>coffe</td>\n",
       "      <td>20</td>\n",
       "    </tr>\n",
       "    <tr>\n",
       "      <th>1</th>\n",
       "      <td>2</td>\n",
       "      <td>tea</td>\n",
       "      <td>12</td>\n",
       "    </tr>\n",
       "    <tr>\n",
       "      <th>2</th>\n",
       "      <td>3</td>\n",
       "      <td>lunch</td>\n",
       "      <td>50</td>\n",
       "    </tr>\n",
       "  </tbody>\n",
       "</table>\n",
       "</div>"
      ],
      "text/plain": [
       "   id_service   name  cost\n",
       "0           1  coffe    20\n",
       "1           2    tea    12\n",
       "2           3  lunch    50"
      ]
     },
     "execution_count": 44,
     "metadata": {},
     "output_type": "execute_result"
    }
   ],
   "source": [
    "dfservice"
   ]
  },
  {
   "cell_type": "code",
   "execution_count": 45,
   "id": "dfea4962-e9fa-46e6-9857-46c913f2f98e",
   "metadata": {},
   "outputs": [
    {
     "data": {
      "text/html": [
       "<div>\n",
       "<style scoped>\n",
       "    .dataframe tbody tr th:only-of-type {\n",
       "        vertical-align: middle;\n",
       "    }\n",
       "\n",
       "    .dataframe tbody tr th {\n",
       "        vertical-align: top;\n",
       "    }\n",
       "\n",
       "    .dataframe thead th {\n",
       "        text-align: right;\n",
       "    }\n",
       "</style>\n",
       "<table border=\"1\" class=\"dataframe\">\n",
       "  <thead>\n",
       "    <tr style=\"text-align: right;\">\n",
       "      <th></th>\n",
       "      <th>tariff class</th>\n",
       "      <th>payment</th>\n",
       "    </tr>\n",
       "  </thead>\n",
       "  <tbody>\n",
       "    <tr>\n",
       "      <th>0</th>\n",
       "      <td>6</td>\n",
       "      <td>400</td>\n",
       "    </tr>\n",
       "    <tr>\n",
       "      <th>1</th>\n",
       "      <td>7</td>\n",
       "      <td>600</td>\n",
       "    </tr>\n",
       "    <tr>\n",
       "      <th>2</th>\n",
       "      <td>9</td>\n",
       "      <td>700</td>\n",
       "    </tr>\n",
       "  </tbody>\n",
       "</table>\n",
       "</div>"
      ],
      "text/plain": [
       "   tariff class  payment\n",
       "0             6      400\n",
       "1             7      600\n",
       "2             9      700"
      ]
     },
     "execution_count": 45,
     "metadata": {},
     "output_type": "execute_result"
    }
   ],
   "source": [
    "dftariff"
   ]
  },
  {
   "cell_type": "code",
   "execution_count": 91,
   "id": "a832c83e-e71d-4855-8554-d482ec86f203",
   "metadata": {},
   "outputs": [
    {
     "data": {
      "text/html": [
       "<div>\n",
       "<style scoped>\n",
       "    .dataframe tbody tr th:only-of-type {\n",
       "        vertical-align: middle;\n",
       "    }\n",
       "\n",
       "    .dataframe tbody tr th {\n",
       "        vertical-align: top;\n",
       "    }\n",
       "\n",
       "    .dataframe thead th {\n",
       "        text-align: right;\n",
       "    }\n",
       "</style>\n",
       "<table border=\"1\" class=\"dataframe\">\n",
       "  <thead>\n",
       "    <tr style=\"text-align: right;\">\n",
       "      <th></th>\n",
       "      <th>id_number</th>\n",
       "      <th>date</th>\n",
       "      <th>id_service</th>\n",
       "      <th>month</th>\n",
       "    </tr>\n",
       "  </thead>\n",
       "  <tbody>\n",
       "    <tr>\n",
       "      <th>0</th>\n",
       "      <td>21</td>\n",
       "      <td>2022-11-04</td>\n",
       "      <td>1</td>\n",
       "      <td>11</td>\n",
       "    </tr>\n",
       "    <tr>\n",
       "      <th>1</th>\n",
       "      <td>23</td>\n",
       "      <td>2022-11-05</td>\n",
       "      <td>3</td>\n",
       "      <td>11</td>\n",
       "    </tr>\n",
       "    <tr>\n",
       "      <th>2</th>\n",
       "      <td>26</td>\n",
       "      <td>2022-11-06</td>\n",
       "      <td>2</td>\n",
       "      <td>11</td>\n",
       "    </tr>\n",
       "    <tr>\n",
       "      <th>0</th>\n",
       "      <td>21</td>\n",
       "      <td>2022-12-04</td>\n",
       "      <td>2</td>\n",
       "      <td>12</td>\n",
       "    </tr>\n",
       "    <tr>\n",
       "      <th>1</th>\n",
       "      <td>23</td>\n",
       "      <td>2022-12-05</td>\n",
       "      <td>1</td>\n",
       "      <td>12</td>\n",
       "    </tr>\n",
       "    <tr>\n",
       "      <th>2</th>\n",
       "      <td>26</td>\n",
       "      <td>2022-12-06</td>\n",
       "      <td>3</td>\n",
       "      <td>12</td>\n",
       "    </tr>\n",
       "  </tbody>\n",
       "</table>\n",
       "</div>"
      ],
      "text/plain": [
       "   id_number       date  id_service  month\n",
       "0         21 2022-11-04           1     11\n",
       "1         23 2022-11-05           3     11\n",
       "2         26 2022-11-06           2     11\n",
       "0         21 2022-12-04           2     12\n",
       "1         23 2022-12-05           1     12\n",
       "2         26 2022-12-06           3     12"
      ]
     },
     "execution_count": 91,
     "metadata": {},
     "output_type": "execute_result"
    }
   ],
   "source": [
    "dfcheck=pd.concat([dfcheck1,dfcheck2])\n",
    "dfcheck['date']=pd.to_datetime(dfcheck.date, format=\"%d/%m/%Y\")\n",
    "dfcheck['month']=dfcheck['date'].dt.month\n",
    "dfcheck"
   ]
  },
  {
   "cell_type": "markdown",
   "id": "3ad14ff5-0dea-4f57-825a-b087c2c38917",
   "metadata": {},
   "source": [
    "# а)"
   ]
  },
  {
   "cell_type": "code",
   "execution_count": 92,
   "id": "d14b9fec-46a8-4bf6-80eb-61c176ccc871",
   "metadata": {},
   "outputs": [
    {
     "data": {
      "text/html": [
       "<div>\n",
       "<style scoped>\n",
       "    .dataframe tbody tr th:only-of-type {\n",
       "        vertical-align: middle;\n",
       "    }\n",
       "\n",
       "    .dataframe tbody tr th {\n",
       "        vertical-align: top;\n",
       "    }\n",
       "\n",
       "    .dataframe thead th {\n",
       "        text-align: right;\n",
       "    }\n",
       "</style>\n",
       "<table border=\"1\" class=\"dataframe\">\n",
       "  <thead>\n",
       "    <tr style=\"text-align: right;\">\n",
       "      <th></th>\n",
       "      <th>hours</th>\n",
       "    </tr>\n",
       "    <tr>\n",
       "      <th>month</th>\n",
       "      <th></th>\n",
       "    </tr>\n",
       "  </thead>\n",
       "  <tbody>\n",
       "    <tr>\n",
       "      <th>11</th>\n",
       "      <td>102</td>\n",
       "    </tr>\n",
       "    <tr>\n",
       "      <th>12</th>\n",
       "      <td>132</td>\n",
       "    </tr>\n",
       "  </tbody>\n",
       "</table>\n",
       "</div>"
      ],
      "text/plain": [
       "       hours\n",
       "month       \n",
       "11       102\n",
       "12       132"
      ]
     },
     "metadata": {},
     "output_type": "display_data"
    }
   ],
   "source": [
    "dftimesheet=pd.concat([dftimesheet1,dftimesheet2])\n",
    "dftimesheet['date']=pd.to_datetime(dftimesheet.date, format=\"%d/%m/%Y\")\n",
    "dftimesheet['month']=dftimesheet['date'].dt.month\n",
    "\n",
    "ds=dftimesheet.groupby('month').sum()\n",
    "display(ds.drop(\"id_number\", axis=1))"
   ]
  },
  {
   "cell_type": "markdown",
   "id": "f80f386d-a16b-43bf-913e-0941ec6a8c20",
   "metadata": {},
   "source": [
    "# б)"
   ]
  },
  {
   "cell_type": "code",
   "execution_count": 93,
   "id": "eae00fb0-1c7b-4bf5-9448-e3eb07351de7",
   "metadata": {},
   "outputs": [
    {
     "data": {
      "image/png": "[encoded data removed]",
      "text/plain": [
       "<Figure size 432x288 with 1 Axes>"
      ]
     },
     "metadata": {
      "needs_background": "light"
     },
     "output_type": "display_data"
    }
   ],
   "source": [
    "y=ds['hours'].plot(kind='bar')"
   ]
  },
  {
   "cell_type": "markdown",
   "id": "95ccbc84-6c4b-4fb8-827d-d9160b927f85",
   "metadata": {},
   "source": [
    "# в), г)\n"
   ]
  },
  {
   "cell_type": "code",
   "execution_count": 48,
   "id": "9ec402b6-1c35-4fe2-9c33-a0bd5ca9e4d5",
   "metadata": {},
   "outputs": [
    {
     "data": {
      "text/html": [
       "<div>\n",
       "<style scoped>\n",
       "    .dataframe tbody tr th:only-of-type {\n",
       "        vertical-align: middle;\n",
       "    }\n",
       "\n",
       "    .dataframe tbody tr th {\n",
       "        vertical-align: top;\n",
       "    }\n",
       "\n",
       "    .dataframe thead th {\n",
       "        text-align: right;\n",
       "    }\n",
       "</style>\n",
       "<table border=\"1\" class=\"dataframe\">\n",
       "  <thead>\n",
       "    <tr style=\"text-align: right;\">\n",
       "      <th></th>\n",
       "      <th>surname</th>\n",
       "      <th>salary</th>\n",
       "      <th>cost</th>\n",
       "      <th>sum to payment</th>\n",
       "    </tr>\n",
       "  </thead>\n",
       "  <tbody>\n",
       "    <tr>\n",
       "      <th>0</th>\n",
       "      <td>Bochka</td>\n",
       "      <td>29600</td>\n",
       "      <td>32</td>\n",
       "      <td>29568</td>\n",
       "    </tr>\n",
       "    <tr>\n",
       "      <th>1</th>\n",
       "      <td>Borovets</td>\n",
       "      <td>46800</td>\n",
       "      <td>70</td>\n",
       "      <td>46730</td>\n",
       "    </tr>\n",
       "    <tr>\n",
       "      <th>2</th>\n",
       "      <td>Korol</td>\n",
       "      <td>57400</td>\n",
       "      <td>62</td>\n",
       "      <td>57338</td>\n",
       "    </tr>\n",
       "  </tbody>\n",
       "</table>\n",
       "</div>"
      ],
      "text/plain": [
       "    surname  salary  cost  sum to payment\n",
       "0    Bochka   29600    32           29568\n",
       "1  Borovets   46800    70           46730\n",
       "2     Korol   57400    62           57338"
      ]
     },
     "execution_count": 48,
     "metadata": {},
     "output_type": "execute_result"
    }
   ],
   "source": [
    "df=dfemploee.merge(dftariff)\n",
    "dt=df.merge(dftimesheet)\n",
    "dt['salary']=dt['payment']*dt['hours']\n",
    "#dt\n",
    "dt=dt.groupby('id_number').sum().reset_index()\n",
    "#print(dt)\n",
    "ds=dfcheck.merge(dfservice)\n",
    "ds=ds.groupby('id_number').sum().reset_index()\n",
    "#print(ds)\n",
    "dt=dt.merge(ds, on='id_number')\n",
    "#print(dt)\n",
    "dt=dt.merge(dfemploee, on='id_number')\n",
    "\n",
    "dt=dt[['surname','salary','cost']]\n",
    "dt['sum to payment']=dt['salary']-dt['cost']\n",
    "dt\n"
   ]
  },
  {
   "cell_type": "code",
   "execution_count": null,
   "id": "dba5bd3a-c221-4e76-9ff7-1cab108f254b",
   "metadata": {},
   "outputs": [],
   "source": []
  },
  {
   "cell_type": "code",
   "execution_count": 49,
   "id": "01ea3cf2-6a38-4447-8b9a-baeb19f14a7a",
   "metadata": {},
   "outputs": [
    {
     "data": {
      "text/plain": [
       "0    11\n",
       "1    11\n",
       "2    11\n",
       "0    11\n",
       "1    11\n",
       "2    11\n",
       "0    12\n",
       "1    12\n",
       "2    12\n",
       "0    12\n",
       "1    12\n",
       "2    12\n",
       "Name: month, dtype: int64"
      ]
     },
     "execution_count": 49,
     "metadata": {},
     "output_type": "execute_result"
    }
   ],
   "source": [
    "month=pd.concat([dfcheck.month,dftimesheet.month])\n",
    "mnth=month.sort_values()\n",
    "mnth"
   ]
  },
  {
   "cell_type": "code",
   "execution_count": 66,
   "id": "df2de1eb-1f6e-498e-9d5e-95e742b0c513",
   "metadata": {},
   "outputs": [
    {
     "data": {
      "application/vnd.jupyter.widget-view+json": {
       "model_id": "88484fd32b0f44c8bfa79f166cdc74c2",
       "version_major": 2,
       "version_minor": 0
      },
      "text/plain": [
       "interactive(children=(SelectMultiple(description='interval', options=(11, 12), value=()), Output()), _dom_clas…"
      ]
     },
     "metadata": {},
     "output_type": "display_data"
    },
    {
     "data": {
      "image/png": "[encoded data removed]",
      "text/plain": [
       "<Figure size 432x288 with 1 Axes>"
      ]
     },
     "metadata": {
      "needs_background": "light"
     },
     "output_type": "display_data"
    }
   ],
   "source": [
    "    \n",
    "@widgets.interact(interval=widgets.SelectMultiple(options=mnth.unique()))\n",
    "def f(interval):\n",
    "    dffilter=dftimesheet['month'].isin(interval)\n",
    "    df2=dftimesheet[dffilter]\n",
    "    \n",
    "    df=dfemploee.merge(dftariff)\n",
    "    dt=df.merge(df2)\n",
    "    dt['salary']=dt['payment']*dt['hours']\n",
    "    #dt\n",
    "    dt=dt.groupby('id_number').sum().reset_index()\n",
    "    #print(dt)\n",
    "    dffilter=dfcheck['month'].isin(interval)\n",
    "    df3=dfcheck[dffilter]\n",
    "    ds=df3.merge(dfservice)\n",
    "    ds=ds.groupby('id_number').sum().reset_index()\n",
    "    \n",
    "    dt=dt.merge(ds, on='id_number')\n",
    "    #print(dt)\n",
    "    dt=dt.merge(dfemploee, on='id_number')\n",
    "\n",
    "    dt=dt[['surname','salary','cost']]\n",
    "    dt['sum to payment']=dt['salary']-dt['cost']\n",
    "    dt\n",
    "    ax=dt.plot(x='surname',y='salary',color='g',kind='bar')\n",
    "    dt.plot(x='surname',y='cost',kind='bar')\n",
    "    dt.plot(x='surname',y='sum to payment',kind='bar')\n",
    "    \n",
    "    print(dt)\n",
    "   \n",
    "    return \n",
    "### Через Ctrl + ЛКМ вобираємо місяці які цікавлять"
   ]
  },
  {
   "cell_type": "markdown",
   "id": "fc64bb5c-2397-4ad0-9b73-3de36dea84cf",
   "metadata": {},
   "source": [
    "# д)"
   ]
  },
  {
   "cell_type": "code",
   "execution_count": 88,
   "id": "3d71d7f2-6174-42f1-a8da-d0f65541dd20",
   "metadata": {},
   "outputs": [],
   "source": [
    "df=dfcheck.merge(dfservice)\n",
    "df\n",
    "df=df.groupby('name').sum().reset_index()\n",
    "df=df[['name', 'cost']]"
   ]
  },
  {
   "cell_type": "markdown",
   "id": "8f2a3942-1e26-4506-970f-621594d16d43",
   "metadata": {},
   "source": [
    "# е)"
   ]
  },
  {
   "cell_type": "code",
   "execution_count": 90,
   "id": "8129ad1a-d8db-4793-91b6-6e39693e0147",
   "metadata": {},
   "outputs": [
    {
     "data": {
      "image/png": "[encoded data removed]",
      "text/plain": [
       "<Figure size 432x288 with 1 Axes>"
      ]
     },
     "metadata": {
      "needs_background": "light"
     },
     "output_type": "display_data"
    }
   ],
   "source": [
    "y=df.plot(x='name',y='cost',kind='bar')"
   ]
  },
  {
   "cell_type": "code",
   "execution_count": null,
   "id": "f1bbfbb1-c6b6-4090-be04-e15e65125847",
   "metadata": {},
   "outputs": [],
   "source": []
  }
 ],
 "metadata": {
  "kernelspec": {
   "display_name": "Python 3 (ipykernel)",
   "language": "python",
   "name": "python3"
  },
  "language_info": {
   "codemirror_mode": {
    "name": "ipython",
    "version": 3
   },
   "file_extension": ".py",
   "mimetype": "text/x-python",
   "name": "python",
   "nbconvert_exporter": "python",
   "pygments_lexer": "ipython3",
   "version": "3.9.12"
  }
 },
 "nbformat": 4,
 "nbformat_minor": 5
}
