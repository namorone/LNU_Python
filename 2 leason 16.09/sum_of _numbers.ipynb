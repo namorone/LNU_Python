{
 "cells": [
  {
   "cell_type": "code",
   "execution_count": 2,
   "id": "f93d655f-e20d-49ba-bc8e-8dad50ea4208",
   "metadata": {},
   "outputs": [
    {
     "name": "stdout",
     "output_type": "stream",
     "text": [
      "5\n"
     ]
    }
   ],
   "source": [
    "def sum_of_numbers(k):\n",
    "    sum = 0\n",
    "    for i in str(abs((k))):\n",
    "        sum += int(i)\n",
    "    return sum\n",
    "\n",
    "print(sum_of_numbers(-14))"
   ]
  },
  {
   "cell_type": "code",
   "execution_count": 6,
   "id": "fb3c421b-e2ad-4879-a4c1-1c828fb1e73d",
   "metadata": {},
   "outputs": [
    {
     "name": "stdout",
     "output_type": "stream",
     "text": [
      "8\n"
     ]
    }
   ],
   "source": [
    "def sum_of_numbers(k):\n",
    "    \n",
    "    sum=0\n",
    "    number = abs(k);\n",
    "    while number!=0:\n",
    "        sum += number%10\n",
    "        number//=10\n",
    "    return sum\n",
    "\n",
    "print(sum_of_numbers(17))"
   ]
  },
  {
   "cell_type": "code",
   "execution_count": null,
   "id": "eb120517-14e8-459e-bd97-11f71b770ff9",
   "metadata": {},
   "outputs": [],
   "source": []
  }
 ],
 "metadata": {
  "kernelspec": {
   "display_name": "Python 3 (ipykernel)",
   "language": "python",
   "name": "python3"
  },
  "language_info": {
   "codemirror_mode": {
    "name": "ipython",
    "version": 3
   },
   "file_extension": ".py",
   "mimetype": "text/x-python",
   "name": "python",
   "nbconvert_exporter": "python",
   "pygments_lexer": "ipython3",
   "version": "3.9.12"
  }
 },
 "nbformat": 4,
 "nbformat_minor": 5
}
