{
 "cells": [
  {
   "cell_type": "code",
   "execution_count": 23,
   "id": "6e3b9fac-fff7-4b10-b70a-79d38d4795d8",
   "metadata": {},
   "outputs": [
    {
     "name": "stdin",
     "output_type": "stream",
     "text": [
      " 1\n",
      " -1\n"
     ]
    },
    {
     "data": {
      "text/plain": [
       "2.0166007118715705"
      ]
     },
     "execution_count": 23,
     "metadata": {},
     "output_type": "execute_result"
    }
   ],
   "source": [
    "\"\"\"1.1.1 (1)\"\"\"\n",
    "import numpy as np\n",
    "x = float(input())\n",
    "y = float(input())\n",
    "def res_function(x , y):\n",
    "    r = 0.0 \n",
    "    if x+y == 0:\n",
    "       r = np.exp(x/2) + np.exp(y)\n",
    "    else:\n",
    "       r = np.sin(x+y) + 2*np.cos(x+y)\n",
    "    return r\n",
    "    \n",
    "res_function(x , y)"
   ]
  },
  {
   "cell_type": "code",
   "execution_count": 20,
   "id": "fc4fbf7b-1bde-4f27-aa9d-6fe2dc177816",
   "metadata": {},
   "outputs": [
    {
     "name": "stdout",
     "output_type": "stream",
     "text": [
      "['r', 's', 'a', 'n', 'd', 'e', 'g'] "
     ]
    }
   ],
   "source": [
    "#\"\"\"1.1.2\"\"\"\n",
    "lst = [['b','a'], ['h','a','j','a','t','a'], [], ['v','a','e'], ['r','s','a','n','d','e','g']]\n",
    "vowels = 'AaEeIiOoUu'"
   ]
  },
  {
   "cell_type": "code",
   "execution_count": 22,
   "id": "48b6b450-c3b7-4005-a4f4-ef19abab684d",
   "metadata": {},
   "outputs": [
    {
     "name": "stdout",
     "output_type": "stream",
     "text": [
      "['r', 's', 'a', 'n', 'd', 'e', 'g'] "
     ]
    }
   ],
   "source": [
    "listOfSizes = []\n",
    "for i in lst:\n",
    "    listOfSizes.append(len(i))\n",
    "    \n",
    "maxSize = max(listOfSizes)\n",
    "\n",
    "for i in lst:\n",
    "    if len(i) == maxSize:\n",
    "        print(i,  end = ' ')"
   ]
  },
  {
   "cell_type": "code",
   "execution_count": 100,
   "id": "5663422b-2188-4d10-bde2-4175b1142210",
   "metadata": {},
   "outputs": [
    {
     "name": "stdout",
     "output_type": "stream",
     "text": [
      "Borovets: 26\n",
      "Brezin: 24\n",
      "Hatala: 15\n",
      "Hoshko: 12\n"
     ]
    }
   ],
   "source": [
    "#   1.1.13\n",
    "dict_of = {'Borovets':(1,22,3,4,6), 'Brezin':(3,8,5,6,7,10), 'Hatala':(12,6,8,9), 'Hoshko':(4,5,6,7,8)}\n",
    "\n",
    "def suming (dict_of):\n",
    "    for v in dict_of:\n",
    "        sum=0\n",
    "        y=1\n",
    "        #print(dict_of[v])\n",
    "        for j in dict_of[v]:\n",
    "            if y % 2 == 0:\n",
    "                #print(j)\n",
    "                sum += j\n",
    "            y=y+1\n",
    "            #print(\"y=\",y)\n",
    "            #dict_of_surnames_and_sum.update({dict_of[v]:sum})\n",
    "        dict_of[v]=sum\n",
    "    \n",
    "def sort_and_print(dict_of):\n",
    "    dict_of={k: v for k, v in sorted(dict_of.items(), key=lambda item: -item[1])}\n",
    "    for surname, value in dict_of.items():\n",
    "        print(surname, end=\": \")\n",
    "        print(value)\n",
    "\n",
    "        \n",
    "        \n",
    "suming(dict_of)\n",
    "sort_and_print(dict_of)\n"
   ]
  },
  {
   "cell_type": "code",
   "execution_count": null,
   "id": "286bba86-3235-4e04-8315-5a8cad82a933",
   "metadata": {},
   "outputs": [],
   "source": []
  }
 ],
 "metadata": {
  "kernelspec": {
   "display_name": "Python 3 (ipykernel)",
   "language": "python",
   "name": "python3"
  },
  "language_info": {
   "codemirror_mode": {
    "name": "ipython",
    "version": 3
   },
   "file_extension": ".py",
   "mimetype": "text/x-python",
   "name": "python",
   "nbconvert_exporter": "python",
   "pygments_lexer": "ipython3",
   "version": "3.9.12"
  }
 },
 "nbformat": 4,
 "nbformat_minor": 5
}
