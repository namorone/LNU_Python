{
 "cells": [
  {
   "cell_type": "code",
   "execution_count": 91,
   "id": "70c972dc-3ca4-4bb3-970b-e5fcf1e21dbc",
   "metadata": {},
   "outputs": [],
   "source": [
    "import datetime as dt\n",
    "import math as mt"
   ]
  },
  {
   "cell_type": "code",
   "execution_count": 92,
   "id": "cd82f959-bfc8-4fda-be3f-9887e92f086f",
   "metadata": {},
   "outputs": [],
   "source": [
    "class Citizen:\n",
    "    def __init__(self, name, surname, date_birth):\n",
    "        self.name = name\n",
    "        self.surname =  surname\n",
    "        self.date_birth = date_birth\n",
    "        \n",
    "        \n",
    "    @property\n",
    "    def name(self):\n",
    "        return self._name\n",
    "    \n",
    "    @name.setter\n",
    "    def name(self,value ):\n",
    "        self._name = value\n",
    "        \n",
    "    @property\n",
    "    def surname(self):\n",
    "        return self._surname\n",
    "    \n",
    "    @surname.setter\n",
    "    def surname(self,value ):\n",
    "        self._surname = value\n",
    "    \n",
    "    @property\n",
    "    def date_birth(self):\n",
    "        return self._date_birth\n",
    "    \n",
    "    @date_birth.setter\n",
    "    def date_birth(self, value):\n",
    "        self._date_birth = value\n",
    "    \n",
    "        \n",
    "    def age(self):\n",
    "        new = dt.datetime.today()\n",
    "        birth = dt.datetime.strptime(self.date_birth, \"%Y-%m-%d\")\n",
    "        age = new - birth\n",
    "        years = age.total_seconds()\n",
    "        years_1 = years / (365 * 60 * 60 * 24)\n",
    "        years_2 = mt.floor(years_1)\n",
    "        return years_2\n",
    "         \n",
    "        \n",
    "        \n",
    "    def __str__(self):\n",
    "        return print(f' Name : {self.name}\\n Surname : {self.surname}\\n date of birth : {self.date_birth}')"
   ]
  },
  {
   "cell_type": "code",
   "execution_count": 93,
   "id": "b9c5d23e-6921-4487-828b-a703456310d3",
   "metadata": {},
   "outputs": [],
   "source": [
    "class BankAccount:\n",
    "    def __init__(self, card_number, amount_of_money):\n",
    "        self.card_number = card_number\n",
    "        self.amount_of_money = amount_of_money\n",
    "        \n",
    "    @property\n",
    "    def card_number(self):\n",
    "        return self._card_number\n",
    "    \n",
    "    @card_number.setter\n",
    "    def card_number(self,value ):\n",
    "        self._card_number = value\n",
    "        \n",
    "    @property\n",
    "    def amount_of_money(self):\n",
    "        return self._amount_of_money\n",
    "    \n",
    "    @amount_of_money.setter\n",
    "    def amount_of_money(self,value ):\n",
    "        self._amount_of_money = value\n",
    "        \n",
    "    def __str__(self):\n",
    "        return print(f' ID  : {self.card_number}\\n Money on balans : {self.amount_of_money}')\n",
    "        "
   ]
  },
  {
   "cell_type": "code",
   "execution_count": 131,
   "id": "f2df7587-ca1e-4e96-8dbd-e3c74693637d",
   "metadata": {},
   "outputs": [],
   "source": [
    "class Client(Citizen, BankAccount,):\n",
    "    def __init__(self, name, surname, date_birth, card_number, amount_of_money):\n",
    "        Citizen.__init__(self, name, surname, date_birth)\n",
    "        BankAccount.__init__(self, card_number, amount_of_money)\n",
    "        \n",
    "        \n",
    "    def __str__(self):\n",
    "        return print(f' Name : {self.name}\\n Surname : {self.surname}\\n date of birth : {self.date_birth}\\n '\n",
    "                     f'ID  : {self.card_number}\\n Money on balans : {self.amount_of_money}\\n '\n",
    "                     f'Age : {self.age()} years ')\n",
    "    \n",
    "    def print_sum_money(self):\n",
    "        print(f'SUM:   Client : {self.name}  {self.surname}; Account-balans are : {self.amount_of_money}, '\n",
    "              f'Date : {dt.datetime.today()}')\n",
    "        \n",
    "    def withdrawal(self, get_money):\n",
    "            if self._amount_of_money < get_money:\n",
    "                print('INFO:   In  bank acoount not enough money!')\n",
    "\n",
    "            else:\n",
    "                self._amount_of_money -= get_money\n",
    "                print(f'WITHDRAWAL:   Client : {self.name} {self.surname} : has successfully withdrawn  : '\n",
    "                      f'{get_money} money , Date : {dt.datetime.today()}')\n",
    "            return self._amount_of_money\n",
    "        \n",
    "    def addition(self, add_money):\n",
    "        self._amount_of_money += add_money\n",
    "        print(f'ADDITION:   Client : {self.name} {self.surname} topped up the account on {add_money} money,'\n",
    "              f' Date : {dt.datetime.today()}')\n",
    "        return self._amount_of_money\n",
    "    \n",
    "    def has_credit(self):\n",
    "        return False\n",
    "    "
   ]
  },
  {
   "cell_type": "code",
   "execution_count": 132,
   "id": "a216e069-a59f-4e4c-a08c-7d1fd04e399f",
   "metadata": {},
   "outputs": [],
   "source": [
    "class Credit:\n",
    "    def __init__(self, date_last_reg, sum_open_credits, remnant):\n",
    "        self.date_last_reg = date_last_reg\n",
    "        self.sum_open_credits = sum_open_credits\n",
    "        self.remnant = remnant\n",
    "        \n",
    "    @property\n",
    "    def date_last_reg(self):\n",
    "        return self._date_last_reg\n",
    "    \n",
    "    @date_last_reg.setter\n",
    "    def date_last_reg(self,value ):\n",
    "        self._date_last_reg = value\n",
    "    \n",
    "    @property\n",
    "    def sum_open_credits(self):\n",
    "        return self._sum_open_credits\n",
    "    \n",
    "    @sum_open_credits.setter\n",
    "    def sum_open_credits(self,value ):\n",
    "        self._sum_open_credits = value\n",
    "        \n",
    "    @property\n",
    "    def remnant(self):\n",
    "        return self._remnant\n",
    "    \n",
    "    @remnant.setter\n",
    "    def remnant(self,value ):\n",
    "        self._remnant = value\n",
    "        \n",
    "    \n",
    "        "
   ]
  },
  {
   "cell_type": "code",
   "execution_count": 139,
   "id": "e99cd729-7e34-4ac4-9065-dec7d995528b",
   "metadata": {},
   "outputs": [],
   "source": [
    "class VIPClient(Client, Credit):\n",
    "    def __init__(self, name, surname, date_birth, card_number, amount_of_money,  date_last_reg, sum_open_credits, remnant):\n",
    "        Client.__init__(self, name, surname, date_birth, card_number, amount_of_money)\n",
    "        Credit.__init__(self, date_last_reg, sum_open_credits, remnant)\n",
    "    \n",
    "    def get_credit(self, credit, p):\n",
    "        p = p/100\n",
    "        if self.age() in range(30, 51):\n",
    "            percent = p\n",
    "        else:\n",
    "            percent = p/2\n",
    "        if credit > self.amount_of_money*percent:\n",
    "                print(f'INFO:   Credit sum must be not more : {self.amount_of_money*percent} !')\n",
    "        else:\n",
    "            self.sum_open_credits += credit\n",
    "            self.remnant += credit\n",
    "            self.date_last_reg = dt.datetime.today()\n",
    "            print(f'ISSUING A CREDIT:   Client : {self.name} {self.surname} gets : {credit} money  on credit account!'\n",
    "                  f'Date : {dt.datetime.today()}')\n",
    "            \n",
    "    def withdrawal(self, get_money):\n",
    "        if self.amount_of_money+self.remnant < get_money:\n",
    "            print('INFO:    In  account not enough money!')\n",
    "        else:\n",
    "            print(f'WITHDRAWAL:    Client : {self.name} {self.surname} has successfully withdrawn  : {get_money} money ')\n",
    "            self.amount_of_money -= get_money\n",
    "            if self.amount_of_money < 0:\n",
    "                self.remnant += self.amount_of_money\n",
    "                print(f'INFO:    Client : {self.name} {self.surname} take off  : {abs(self.amount_of_money)} credit money!'\n",
    "                      f' Date {dt.datetime.today()}')\n",
    "                self.amount_of_money = 0\n",
    "        \n",
    "        return self.amount_of_money\n",
    "   \n",
    "    def return_credit(self):\n",
    "        self.remnant -= self.sum_open_credits\n",
    "        if self.remnant < 0:\n",
    "            self.amount_of_money += self.remnant\n",
    "            self.remnant = 0\n",
    "            self.sum_open_credits = 0\n",
    "            print(f'CREDIT RETURNED:    Client :  {self.name} {self.surname} has returned : {self.sum_open_credits} '\n",
    "                  f'credit-money , Date : {dt.datetime.today()} ')\n",
    "            if self.amount_of_money < 0:\n",
    "                self.sum_open_credits = abs(self.amount_of_money)\n",
    "                print('INFO:    In balans not enough money to pay off the  all loan \\n'\n",
    "                      f'Client must to  pay  more : {self.amount_of_money} ')\n",
    "                self.amount_of_money = 0\n",
    "                return self.sum_open_credits\n",
    "        else:\n",
    "            print(f'CREDIT RETURNED:    Client :  {self.name} {self.surname} has returned : {self.sum_open_credits} '\n",
    "                  f'credit-money , Date : {dt.datetime.today()} ')\n",
    "            \n",
    "    def print_sum_money(self):\n",
    "        print(f'PRINTING:    Client : {self.name}  {self.surname}; Account-balans are : {self.amount_of_money}, '\n",
    "              f' Credit account: Remnant : {self.remnant}, Loan amount : {self.sum_open_credits},'\n",
    "              f' Date : {dt.datetime.today()}')\n",
    "        \n",
    "    def has_credit(self):\n",
    "        if self.sum_open_credits > 0:\n",
    "            return True\n",
    "        else:\n",
    "            return False\n",
    "            \n",
    "   \n",
    "        "
   ]
  },
  {
   "cell_type": "markdown",
   "id": "ba6e0278-b083-448e-8830-7d23081a8545",
   "metadata": {},
   "source": [
    "# 2"
   ]
  },
  {
   "cell_type": "code",
   "execution_count": 149,
   "id": "d674e692-9e54-4159-a8b6-bbc0cb62debf",
   "metadata": {},
   "outputs": [],
   "source": [
    "client_1 = Client('Volodia', 'Tutko', '2004-03-12', 101123, 12000)\n",
    "client_2 = Client('Andy', 'Bar', '1993-09-02', 108910, 45000)\n",
    "client_3 = Client('Andriy', 'Vish', '1999-05-18', 129870, 120000)\n",
    "client_4 = Client('Oleg', 'Stiv', '1994-03-04', 103100, 56900)\n",
    "client_10 = VIPClient('Pablo', 'Lev', '1989-05-18', 982671, 120000, '2021-03-18', 0, 0)\n",
    "client_11 = VIPClient('Igor', 'Bud', '1986-02-19', 782100, 60000, '2022-08-15', 0, 0)\n",
    "client_12 = VIPClient('Mykola', 'Zuk', '1986-02-19', 980231, 112500, '2022-08-15', 3000, 20000)\n",
    "client_13 = VIPClient('Sergio', 'Pei', '1986-02-19', 863090, 10000, '2022-08-15', 0, 0)"
   ]
  },
  {
   "cell_type": "markdown",
   "id": "f98eeb12-8a4b-4422-9c1d-4f2b0db0ff06",
   "metadata": {},
   "source": [
    "# 3"
   ]
  },
  {
   "cell_type": "markdown",
   "id": "64a5e76d-436e-458e-800c-4ad8c702262f",
   "metadata": {},
   "source": [
    "## а)"
   ]
  },
  {
   "cell_type": "code",
   "execution_count": 150,
   "id": "d4f2a265-5b07-4972-a540-faa8e4409ffc",
   "metadata": {
    "tags": []
   },
   "outputs": [
    {
     "name": "stdout",
     "output_type": "stream",
     "text": [
      "PRINTING:    Client : Pablo  Lev; Account-balans are : 120000,  Credit account: Remnant : 0, Loan amount : 0, Date : 2022-11-28 22:30:55.310336\n",
      "INFO:    In  account not enough money!\n",
      "ADDITION:   Client : Pablo Lev topped up the account on 1000 money, Date : 2022-11-28 22:30:55.311332\n",
      "INFO:   Credit sum must be not more : 60500.0 !\n",
      "PRINTING:    Client : Pablo  Lev; Account-balans are : 121000,  Credit account: Remnant : 0, Loan amount : 0, Date : 2022-11-28 22:30:55.311332\n",
      "CREDIT RETURNED:    Client :  Pablo Lev has returned : 0 credit-money , Date : 2022-11-28 22:30:55.311332 \n",
      "PRINTING:    Client : Igor  Bud; Account-balans are : 60000,  Credit account: Remnant : 0, Loan amount : 0, Date : 2022-11-28 22:30:55.312330\n",
      "WITHDRAWAL:    Client : Igor Bud has successfully withdrawn  : 30000 money \n",
      "SUM:   Client : Volodia  Tutko; Account-balans are : 12000, Date : 2022-11-28 22:30:55.312330\n",
      "WITHDRAWAL:   Client : Volodia Tutko : has successfully withdrawn  : 1500 money , Date : 2022-11-28 22:30:55.312330\n",
      "ADDITION:   Client : Volodia Tutko topped up the account on 1000 money, Date : 2022-11-28 22:30:55.312330\n",
      "SUM:   Client : Volodia  Tutko; Account-balans are : 12000, Date : 2022-11-28 22:30:55.312330\n",
      "WITHDRAWAL:   Client : Volodia Tutko : has successfully withdrawn  : 11000 money , Date : 2022-11-28 22:30:55.312330\n",
      "ADDITION:   Client : Volodia Tutko topped up the account on 1000 money, Date : 2022-11-28 22:30:55.312330\n",
      "SUM:   Client : Andy  Bar; Account-balans are : 45000, Date : 2022-11-28 22:30:55.312330\n",
      "WITHDRAWAL:   Client : Andy Bar : has successfully withdrawn  : 700 money , Date : 2022-11-28 22:30:55.312330\n",
      "ADDITION:   Client : Andy Bar topped up the account on 1000 money, Date : 2022-11-28 22:30:55.312330\n",
      "SUM:   Client : Andriy  Vish; Account-balans are : 120000, Date : 2022-11-28 22:30:55.312330\n",
      "WITHDRAWAL:   Client : Andriy Vish : has successfully withdrawn  : 1760 money , Date : 2022-11-28 22:30:55.313330\n",
      "ADDITION:   Client : Andriy Vish topped up the account on 100000 money, Date : 2022-11-28 22:30:55.313330\n"
     ]
    },
    {
     "data": {
      "text/plain": [
       "218240"
      ]
     },
     "execution_count": 150,
     "metadata": {},
     "output_type": "execute_result"
    }
   ],
   "source": [
    "client_10.print_sum_money()\n",
    "client_10.withdrawal(130000)\n",
    "client_10.addition(1000)\n",
    "client_10.get_credit(500000, 50)\n",
    "client_10.print_sum_money()\n",
    "client_10.return_credit()\n",
    "client_11.print_sum_money()\n",
    "client_11.withdrawal(30000)\n",
    "client_1.print_sum_money()\n",
    "client_1.withdrawal(1500)\n",
    "client_1.addition(1000)\n",
    "client.print_sum_money()\n",
    "client.withdrawal(11000)\n",
    "client.addition(1000)\n",
    "client_2.print_sum_money()\n",
    "client_2.withdrawal(700)\n",
    "client_2.addition(1000)\n",
    "client_3.print_sum_money()\n",
    "client_3.withdrawal(1760)\n",
    "client_3.addition(100000)"
   ]
  },
  {
   "cell_type": "markdown",
   "id": "b00b4bff-3fe1-4b73-bca3-247115c942f9",
   "metadata": {},
   "source": [
    "## б)"
   ]
  },
  {
   "cell_type": "code",
   "execution_count": 151,
   "id": "22836813-47da-4ede-88bd-6cf7a8adbe2c",
   "metadata": {},
   "outputs": [
    {
     "name": "stdout",
     "output_type": "stream",
     "text": [
      "{'Bar Andy': 45300, 'Bud Igor': 30000, 'Lev Pablo': 121000, 'Pei Sergio': 10000, 'Stiv Oleg': 56900, 'Tutko Volodia': 11500, 'Vish Andriy': 218240, 'Zuk Mykola': 132500, 'Summary money all clients': 625440}\n"
     ]
    }
   ],
   "source": [
    "clients = [str(client_10.surname) + ' ' + str(client_10.name), client_10.amount_of_money + client_10.remnant,\n",
    "           str(client_11.surname) + ' ' + str(client_11.name), client_11.amount_of_money + client_11.remnant,\n",
    "           str(client_12.surname) + ' ' + str(client_12.name), client_12.amount_of_money + client_12.remnant,\n",
    "           str(client_13.surname) + ' ' + str(client_13.name), client_13.amount_of_money + client_13.remnant,\n",
    "           str(client_1.surname) + ' ' + str(client_1.name), client_1.amount_of_money,\n",
    "           str(client_2.surname) + ' ' + str(client_2.name), client_2.amount_of_money,\n",
    "           str(client_3.surname) + ' ' + str(client_3.name), client_3.amount_of_money,\n",
    "           str(client_4.surname) + ' ' + str(client_4.name), client_4.amount_of_money]\n",
    "\n",
    "clients_d = {clients[i]: clients[i+1] for i in range(0, len(clients), 2)}\n",
    "\n",
    "ak = clients_d.keys()\n",
    "list_ak = list(ak)\n",
    "list_ak.sort()\n",
    "\n",
    "clients_d1 = {}\n",
    "for k in list_ak:\n",
    "    clients_d1[k] = clients_d[k]\n",
    "\n",
    "summary = 0\n",
    "for key, value in clients_d1.items():\n",
    "    summary += value\n",
    "\n",
    "clients_d1['Summary money all clients'] = summary\n",
    "print(clients_d1)"
   ]
  },
  {
   "cell_type": "markdown",
   "id": "23683d34-ae29-4388-a6a4-a71a13673ec6",
   "metadata": {},
   "source": [
    "## в)"
   ]
  },
  {
   "cell_type": "code",
   "execution_count": 153,
   "id": "b0e69d96-6169-4983-8fe3-493c63206881",
   "metadata": {
    "tags": []
   },
   "outputs": [
    {
     "name": "stdout",
     "output_type": "stream",
     "text": [
      "Clients with credit:  {'Zuk': '3000'}\n"
     ]
    }
   ],
   "source": [
    "all_clients = [client, client_1, client_2, client_3, client_10, client_11, client_12, client_13]\n",
    "clients = {}\n",
    "for i in all_clients:\n",
    "    if i.has_credit():\n",
    "        clients.update({str(i.surname) : str(i.sum_open_credits)})\n",
    "\n",
    "\n",
    "sorted_clients = sorted(clients.items(), key=lambda x: x[1])\n",
    "print('Clients with credit: ', clients)\n"
   ]
  },
  {
   "cell_type": "code",
   "execution_count": null,
   "id": "620dbbd1-8594-4951-9d6c-1e16989b038e",
   "metadata": {},
   "outputs": [],
   "source": []
  }
 ],
 "metadata": {
  "kernelspec": {
   "display_name": "Python 3 (ipykernel)",
   "language": "python",
   "name": "python3"
  },
  "language_info": {
   "codemirror_mode": {
    "name": "ipython",
    "version": 3
   },
   "file_extension": ".py",
   "mimetype": "text/x-python",
   "name": "python",
   "nbconvert_exporter": "python",
   "pygments_lexer": "ipython3",
   "version": "3.9.12"
  }
 },
 "nbformat": 4,
 "nbformat_minor": 5
}
