{
 "cells": [
  {
   "cell_type": "code",
   "execution_count": 21,
   "metadata": {
    "id": "NhbGoAPzo3Cu"
   },
   "outputs": [],
   "source": [
    "import datetime as dt\n",
    "import math as mt"
   ]
  },
  {
   "cell_type": "code",
   "execution_count": 22,
   "metadata": {
    "id": "ZB0midqUpJst"
   },
   "outputs": [],
   "source": [
    "# Перевірка з початку завдання\n",
    "class Citizen:\n",
    "    def __init__(self, name, surname, date_birth):\n",
    "        self.name = name\n",
    "        self.surname = surname\n",
    "        self.date_birth = date_birth\n",
    "\n",
    "    @property\n",
    "    def name(self):\n",
    "        return self._name\n",
    "\n",
    "    @name.setter\n",
    "    def name(self, value):\n",
    "        self._name = value\n",
    "\n",
    "    @property\n",
    "    def surname(self):\n",
    "        return self._surname\n",
    "\n",
    "    @surname.setter\n",
    "    def surname(self, value):\n",
    "        self._surname = value\n",
    "\n",
    "    @property\n",
    "    def date_birth(self):\n",
    "        return self._date_birth\n",
    "\n",
    "    @date_birth.setter\n",
    "    def date_birth(self, value):\n",
    "        self._date_birth = value\n",
    "\n",
    "    def __str__(self):\n",
    "        return print(f' Name : {self.name}\\n Surname : {self.surname}\\n date of birth : {self.date_birth}')\n",
    "\n",
    "    def age(self):\n",
    "        new = dt.datetime.today()\n",
    "        birth = dt.datetime.strptime(self.date_birth, \"%Y-%m-%d\")\n",
    "        age = new - birth\n",
    "        years = age.total_seconds()\n",
    "        years1 = years / (365 * 60 * 60 * 24)\n",
    "        years2 = mt.floor(years1)\n",
    "        return years2\n",
    "\n",
    "\n",
    "\n"
   ]
  },
  {
   "cell_type": "code",
   "execution_count": 23,
   "metadata": {
    "id": "AAX_C0H7pRE7"
   },
   "outputs": [],
   "source": [
    "class BankAccount:\n",
    "    def __init__(self, num_account, sum_money):\n",
    "        self.num_account = num_account\n",
    "        self.sum_money = sum_money\n",
    "\n",
    "    @property\n",
    "    def num_account(self):\n",
    "        return self._num_account\n",
    "\n",
    "    @num_account.setter\n",
    "    def num_account(self, value):\n",
    "        self._num_account = value\n",
    "\n",
    "    @property\n",
    "    def sum_money(self):\n",
    "        return self._sum_money\n",
    "\n",
    "    @sum_money.setter\n",
    "    def sum_money(self, value):\n",
    "        self._sum_money = value\n",
    "\n",
    "    def __str__(self):\n",
    "            return print(f' ID  : {self.num_account}\\n Money on balans : {self.sum_money}')\n"
   ]
  },
  {
   "cell_type": "code",
   "execution_count": 24,
   "metadata": {
    "id": "WQ1iMF0rpev8"
   },
   "outputs": [],
   "source": [
    "class Client(Citizen, BankAccount):\n",
    "    def __init__(self, name, surname, date_birth, num_account, sum_money):\n",
    "        Citizen.__init__(self, name, surname, date_birth)\n",
    "        BankAccount.__init__(self, num_account, sum_money)\n",
    "\n",
    "    def __str__(self):\n",
    "        return print(f' Name : {self.name}\\n Surname : {self.surname}\\n date of birth : {self.date_birth}\\n '\n",
    "                     f'ID  : {self.num_account}\\n Money on balans : {self.sum_money}\\n '\n",
    "                     f'Age : {self.age()} years ')\n",
    "\n",
    "    def print_sum_money(self):\n",
    "        print(f'[PRINTING] Client : {self.name}  {self.surname}; Account-balans are : {self.sum_money}, '\n",
    "              f'Date : {dt.datetime.today()}')\n",
    "\n",
    "    def withdrawal(self, get_money):\n",
    "            if self._sum_money < get_money:\n",
    "                print('[INFO] In  bank acoount not enough money!')\n",
    "\n",
    "            else:\n",
    "                self._sum_money -= get_money\n",
    "                print(f'[WITHDRAWAL] Client : {self.name} {self.surname} : has successfully withdrawn  : '\n",
    "                      f'{get_money} money , Date : {dt.datetime.today()}')\n",
    "            return self._sum_money\n",
    "\n",
    "    def addition(self, add_money):\n",
    "        self._sum_money += add_money\n",
    "        print(f'[ADDITION] Client : {self.name} {self.surname} topped up the account on {add_money} money,'\n",
    "              f' Date : {dt.datetime.today()}')\n",
    "        return self._sum_money\n",
    "\n",
    "    def has_credit(self):\n",
    "        return False\n",
    "\n"
   ]
  },
  {
   "cell_type": "code",
   "execution_count": 25,
   "metadata": {
    "id": "Y0o08GippjWq"
   },
   "outputs": [],
   "source": [
    "class CreditAccount:\n",
    "    def __init__(self, date_credit, credit_sum, credit_remnant):\n",
    "        self.date_credit = date_credit\n",
    "        self.credit_sum = credit_sum\n",
    "        self.credit_remnant = credit_remnant\n",
    "\n",
    "    @property\n",
    "    def date_credit(self):\n",
    "        return self._date_credit\n",
    "\n",
    "    @date_credit.setter\n",
    "    def date_credit(self, value):\n",
    "        self._date_credit = value\n",
    "\n",
    "    @property\n",
    "    def credit_sum(self):\n",
    "        return self._credit_sum\n",
    "\n",
    "    @credit_sum.setter\n",
    "    def credit_sum(self, value):\n",
    "        self._credit_sum = value\n",
    "\n",
    "    @property\n",
    "    def credit_remnant(self):\n",
    "        return self._credit_remnant\n",
    "\n",
    "    @credit_remnant.setter\n",
    "    def credit_remnant(self, value):\n",
    "        self._credit_remnant = value\n",
    "\n"
   ]
  },
  {
   "cell_type": "code",
   "execution_count": 26,
   "metadata": {
    "id": "uSGbOcqzpnUz"
   },
   "outputs": [],
   "source": [
    "class VipClient(Client, CreditAccount):\n",
    "    def __init__(self, name, surname, date_birth, num_account, sum_money, date_credit, credit_sum, credit_remnant):\n",
    "        Client.__init__(self, name, surname, date_birth, num_account, sum_money)\n",
    "        CreditAccount.__init__(self, date_credit, credit_sum, credit_remnant)\n",
    "\n",
    "    def get_credit(self, credit, p):\n",
    "        p = p/100\n",
    "        if self.age() in range(30, 51):\n",
    "            percent = p\n",
    "        else:\n",
    "            percent = p/2\n",
    "        if credit > self.sum_money*percent:\n",
    "                print(f'[INFO] Credit sum must be not more : {self.sum_money*percent} !')\n",
    "        else:\n",
    "            self.credit_sum += credit\n",
    "            self.credit_remnant += credit\n",
    "            self.date_credit = dt.datetime.today()\n",
    "            print(f'[ISSUING A CREDIT] Client : {self.name} {self.surname} gets : {credit} money  on credit account!'\n",
    "                  f'Date : {dt.datetime.today()}')\n",
    "\n",
    "    def withdrawal(self, get_money):\n",
    "        if self.sum_money+self.credit_remnant < get_money:\n",
    "            print('[INFO] In  account not enough money!')\n",
    "        else:\n",
    "            print(f'[WITHDRAWAL] Client : {self.name} {self.surname} has successfully withdrawn  : {get_money} money ')\n",
    "            self.sum_money -= get_money\n",
    "            if self.sum_money < 0:\n",
    "                self.credit_remnant += self.sum_money\n",
    "                print(f'[INFO] Client : {self.name} {self.surname} take off  : {abs(self.sum_money)} credit money!'\n",
    "                      f' Date {dt.datetime.today()}')\n",
    "                self.sum_money = 0\n",
    "\n",
    "        return self.sum_money\n",
    "\n",
    "    def return_credit(self):\n",
    "        self.credit_remnant -= self.credit_sum\n",
    "        if self.credit_remnant < 0:\n",
    "            self.sum_money += self.credit_remnant\n",
    "            self.credit_remnant = 0\n",
    "            self.credit_sum = 0\n",
    "            print(f'[CREDIT RETURNED] Client :  {self.name} {self.surname} has returned : {self.credit_sum} '\n",
    "                  f'credit-money , Date : {dt.datetime.today()} ')\n",
    "            if self.sum_money < 0:\n",
    "                self.credit_sum = abs(self.sum_money)\n",
    "                print('[INFO] In balans not enough money to pay off the  all loan \\n'\n",
    "                      f'Client must to  pay  more : {self.sum_money} ')\n",
    "                self.sum_money = 0\n",
    "                return self.credit_sum\n",
    "        else:\n",
    "            print(f'[CREDIT RETURNED] Client :  {self.name} {self.surname} has returned : {self.credit_sum} '\n",
    "                  f'credit-money , Date : {dt.datetime.today()} ')\n",
    "\n",
    "    def print_sum_money(self):\n",
    "        print(f'[PRINTING] Client : {self.name}  {self.surname}; Account-balans are : {self.sum_money}, '\n",
    "              f' Credit account: Remnant : {self.credit_remnant}, Loan amount : {self.credit_sum},'\n",
    "              f' Date : {dt.datetime.today()}')\n",
    "        \n",
    "    def has_credit(self):\n",
    "        if self.credit_sum > 0:\n",
    "            return True\n",
    "        else:\n",
    "            return False\n"
   ]
  },
  {
   "cell_type": "code",
   "execution_count": 27,
   "metadata": {
    "id": "RCt5iN8VpybS"
   },
   "outputs": [],
   "source": [
    "client = Client('Volodia', 'Tutko', '2004-03-12', 101123, 12000)\n",
    "client1 = Client('Andriy', 'Bartko', '1993-09-02', 108910, 45000)\n",
    "client2 = Client('Andriy', 'Velychko', '1999-05-18', 129870, 120000)\n",
    "client3 = Client('Oleksandr', 'Kostiv', '1994-03-04', 103100, 56900)\n",
    "client100 = VipClient('Pavlo', 'Levyshyn', '1989-05-18', 982671, 120000, '2021-03-18', 0, 0)\n",
    "client101 = VipClient('Igor', 'Marchuk', '1986-02-19', 782100, 60000, '2022-08-15', 0, 0)\n",
    "client102 = VipClient('Mykola', 'Zhuk', '1986-02-19', 980231, 112500, '2022-08-15', 3000, 20000)\n",
    "client103 = VipClient('Sergiy', 'Philipiv', '1986-02-19', 863090, 10000, '2022-08-15', 0, 0)"
   ]
  },
  {
   "cell_type": "code",
   "execution_count": 28,
   "metadata": {
    "colab": {
     "base_uri": "https://localhost:8080/"
    },
    "id": "OwtEpmUKpz7-",
    "outputId": "05f024e5-2d36-47eb-8713-976ea94361c3"
   },
   "outputs": [
    {
     "name": "stdout",
     "output_type": "stream",
     "text": [
      "[PRINTING] Client : Pavlo  Levyshyn; Account-balans are : 120000,  Credit account: Remnant : 0, Loan amount : 0, Date : 2022-11-28 22:05:47.291736\n",
      "[INFO] In  account not enough money!\n",
      "[ADDITION] Client : Pavlo Levyshyn topped up the account on 10000 money, Date : 2022-11-28 22:05:47.292735\n",
      "[ISSUING A CREDIT] Client : Pavlo Levyshyn gets : 5000 money  on credit account!Date : 2022-11-28 22:05:47.292735\n",
      "[PRINTING] Client : Pavlo  Levyshyn; Account-balans are : 130000,  Credit account: Remnant : 5000, Loan amount : 5000, Date : 2022-11-28 22:05:47.292735\n",
      "[CREDIT RETURNED] Client :  Pavlo Levyshyn has returned : 5000 credit-money , Date : 2022-11-28 22:05:47.292735 \n",
      "[PRINTING] Client : Igor  Marchuk; Account-balans are : 60000,  Credit account: Remnant : 0, Loan amount : 0, Date : 2022-11-28 22:05:47.292735\n",
      "[WITHDRAWAL] Client : Igor Marchuk has successfully withdrawn  : 30000 money \n",
      "[PRINTING] Client : Andriy  Bartko; Account-balans are : 45000, Date : 2022-11-28 22:05:47.293730\n",
      "[WITHDRAWAL] Client : Andriy Bartko : has successfully withdrawn  : 15000 money , Date : 2022-11-28 22:05:47.293730\n",
      "[ADDITION] Client : Andriy Bartko topped up the account on 10000 money, Date : 2022-11-28 22:05:47.293730\n",
      "[PRINTING] Client : Volodia  Tutko; Account-balans are : 12000, Date : 2022-11-28 22:05:47.293730\n",
      "[WITHDRAWAL] Client : Volodia Tutko : has successfully withdrawn  : 11000 money , Date : 2022-11-28 22:05:47.293730\n",
      "[ADDITION] Client : Volodia Tutko topped up the account on 10000 money, Date : 2022-11-28 22:05:47.293730\n",
      "[PRINTING] Client : Andriy  Velychko; Account-balans are : 120000, Date : 2022-11-28 22:05:47.293730\n",
      "[WITHDRAWAL] Client : Andriy Velychko : has successfully withdrawn  : 1000 money , Date : 2022-11-28 22:05:47.293730\n",
      "[ADDITION] Client : Andriy Velychko topped up the account on 10000 money, Date : 2022-11-28 22:05:47.293730\n",
      "[PRINTING] Client : Oleksandr  Kostiv; Account-balans are : 56900, Date : 2022-11-28 22:05:47.293730\n",
      "[WITHDRAWAL] Client : Oleksandr Kostiv : has successfully withdrawn  : 17060 money , Date : 2022-11-28 22:05:47.293730\n",
      "[ADDITION] Client : Oleksandr Kostiv topped up the account on 10000 money, Date : 2022-11-28 22:05:47.293730\n"
     ]
    },
    {
     "data": {
      "text/plain": [
       "49840"
      ]
     },
     "execution_count": 28,
     "metadata": {},
     "output_type": "execute_result"
    }
   ],
   "source": [
    "client100.print_sum_money()\n",
    "client100.withdrawal(130000)\n",
    "client100.addition(10000)\n",
    "client100.get_credit(5000, 50)\n",
    "client100.print_sum_money()\n",
    "client100.return_credit()\n",
    "client101.print_sum_money()\n",
    "client101.withdrawal(30000)\n",
    "client1.print_sum_money()\n",
    "client1.withdrawal(15000)\n",
    "client1.addition(10000)\n",
    "client.print_sum_money()\n",
    "client.withdrawal(11000)\n",
    "client.addition(10000)\n",
    "client2.print_sum_money()\n",
    "client2.withdrawal(1000)\n",
    "client2.addition(10000)\n",
    "client3.print_sum_money()\n",
    "client3.withdrawal(17060)\n",
    "client3.addition(10000)"
   ]
  },
  {
   "cell_type": "code",
   "execution_count": 9,
   "metadata": {
    "colab": {
     "base_uri": "https://localhost:8080/"
    },
    "id": "qMuzvinCp-Ic",
    "outputId": "c9e46bf1-fc82-4732-86ee-7efa4f7e5304"
   },
   "outputs": [
    {
     "name": "stdout",
     "output_type": "stream",
     "text": [
      "{'Bartko Andriy': 40000, 'Kostiv Oleksandr': 49840, 'Levyshyn Pavlo': 130000, 'Marchuk Igor': 30000, 'Philipiv Sergiy': 10000, 'Tutko Volodia': 11000, 'Velychko Andriy': 129000, 'Zhuk Mykola': 132500, 'Summary money all clients': 532340}\n"
     ]
    }
   ],
   "source": [
    "clients = [str(client100.surname) + ' ' + str(client100.name), client100.sum_money + client100.credit_remnant,\n",
    "           str(client101.surname) + ' ' + str(client101.name), client101.sum_money + client101.credit_remnant,\n",
    "           str(client102.surname) + ' ' + str(client102.name), client102.sum_money + client102.credit_remnant,\n",
    "           str(client103.surname) + ' ' + str(client103.name), client103.sum_money + client103.credit_remnant,\n",
    "           str(client.surname) + ' ' + str(client.name), client.sum_money,\n",
    "           str(client1.surname) + ' ' + str(client1.name), client1.sum_money,\n",
    "           str(client2.surname) + ' ' + str(client2.name), client2.sum_money,\n",
    "           str(client3.surname) + ' ' + str(client3.name), client3.sum_money]\n",
    "\n",
    "clients_d = {clients[i]: clients[i+1] for i in range(0, len(clients), 2)}\n",
    "\n",
    "ak = clients_d.keys()\n",
    "list_ak = list(ak)\n",
    "list_ak.sort()\n",
    "\n",
    "clients_d1 = {}\n",
    "for k in list_ak:\n",
    "    clients_d1[k] = clients_d[k]\n",
    "\n",
    "summary = 0\n",
    "for key, value in clients_d1.items():\n",
    "    summary += value\n",
    "\n",
    "clients_d1['Summary money all clients'] = summary\n",
    "print(clients_d1)"
   ]
  },
  {
   "cell_type": "code",
   "execution_count": 10,
   "metadata": {
    "colab": {
     "base_uri": "https://localhost:8080/"
    },
    "id": "X0lVx21Sp_ML",
    "outputId": "829f753a-6eb9-4fb6-d5f2-77c0f311271b"
   },
   "outputs": [
    {
     "name": "stdout",
     "output_type": "stream",
     "text": [
      "Clients with credit:  {'Levyshyn Pavlo': 5000, 'Zhuk Mykola': 3000}\n"
     ]
    }
   ],
   "source": [
    "all_clients = [client, client1, client2, client3, client100, client101, client102, client103]\n",
    "credit_clients = {}\n",
    "for client in all_clients:\n",
    "    if client.has_credit():\n",
    "        credit_clients.update({client.surname+' ' + client.name: client.credit_sum})\n",
    "\n",
    "\n",
    "sorted_clients = sorted(credit_clients.items(), key=lambda x: x[1])\n",
    "print('Clients with credit: ', credit_clients)\n"
   ]
  },
  {
   "cell_type": "code",
   "execution_count": null,
   "metadata": {},
   "outputs": [],
   "source": []
  }
 ],
 "metadata": {
  "colab": {
   "provenance": []
  },
  "kernelspec": {
   "display_name": "Python 3 (ipykernel)",
   "language": "python",
   "name": "python3"
  },
  "language_info": {
   "codemirror_mode": {
    "name": "ipython",
    "version": 3
   },
   "file_extension": ".py",
   "mimetype": "text/x-python",
   "name": "python",
   "nbconvert_exporter": "python",
   "pygments_lexer": "ipython3",
   "version": "3.9.12"
  }
 },
 "nbformat": 4,
 "nbformat_minor": 4
}
