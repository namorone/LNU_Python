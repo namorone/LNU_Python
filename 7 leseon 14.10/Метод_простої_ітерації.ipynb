{
 "cells": [
  {
   "cell_type": "code",
   "execution_count": null,
   "id": "5b665635-df7d-4e54-9051-e00908d5fe4c",
   "metadata": {},
   "outputs": [],
   "source": [
    "# метод простої ітерації"
   ]
  },
  {
   "cell_type": "code",
   "execution_count": 1,
   "id": "6c050505-dcc8-4fbf-a56d-fd483a5fec0a",
   "metadata": {},
   "outputs": [],
   "source": [
    "import numpy as np"
   ]
  },
  {
   "cell_type": "code",
   "execution_count": null,
   "id": "7b159204-8391-499f-a4e7-026dc0e00624",
   "metadata": {},
   "outputs": [],
   "source": [
    "def calculate_iter_method(func, a, b, psi, x0, eps):\n",
    "    fi = \"x - {}*({})\".format(psi, func)\n",
    "    res = [x0]\n",
    "    x = res[-1]\n",
    "    res.append(round(eval(fi), 2))\n",
    "\n",
    "    while abs(res[-1] - res[-2]) > eps:\n",
    "        x = res[-1]\n",
    "        res.append(round(eval(fi), 2))\n",
    "\n",
    "    #return res\n",
    "    return res[-1]"
   ]
  },
  {
   "cell_type": "code",
   "execution_count": null,
   "id": "2b100147-3f37-45cf-b1a4-2c498f0b7880",
   "metadata": {},
   "outputs": [],
   "source": [
    "def f(x):\n",
    "    \"\"\"функція лівої частини рівняння (1)\"\"\"\n",
    "    return np.sin(x*x-2*x)"
   ]
  },
  {
   "cell_type": "code",
   "execution_count": null,
   "id": "e220a563-9e63-4bfc-a59f-1e1f431f69f8",
   "metadata": {},
   "outputs": [],
   "source": [
    "calculate_iter_method('np.sin(x*x-2*x)', 2.9, 3.1, 1, 2.95, 0.01)"
   ]
  },
  {
   "cell_type": "code",
   "execution_count": null,
   "id": "9d83b58b-c135-40da-ad65-45acabdeddbc",
   "metadata": {},
   "outputs": [],
   "source": []
  },
  {
   "cell_type": "code",
   "execution_count": 2,
   "id": "4d5e53ba-41db-4964-80ab-394b1cbb4f2c",
   "metadata": {},
   "outputs": [
    {
     "ename": "SyntaxError",
     "evalue": "invalid syntax (182252444.py, line 2)",
     "output_type": "error",
     "traceback": [
      "\u001b[1;36m  Input \u001b[1;32mIn [2]\u001b[1;36m\u001b[0m\n\u001b[1;33m    --- знаходження методом простої ітерації наближеного кореня рівняння,\u001b[0m\n\u001b[1;37m                    ^\u001b[0m\n\u001b[1;31mSyntaxError\u001b[0m\u001b[1;31m:\u001b[0m invalid syntax\n"
     ]
    }
   ],
   "source": [
    "def simple_iteration(f, rho, a,b, x0, eps):\n",
    "    --- знаходження методом простої ітерації наближеного кореня рівняння,\n",
    "        до f -- неперервна стискаюча функція на відрізку [a, b],\n",
    "        rho -- неперервна функція на відрізку [a, b]\n",
    "        x0 -- початкове наближення \n",
    "        eps -- задана точність\n",
    "    ---\n",
    "    \n",
    "    x_prev = x0\n",
    "    k = 1\n",
    "    x_new = x_prev = rho(x_prev)*f(x_prev)\n",
    "    \n",
    "    while np.abs(x_new - x_prev) > eps:\n",
    "        k+=1\n",
    "        x_prev = x0\n",
    "        x_new = x_prev = rho(x_prev)*f(x_prev)\n",
    "    return x_new,k\n"
   ]
  },
  {
   "cell_type": "code",
   "execution_count": null,
   "id": "ab6689a2-c721-4ce6-b2c7-a19ee9f5725e",
   "metadata": {},
   "outputs": [],
   "source": []
  }
 ],
 "metadata": {
  "kernelspec": {
   "display_name": "Python 3 (ipykernel)",
   "language": "python",
   "name": "python3"
  },
  "language_info": {
   "codemirror_mode": {
    "name": "ipython",
    "version": 3
   },
   "file_extension": ".py",
   "mimetype": "text/x-python",
   "name": "python",
   "nbconvert_exporter": "python",
   "pygments_lexer": "ipython3",
   "version": "3.9.12"
  }
 },
 "nbformat": 4,
 "nbformat_minor": 5
}
