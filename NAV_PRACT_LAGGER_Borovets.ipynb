{
 "cells": [
  {
   "cell_type": "code",
   "execution_count": null,
   "id": "6a5187f5-5030-43f2-a0e6-89cd84fda7da",
   "metadata": {},
   "outputs": [],
   "source": [
    "#Функцiї Лаґерра\n",
    "#2.2\n",
    "#1"
   ]
  },
  {
   "cell_type": "code",
   "execution_count": 41,
   "id": "4d09d746-83e4-4543-bc59-fdee5916c82d",
   "metadata": {},
   "outputs": [],
   "source": [
    "import math\n",
    "def Laguerr (n, t):\n",
    "    bet = 2\n",
    "    sig = 4\n",
    "    if n == 0:\n",
    "        return(math.sqrt(sig) * math.exp((bet/(-2)) * t))\n",
    "    elif n == 1:\n",
    "        return(math.sqrt(sig) * (1-(sig * t))* math.exp((bet/(-2)) * t))\n",
    "    else:\n",
    "        return((((2*n - 1 - t)/n) * Laguerr(n-1, t)) - (((n - 1)/n) * Laguerr(n-2, t)))\n",
    "    "
   ]
  },
  {
   "cell_type": "code",
   "execution_count": 42,
   "id": "d788f05b-14c7-4b60-a68f-be85e75be523",
   "metadata": {},
   "outputs": [
    {
     "name": "stdin",
     "output_type": "stream",
     "text": [
      "Enter n:  3\n",
      "Enter t:  5\n"
     ]
    },
    {
     "name": "stdout",
     "output_type": "stream",
     "text": [
      "0.17069465731016514\n"
     ]
    }
   ],
   "source": [
    "n = int(input(\"Enter n: \"))\n",
    "t = float(input(\"Enter t: \"))\n",
    "print(Laguerr (n, t))"
   ]
  },
  {
   "cell_type": "code",
   "execution_count": null,
   "id": "4eb23150-9c62-4270-ab65-3911e134ddbd",
   "metadata": {},
   "outputs": [],
   "source": [
    "#import numpy\n",
    "#items = numpy.random.randint(100.1, size=25)\n",
    "#print(items)\n",
    "#print(len(items), items[:5])  # 100000 [73846 49707 18846 73887 43349]"
   ]
  },
  {
   "cell_type": "code",
   "execution_count": 43,
   "id": "dc6089f9-cf06-4b80-8196-92bda3a07670",
   "metadata": {},
   "outputs": [],
   "source": [
    "#2\n",
    "\n",
    "\n",
    "import random\n",
    "    \n",
    "def Tabulation (n):\n",
    "\n",
    "    random_float_T_list = []\n",
    "    # Set a length of the list to 10\n",
    "    for i in range(0, 10):\n",
    "    # any random float between 50.50 to 500.50\n",
    "    # don't use round() if you need number as it is\n",
    "        x = random.uniform(0.0, 500.50)\n",
    "        random_float_T_list.append(x)\n",
    "    for i in random_float_T_list:\n",
    "        print(\"t = \", i)\n",
    "        print(\"value = \", Laguerr (n, i))\n",
    "        \n",
    "    "
   ]
  },
  {
   "cell_type": "code",
   "execution_count": 44,
   "id": "2345da34-220c-4021-8184-b92ddcc55924",
   "metadata": {},
   "outputs": [
    {
     "name": "stdin",
     "output_type": "stream",
     "text": [
      "Enter n:  3\n",
      "Enter t:  5\n"
     ]
    },
    {
     "name": "stdout",
     "output_type": "stream",
     "text": [
      "0.17069465731016514\n",
      "t =  39.03824157508834\n",
      "value =  -7.027166228575779e-13\n",
      "t =  412.78235810010415\n",
      "value =  -4.94614743771514e-172\n",
      "t =  73.88069146438197\n",
      "value =  -3.928888099149543e-27\n",
      "t =  88.06838722750733\n",
      "value =  -4.67576982593295e-33\n",
      "t =  143.87535903143325\n",
      "value =  -1.228178286298815e-56\n",
      "t =  255.0058871893687\n",
      "value =  -3.825999980722002e-104\n",
      "t =  14.234376939948682\n",
      "value =  -0.0012213249465221354\n",
      "t =  310.1616038339351\n",
      "value =  -7.701594915236827e-128\n",
      "t =  386.50557021910464\n",
      "value =  -1.0467357907735995e-160\n",
      "t =  114.55352616678967\n",
      "value =  -3.311258181098325e-44\n"
     ]
    }
   ],
   "source": [
    "n = int(input(\"Enter n: \"))\n",
    "t = float(input(\"Enter t: \"))\n",
    "print(Laguerr (n, t))\n",
    "\n",
    "\n",
    "Tabulation (n)"
   ]
  },
  {
   "cell_type": "code",
   "execution_count": 9,
   "id": "fa34641b-c4e7-48df-9dcb-9aa9f9d2ffd5",
   "metadata": {},
   "outputs": [],
   "source": [
    " \n",
    "#В np.random.permutation(n) числа не повторюються (випадкова перестановка чисел в [0, n) диапазоні). \n",
    "#В np.random.randint(n, size=m) числа можуть повторюватися (генерирується m  чисел з [0, n) диапазона з заміною) \n",
    "#Приклад: np.random.randint(2, size=5) -> array([1, 1, 0, 1, 0]) \n"
   ]
  },
  {
   "cell_type": "code",
   "execution_count": 13,
   "id": "abf5cc51-d672-4a54-b25b-8208498c7ef3",
   "metadata": {},
   "outputs": [
    {
     "name": "stdout",
     "output_type": "stream",
     "text": [
      "[276.79727901923087, 346.5638829059759, 118.17986090250861, 495.8691235929954, 254.31718226576228, 28.677964759563647, 404.4676235554129, 349.16626878174, 51.72876389867048, 58.75719913979276]\n"
     ]
    }
   ],
   "source": [
    "import random\n",
    "\n",
    "random_float_list = []\n",
    "# Set a length of the list to 10\n",
    "for i in range(0, 10):\n",
    "    # any random float between 50.50 to 500.50\n",
    "    # don't use round() if you need number as it is\n",
    "    x = round(random.uniform(0.0, 500.50), 2)\n",
    "    random_float_list.append(x)\n",
    "\n",
    "print(random_float_list)\n",
    "# Output [98.01, 454.48, 117.69, 51.44, 415.01, 455.52, 65.39, 385.07, 112.38, 434.1]"
   ]
  },
  {
   "cell_type": "code",
   "execution_count": null,
   "id": "0b30042f-2930-417a-9f87-d8998199fe8b",
   "metadata": {},
   "outputs": [],
   "source": []
  }
 ],
 "metadata": {
  "kernelspec": {
   "display_name": "Python 3 (ipykernel)",
   "language": "python",
   "name": "python3"
  },
  "language_info": {
   "codemirror_mode": {
    "name": "ipython",
    "version": 3
   },
   "file_extension": ".py",
   "mimetype": "text/x-python",
   "name": "python",
   "nbconvert_exporter": "python",
   "pygments_lexer": "ipython3",
   "version": "3.9.12"
  }
 },
 "nbformat": 4,
 "nbformat_minor": 5
}
