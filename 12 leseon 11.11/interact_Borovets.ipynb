{
 "cells": [
  {
   "cell_type": "code",
   "execution_count": 1,
   "id": "a1557c9c-ace9-4345-8a16-079cc60cbe48",
   "metadata": {},
   "outputs": [],
   "source": [
    "#%matplotlib widget\n",
    "%matplotlib ipympl\n",
    "import matplotlib.pyplot as plt\n",
    "import ipywidgets\n",
    "import math\n",
    "import numpy as np\n",
    "import pandas as pd"
   ]
  },
  {
   "cell_type": "code",
   "execution_count": 34,
   "id": "b31f02ee-dc8d-4f66-880c-b8793c347c55",
   "metadata": {},
   "outputs": [],
   "source": [
    "def laguerre_func( t, n,beta,sigma):\n",
    "   # beta = 2 \n",
    "    #sigma = 4\n",
    "    #if t.all()<0 or n.all()<0 :\n",
    "     #   print(\"Sorry, but t and n value has to be greater or equal than 0.\")\n",
    "      #  print('Your values: n = ', n , ';  t = ', t)\n",
    "       # return\n",
    "        \n",
    "    lag0 = math.sqrt(sigma) * (math.e ** ((-1) * ((beta * t) / 2)))\n",
    "    lag1 = lag0 * (1 - (sigma * t))\n",
    "\n",
    "    if n == 0:\n",
    "        return lag0\n",
    "    elif n==1:\n",
    "        return lag1\n",
    "    elif n >= 2:\n",
    "        for i in range(2, n+1):\n",
    "            lag2 = ((2 * n - 1 - sigma * t)/n) * lag1 - ((n - 1)/n) * lag0\n",
    "            lag0=lag1\n",
    "            lag1=lag2\n",
    "        return lag2"
   ]
  },
  {
   "cell_type": "code",
   "execution_count": 35,
   "id": "b340247c-c5ca-4e5c-b01f-3e0664a5df47",
   "metadata": {},
   "outputs": [],
   "source": [
    "def tabulate_laguerre( T, n,beta,sigma):\n",
    "    t=np.linspace(0, T, num=150)\n",
    "    lag = [laguerre_func(i, n,beta,sigma) for i in t]\n",
    "    lag1 = [laguerre_func(i, n+1,beta,sigma) for i in t]\n",
    "    lag2 = [laguerre_func(i, n+2,beta,sigma) for i in t]\n",
    "    lag3 = [laguerre_func(i, n+3,beta,sigma) for i in t]\n",
    "    data = {\n",
    "               'T': t,\n",
    "                'L': [lag, lag1, lag2, lag3]\n",
    "                }\n",
    "    return data"
   ]
  },
  {
   "cell_type": "code",
   "execution_count": 36,
   "id": "024a4fed-886e-48e5-8f9a-b37b1b563c7c",
   "metadata": {},
   "outputs": [],
   "source": [
    "def construct_a_graph(data):\n",
    "    plt.figure()\n",
    "    plt.plot(data['T'],data['L'][0], 'violet', label = ' n')\n",
    "    plt.plot(data['T'], data['L'][1], label = ' n+1')\n",
    "    plt.plot(data['T'], data['L'][2], label = ' n+2')\n",
    "    plt.plot(data['T'], data['L'][3], label = ' n+3')\n",
    "    \n",
    "    plt.grid(True)\n",
    "    plt.title('LAGUERRE\\'S FUNCTION')\n",
    "    plt.xlabel('tabulation')\n",
    "    plt.ylabel('laguerre results(t)')\n",
    "    plt.legend()\n",
    "    plt.show()"
   ]
  },
  {
   "cell_type": "code",
   "execution_count": 37,
   "id": "6b88ec3a-f75b-4224-9b3a-32ff6914e137",
   "metadata": {},
   "outputs": [],
   "source": [
    "def f(T,n,beta,sigma):\n",
    "    construct_a_graph(tabulate_laguerre(T,n,beta,sigma))"
   ]
  },
  {
   "cell_type": "code",
   "execution_count": 55,
   "id": "54ba3e54-1ab7-4260-ad7c-f360638b2fc5",
   "metadata": {},
   "outputs": [
    {
     "data": {
      "application/vnd.jupyter.widget-view+json": {
       "model_id": "464c78eb15bf4c75ad4dd85c59cbc6eb",
       "version_major": 2,
       "version_minor": 0
      },
      "text/plain": [
       "interactive(children=(IntSlider(value=30, description='T', max=90, min=-30), IntSlider(value=1, description='n…"
      ]
     },
     "metadata": {},
     "output_type": "display_data"
    }
   ],
   "source": [
    "ipywidgets.interact(f, T=30, n=1,beta=2,sigma=4);"
   ]
  },
  {
   "cell_type": "code",
   "execution_count": null,
   "id": "cc8fd400-a933-485d-a73e-dabc40d83ded",
   "metadata": {},
   "outputs": [],
   "source": [
    "plt.close()"
   ]
  },
  {
   "cell_type": "code",
   "execution_count": 51,
   "id": "6677e142-0a97-42d5-9ade-94df4dad9e27",
   "metadata": {},
   "outputs": [],
   "source": [
    "T_value = ipywidgets.IntSlider(min=0, max=100, step=1, value=7, \n",
    "                                     description='T_value:', continuous_update=False)\n",
    "n_value = ipywidgets.IntSlider(min=0, max=20, step=1, value=1, \n",
    "                                       description='n_value:', continuous_update=False)\n",
    "beta_value = ipywidgets.IntSlider(min=1, max=12, value=1, \n",
    "                                          description='beta_value:', continuous_update=False)\n",
    "sigma_value = ipywidgets.IntSlider(min=1, max=12, value=1, \n",
    "                                          description='sigma_value:', continuous_update=False)"
   ]
  },
  {
   "cell_type": "code",
   "execution_count": 52,
   "id": "92417d9a-1517-419b-afd0-4c88729b7348",
   "metadata": {},
   "outputs": [],
   "source": [
    "w=ipywidgets.interactive(f, T=T_value, n=n_value,beta=beta_value,sigma=sigma_value);"
   ]
  },
  {
   "cell_type": "code",
   "execution_count": 53,
   "id": "1a1631b4-61e6-494a-aa1e-e4adf7714c6c",
   "metadata": {},
   "outputs": [
    {
     "data": {
      "application/vnd.jupyter.widget-view+json": {
       "model_id": "a4268c82606a47828b4fc18649c82409",
       "version_major": 2,
       "version_minor": 0
      },
      "text/plain": [
       "interactive(children=(IntSlider(value=7, continuous_update=False, description='T_value:'), IntSlider(value=1, …"
      ]
     },
     "metadata": {},
     "output_type": "display_data"
    }
   ],
   "source": [
    "w"
   ]
  },
  {
   "cell_type": "code",
   "execution_count": 54,
   "id": "8a6b3187-517c-46c8-b14b-4c1439ba6f21",
   "metadata": {},
   "outputs": [],
   "source": [
    "plt.close()"
   ]
  },
  {
   "cell_type": "code",
   "execution_count": 44,
   "id": "35f55b48-95a3-4714-8f04-479123f137bc",
   "metadata": {},
   "outputs": [
    {
     "data": {
      "application/vnd.jupyter.widget-view+json": {
       "model_id": "a231476bfeee47718685d586266f3a21",
       "version_major": 2,
       "version_minor": 0
      },
      "text/plain": [
       "interactive(children=(IntSlider(value=1, continuous_update=False, description='T_value:'), IntSlider(value=1, …"
      ]
     },
     "metadata": {},
     "output_type": "display_data"
    }
   ],
   "source": [
    "\n",
    "ipywidgets.interact(f, T=T_value, n=n_value,beta=beta_value,sigma=sigma_value);"
   ]
  },
  {
   "cell_type": "code",
   "execution_count": null,
   "id": "c9c71761-656a-48df-b18c-5970ca06506d",
   "metadata": {},
   "outputs": [],
   "source": [
    "plt.close()"
   ]
  }
 ],
 "metadata": {
  "kernelspec": {
   "display_name": "Python 3 (ipykernel)",
   "language": "python",
   "name": "python3"
  },
  "language_info": {
   "codemirror_mode": {
    "name": "ipython",
    "version": 3
   },
   "file_extension": ".py",
   "mimetype": "text/x-python",
   "name": "python",
   "nbconvert_exporter": "python",
   "pygments_lexer": "ipython3",
   "version": "3.9.12"
  }
 },
 "nbformat": 4,
 "nbformat_minor": 5
}
