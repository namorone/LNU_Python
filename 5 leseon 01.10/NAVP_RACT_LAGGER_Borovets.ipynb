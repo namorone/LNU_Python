{
 "cells": [
  {
   "cell_type": "code",
   "execution_count": null,
   "id": "6a5187f5-5030-43f2-a0e6-89cd84fda7da",
   "metadata": {},
   "outputs": [],
   "source": [
    "#Функцiї Лаґерра\n",
    "#2.5"
   ]
  },
  {
   "cell_type": "code",
   "execution_count": null,
   "id": "33c14e51-2127-40ae-a409-014df439f2e5",
   "metadata": {},
   "outputs": [],
   "source": [
    "import math\n",
    "import random\n",
    "import numpy as np\n",
    "import matplotlib.pyplot as plt\n",
    "import pandas as pd"
   ]
  },
  {
   "cell_type": "code",
   "execution_count": 53,
   "id": "4d09d746-83e4-4543-bc59-fdee5916c82d",
   "metadata": {},
   "outputs": [],
   "source": [
    "\n",
    "def Laguerr (t, n):\n",
    "    if t<0 or n<0 :\n",
    "        print(\"Sorry, but t and n value has to be greater or equal than 0.\")\n",
    "        print('Your values: n = ', n , ';  t = ', t)\n",
    "        return\n",
    "    \n",
    "    bet = 2\n",
    "    sig = 4\n",
    "    \n",
    "    \n",
    "    if n == 0:\n",
    "        return(math.sqrt(sig) * (math.e ** ((bet/(-2)) * t)))\n",
    "    elif n == 1:\n",
    "        return(math.sqrt(sig) * (1-(sig * t)) * (math.e ** ((bet/(-2)) * t)))\n",
    "    else:\n",
    "        return((((2 * n - 1 - sig * t)/n) * Laguerr(n-1, t)) - (((n - 1)/n) * Laguerr(n-2, t)))\n",
    "    "
   ]
  },
  {
   "cell_type": "code",
   "execution_count": 54,
   "id": "d788f05b-14c7-4b60-a68f-be85e75be523",
   "metadata": {},
   "outputs": [
    {
     "name": "stdout",
     "output_type": "stream",
     "text": [
      "3.72025286804169\n"
     ]
    }
   ],
   "source": [
    "#n = int(input(\"Enter n: \"))\n",
    "#t = float(input(\"Enter t: \"))\n",
    "print(Laguerr (3, 5))"
   ]
  },
  {
   "cell_type": "code",
   "execution_count": null,
   "id": "4eb23150-9c62-4270-ab65-3911e134ddbd",
   "metadata": {},
   "outputs": [],
   "source": [
    "#import numpy\n",
    "#items = numpy.random.randint(100.1, size=25)\n",
    "#print(items)\n",
    "#print(len(items), items[:5])  # 100000 [73846 49707 18846 73887 43349]"
   ]
  },
  {
   "cell_type": "code",
   "execution_count": 58,
   "id": "dc6089f9-cf06-4b80-8196-92bda3a07670",
   "metadata": {},
   "outputs": [],
   "source": [
    "#2\n",
    "\n",
    "\n",
    "\n",
    "    \n",
    "def Tabulation ( n):\n",
    "\n",
    "    random_float_T_list = []\n",
    "    # Set a length of the list to 10\n",
    "    for i in range(0, 10):\n",
    "    # any random float between 0.0 to 500.50\n",
    "    # don't use round() if you need number as it is\n",
    "        x = random.uniform(0.0, 500.50)\n",
    "        random_float_T_list.append(x)\n",
    "    for i in random_float_T_list:\n",
    "        print(\"t = \", i)\n",
    "        print(\"value = \", Laguerr (n, i))\n",
    "        \n",
    "\n",
    "def tabulation( _T, n):\n",
    "    t=np.linspace(0, _T, num=50)\n",
    "    lag = [Laguerr(i, n) for i in t]\n",
    "    lag1 = [Laguerr(i, n+1) for i in t]\n",
    "    lag2 = [Laguerr(i, n+2) for i in t]\n",
    "    lag3 = [Laguerr(i, n+3) for i in t]\n",
    "    data = {\n",
    "               'T': t,\n",
    "                'L': [lag, lag1, lag2, lag3]\n",
    "                }\n",
    "    print (t)\n",
    "    return data"
   ]
  },
  {
   "cell_type": "code",
   "execution_count": null,
   "id": "2345da34-220c-4021-8184-b92ddcc55924",
   "metadata": {},
   "outputs": [],
   "source": [
    "n = int(input(\"Enter n: \"))\n",
    "t = float(input(\"Enter t: \"))\n",
    "print(Laguerr (n, t))\n",
    "\n",
    "\n",
    "Tabulation (n)"
   ]
  },
  {
   "cell_type": "code",
   "execution_count": 61,
   "id": "152c1fa7-5b24-4596-a8b9-b94eaa7d5a7c",
   "metadata": {},
   "outputs": [
    {
     "name": "stdout",
     "output_type": "stream",
     "text": [
      "Sorry, but t and n value has to be greater or equal than 0.\n",
      "Your values: n =  1 ;  t =  -0.8367346938775511\n"
     ]
    },
    {
     "ename": "TypeError",
     "evalue": "unsupported operand type(s) for *: 'float' and 'NoneType'",
     "output_type": "error",
     "traceback": [
      "\u001b[1;31m---------------------------------------------------------------------------\u001b[0m",
      "\u001b[1;31mTypeError\u001b[0m                                 Traceback (most recent call last)",
      "Input \u001b[1;32mIn [61]\u001b[0m, in \u001b[0;36m<cell line: 1>\u001b[1;34m()\u001b[0m\n\u001b[1;32m----> 1\u001b[0m \u001b[38;5;28mprint\u001b[39m(\u001b[43mtabulation\u001b[49m\u001b[43m(\u001b[49m\u001b[38;5;241;43m8\u001b[39;49m\u001b[43m,\u001b[49m\u001b[38;5;241;43m2\u001b[39;49m\u001b[43m)\u001b[49m)\n",
      "Input \u001b[1;32mIn [58]\u001b[0m, in \u001b[0;36mtabulation\u001b[1;34m(_T, n)\u001b[0m\n\u001b[0;32m     20\u001b[0m \u001b[38;5;28;01mdef\u001b[39;00m \u001b[38;5;21mtabulation\u001b[39m( _T, n):\n\u001b[0;32m     21\u001b[0m     t\u001b[38;5;241m=\u001b[39mnp\u001b[38;5;241m.\u001b[39mlinspace(\u001b[38;5;241m0\u001b[39m, _T, num\u001b[38;5;241m=\u001b[39m\u001b[38;5;241m50\u001b[39m)\n\u001b[1;32m---> 22\u001b[0m     lag \u001b[38;5;241m=\u001b[39m [Laguerr(i, n) \u001b[38;5;28;01mfor\u001b[39;00m i \u001b[38;5;129;01min\u001b[39;00m t]\n\u001b[0;32m     23\u001b[0m     lag1 \u001b[38;5;241m=\u001b[39m [Laguerr(i, n\u001b[38;5;241m+\u001b[39m\u001b[38;5;241m1\u001b[39m) \u001b[38;5;28;01mfor\u001b[39;00m i \u001b[38;5;129;01min\u001b[39;00m t]\n\u001b[0;32m     24\u001b[0m     lag2 \u001b[38;5;241m=\u001b[39m [Laguerr(i, n\u001b[38;5;241m+\u001b[39m\u001b[38;5;241m2\u001b[39m) \u001b[38;5;28;01mfor\u001b[39;00m i \u001b[38;5;129;01min\u001b[39;00m t]\n",
      "Input \u001b[1;32mIn [58]\u001b[0m, in \u001b[0;36m<listcomp>\u001b[1;34m(.0)\u001b[0m\n\u001b[0;32m     20\u001b[0m \u001b[38;5;28;01mdef\u001b[39;00m \u001b[38;5;21mtabulation\u001b[39m( _T, n):\n\u001b[0;32m     21\u001b[0m     t\u001b[38;5;241m=\u001b[39mnp\u001b[38;5;241m.\u001b[39mlinspace(\u001b[38;5;241m0\u001b[39m, _T, num\u001b[38;5;241m=\u001b[39m\u001b[38;5;241m50\u001b[39m)\n\u001b[1;32m---> 22\u001b[0m     lag \u001b[38;5;241m=\u001b[39m [\u001b[43mLaguerr\u001b[49m\u001b[43m(\u001b[49m\u001b[43mi\u001b[49m\u001b[43m,\u001b[49m\u001b[43m \u001b[49m\u001b[43mn\u001b[49m\u001b[43m)\u001b[49m \u001b[38;5;28;01mfor\u001b[39;00m i \u001b[38;5;129;01min\u001b[39;00m t]\n\u001b[0;32m     23\u001b[0m     lag1 \u001b[38;5;241m=\u001b[39m [Laguerr(i, n\u001b[38;5;241m+\u001b[39m\u001b[38;5;241m1\u001b[39m) \u001b[38;5;28;01mfor\u001b[39;00m i \u001b[38;5;129;01min\u001b[39;00m t]\n\u001b[0;32m     24\u001b[0m     lag2 \u001b[38;5;241m=\u001b[39m [Laguerr(i, n\u001b[38;5;241m+\u001b[39m\u001b[38;5;241m2\u001b[39m) \u001b[38;5;28;01mfor\u001b[39;00m i \u001b[38;5;129;01min\u001b[39;00m t]\n",
      "Input \u001b[1;32mIn [53]\u001b[0m, in \u001b[0;36mLaguerr\u001b[1;34m(t, n)\u001b[0m\n\u001b[0;32m     14\u001b[0m     \u001b[38;5;28;01mreturn\u001b[39;00m(math\u001b[38;5;241m.\u001b[39msqrt(sig) \u001b[38;5;241m*\u001b[39m (\u001b[38;5;241m1\u001b[39m\u001b[38;5;241m-\u001b[39m(sig \u001b[38;5;241m*\u001b[39m t)) \u001b[38;5;241m*\u001b[39m (math\u001b[38;5;241m.\u001b[39me \u001b[38;5;241m*\u001b[39m\u001b[38;5;241m*\u001b[39m ((bet\u001b[38;5;241m/\u001b[39m(\u001b[38;5;241m-\u001b[39m\u001b[38;5;241m2\u001b[39m)) \u001b[38;5;241m*\u001b[39m t)))\n\u001b[0;32m     15\u001b[0m \u001b[38;5;28;01melse\u001b[39;00m:\n\u001b[1;32m---> 16\u001b[0m     \u001b[38;5;28;01mreturn\u001b[39;00m((((\u001b[38;5;241m2\u001b[39m \u001b[38;5;241m*\u001b[39m n \u001b[38;5;241m-\u001b[39m \u001b[38;5;241m1\u001b[39m \u001b[38;5;241m-\u001b[39m sig \u001b[38;5;241m*\u001b[39m t)\u001b[38;5;241m/\u001b[39mn) \u001b[38;5;241m*\u001b[39m \u001b[43mLaguerr\u001b[49m\u001b[43m(\u001b[49m\u001b[43mn\u001b[49m\u001b[38;5;241;43m-\u001b[39;49m\u001b[38;5;241;43m1\u001b[39;49m\u001b[43m,\u001b[49m\u001b[43m \u001b[49m\u001b[43mt\u001b[49m\u001b[43m)\u001b[49m) \u001b[38;5;241m-\u001b[39m (((n \u001b[38;5;241m-\u001b[39m \u001b[38;5;241m1\u001b[39m)\u001b[38;5;241m/\u001b[39mn) \u001b[38;5;241m*\u001b[39m Laguerr(n\u001b[38;5;241m-\u001b[39m\u001b[38;5;241m2\u001b[39m, t)))\n",
      "Input \u001b[1;32mIn [53]\u001b[0m, in \u001b[0;36mLaguerr\u001b[1;34m(t, n)\u001b[0m\n\u001b[0;32m     14\u001b[0m     \u001b[38;5;28;01mreturn\u001b[39;00m(math\u001b[38;5;241m.\u001b[39msqrt(sig) \u001b[38;5;241m*\u001b[39m (\u001b[38;5;241m1\u001b[39m\u001b[38;5;241m-\u001b[39m(sig \u001b[38;5;241m*\u001b[39m t)) \u001b[38;5;241m*\u001b[39m (math\u001b[38;5;241m.\u001b[39me \u001b[38;5;241m*\u001b[39m\u001b[38;5;241m*\u001b[39m ((bet\u001b[38;5;241m/\u001b[39m(\u001b[38;5;241m-\u001b[39m\u001b[38;5;241m2\u001b[39m)) \u001b[38;5;241m*\u001b[39m t)))\n\u001b[0;32m     15\u001b[0m \u001b[38;5;28;01melse\u001b[39;00m:\n\u001b[1;32m---> 16\u001b[0m     \u001b[38;5;28;01mreturn\u001b[39;00m((\u001b[43m(\u001b[49m\u001b[43m(\u001b[49m\u001b[38;5;241;43m2\u001b[39;49m\u001b[43m \u001b[49m\u001b[38;5;241;43m*\u001b[39;49m\u001b[43m \u001b[49m\u001b[43mn\u001b[49m\u001b[43m \u001b[49m\u001b[38;5;241;43m-\u001b[39;49m\u001b[43m \u001b[49m\u001b[38;5;241;43m1\u001b[39;49m\u001b[43m \u001b[49m\u001b[38;5;241;43m-\u001b[39;49m\u001b[43m \u001b[49m\u001b[43msig\u001b[49m\u001b[43m \u001b[49m\u001b[38;5;241;43m*\u001b[39;49m\u001b[43m \u001b[49m\u001b[43mt\u001b[49m\u001b[43m)\u001b[49m\u001b[38;5;241;43m/\u001b[39;49m\u001b[43mn\u001b[49m\u001b[43m)\u001b[49m\u001b[43m \u001b[49m\u001b[38;5;241;43m*\u001b[39;49m\u001b[43m \u001b[49m\u001b[43mLaguerr\u001b[49m\u001b[43m(\u001b[49m\u001b[43mn\u001b[49m\u001b[38;5;241;43m-\u001b[39;49m\u001b[38;5;241;43m1\u001b[39;49m\u001b[43m,\u001b[49m\u001b[43m \u001b[49m\u001b[43mt\u001b[49m\u001b[43m)\u001b[49m) \u001b[38;5;241m-\u001b[39m (((n \u001b[38;5;241m-\u001b[39m \u001b[38;5;241m1\u001b[39m)\u001b[38;5;241m/\u001b[39mn) \u001b[38;5;241m*\u001b[39m Laguerr(n\u001b[38;5;241m-\u001b[39m\u001b[38;5;241m2\u001b[39m, t)))\n",
      "\u001b[1;31mTypeError\u001b[0m: unsupported operand type(s) for *: 'float' and 'NoneType'"
     ]
    }
   ],
   "source": [
    "print(tabulation(8,2))"
   ]
  },
  {
   "cell_type": "code",
   "execution_count": 59,
   "id": "27d140ef-4134-4d66-b2b6-40c9284259e2",
   "metadata": {},
   "outputs": [],
   "source": [
    "def construct_a_graph(data):\n",
    "    \n",
    "    plt.plot(data['T'],data['L'][0], 'violet', label = 'desired graph n')\n",
    "    plt.plot(data['T'], data['L'][1], label = 'graph for n+1')\n",
    "    plt.plot(data['T'], data['L'][2], label = 'graph for n+2')\n",
    "    plt.plot(data['T'], data['L'][3], label = 'graph for n+3')\n",
    "    \n",
    "    plt.grid(True)\n",
    "    plt.title('LAGUERRE\\'S FUNCTION')\n",
    "    plt.xlabel('tabulation ')\n",
    "    plt.ylabel('laguerre results(t) ')\n",
    "    plt.legend()\n",
    "    plt.show()\n"
   ]
  },
  {
   "cell_type": "code",
   "execution_count": 60,
   "id": "9bc3dd57-d796-4bcf-bd7e-9afcefa94a87",
   "metadata": {},
   "outputs": [
    {
     "name": "stdout",
     "output_type": "stream",
     "text": [
      "Sorry, but t and n value has to be greater or equal than 0.\n",
      "Your values: n =  1 ;  t =  -0.8367346938775511\n"
     ]
    },
    {
     "ename": "TypeError",
     "evalue": "unsupported operand type(s) for *: 'float' and 'NoneType'",
     "output_type": "error",
     "traceback": [
      "\u001b[1;31m---------------------------------------------------------------------------\u001b[0m",
      "\u001b[1;31mTypeError\u001b[0m                                 Traceback (most recent call last)",
      "Input \u001b[1;32mIn [60]\u001b[0m, in \u001b[0;36m<cell line: 1>\u001b[1;34m()\u001b[0m\n\u001b[1;32m----> 1\u001b[0m construct_a_graph(\u001b[43mtabulation\u001b[49m\u001b[43m(\u001b[49m\u001b[38;5;241;43m8\u001b[39;49m\u001b[43m,\u001b[49m\u001b[38;5;241;43m2\u001b[39;49m\u001b[43m)\u001b[49m)\n",
      "Input \u001b[1;32mIn [58]\u001b[0m, in \u001b[0;36mtabulation\u001b[1;34m(_T, n)\u001b[0m\n\u001b[0;32m     20\u001b[0m \u001b[38;5;28;01mdef\u001b[39;00m \u001b[38;5;21mtabulation\u001b[39m( _T, n):\n\u001b[0;32m     21\u001b[0m     t\u001b[38;5;241m=\u001b[39mnp\u001b[38;5;241m.\u001b[39mlinspace(\u001b[38;5;241m0\u001b[39m, _T, num\u001b[38;5;241m=\u001b[39m\u001b[38;5;241m50\u001b[39m)\n\u001b[1;32m---> 22\u001b[0m     lag \u001b[38;5;241m=\u001b[39m [Laguerr(i, n) \u001b[38;5;28;01mfor\u001b[39;00m i \u001b[38;5;129;01min\u001b[39;00m t]\n\u001b[0;32m     23\u001b[0m     lag1 \u001b[38;5;241m=\u001b[39m [Laguerr(i, n\u001b[38;5;241m+\u001b[39m\u001b[38;5;241m1\u001b[39m) \u001b[38;5;28;01mfor\u001b[39;00m i \u001b[38;5;129;01min\u001b[39;00m t]\n\u001b[0;32m     24\u001b[0m     lag2 \u001b[38;5;241m=\u001b[39m [Laguerr(i, n\u001b[38;5;241m+\u001b[39m\u001b[38;5;241m2\u001b[39m) \u001b[38;5;28;01mfor\u001b[39;00m i \u001b[38;5;129;01min\u001b[39;00m t]\n",
      "Input \u001b[1;32mIn [58]\u001b[0m, in \u001b[0;36m<listcomp>\u001b[1;34m(.0)\u001b[0m\n\u001b[0;32m     20\u001b[0m \u001b[38;5;28;01mdef\u001b[39;00m \u001b[38;5;21mtabulation\u001b[39m( _T, n):\n\u001b[0;32m     21\u001b[0m     t\u001b[38;5;241m=\u001b[39mnp\u001b[38;5;241m.\u001b[39mlinspace(\u001b[38;5;241m0\u001b[39m, _T, num\u001b[38;5;241m=\u001b[39m\u001b[38;5;241m50\u001b[39m)\n\u001b[1;32m---> 22\u001b[0m     lag \u001b[38;5;241m=\u001b[39m [\u001b[43mLaguerr\u001b[49m\u001b[43m(\u001b[49m\u001b[43mi\u001b[49m\u001b[43m,\u001b[49m\u001b[43m \u001b[49m\u001b[43mn\u001b[49m\u001b[43m)\u001b[49m \u001b[38;5;28;01mfor\u001b[39;00m i \u001b[38;5;129;01min\u001b[39;00m t]\n\u001b[0;32m     23\u001b[0m     lag1 \u001b[38;5;241m=\u001b[39m [Laguerr(i, n\u001b[38;5;241m+\u001b[39m\u001b[38;5;241m1\u001b[39m) \u001b[38;5;28;01mfor\u001b[39;00m i \u001b[38;5;129;01min\u001b[39;00m t]\n\u001b[0;32m     24\u001b[0m     lag2 \u001b[38;5;241m=\u001b[39m [Laguerr(i, n\u001b[38;5;241m+\u001b[39m\u001b[38;5;241m2\u001b[39m) \u001b[38;5;28;01mfor\u001b[39;00m i \u001b[38;5;129;01min\u001b[39;00m t]\n",
      "Input \u001b[1;32mIn [53]\u001b[0m, in \u001b[0;36mLaguerr\u001b[1;34m(t, n)\u001b[0m\n\u001b[0;32m     14\u001b[0m     \u001b[38;5;28;01mreturn\u001b[39;00m(math\u001b[38;5;241m.\u001b[39msqrt(sig) \u001b[38;5;241m*\u001b[39m (\u001b[38;5;241m1\u001b[39m\u001b[38;5;241m-\u001b[39m(sig \u001b[38;5;241m*\u001b[39m t)) \u001b[38;5;241m*\u001b[39m (math\u001b[38;5;241m.\u001b[39me \u001b[38;5;241m*\u001b[39m\u001b[38;5;241m*\u001b[39m ((bet\u001b[38;5;241m/\u001b[39m(\u001b[38;5;241m-\u001b[39m\u001b[38;5;241m2\u001b[39m)) \u001b[38;5;241m*\u001b[39m t)))\n\u001b[0;32m     15\u001b[0m \u001b[38;5;28;01melse\u001b[39;00m:\n\u001b[1;32m---> 16\u001b[0m     \u001b[38;5;28;01mreturn\u001b[39;00m((((\u001b[38;5;241m2\u001b[39m \u001b[38;5;241m*\u001b[39m n \u001b[38;5;241m-\u001b[39m \u001b[38;5;241m1\u001b[39m \u001b[38;5;241m-\u001b[39m sig \u001b[38;5;241m*\u001b[39m t)\u001b[38;5;241m/\u001b[39mn) \u001b[38;5;241m*\u001b[39m \u001b[43mLaguerr\u001b[49m\u001b[43m(\u001b[49m\u001b[43mn\u001b[49m\u001b[38;5;241;43m-\u001b[39;49m\u001b[38;5;241;43m1\u001b[39;49m\u001b[43m,\u001b[49m\u001b[43m \u001b[49m\u001b[43mt\u001b[49m\u001b[43m)\u001b[49m) \u001b[38;5;241m-\u001b[39m (((n \u001b[38;5;241m-\u001b[39m \u001b[38;5;241m1\u001b[39m)\u001b[38;5;241m/\u001b[39mn) \u001b[38;5;241m*\u001b[39m Laguerr(n\u001b[38;5;241m-\u001b[39m\u001b[38;5;241m2\u001b[39m, t)))\n",
      "Input \u001b[1;32mIn [53]\u001b[0m, in \u001b[0;36mLaguerr\u001b[1;34m(t, n)\u001b[0m\n\u001b[0;32m     14\u001b[0m     \u001b[38;5;28;01mreturn\u001b[39;00m(math\u001b[38;5;241m.\u001b[39msqrt(sig) \u001b[38;5;241m*\u001b[39m (\u001b[38;5;241m1\u001b[39m\u001b[38;5;241m-\u001b[39m(sig \u001b[38;5;241m*\u001b[39m t)) \u001b[38;5;241m*\u001b[39m (math\u001b[38;5;241m.\u001b[39me \u001b[38;5;241m*\u001b[39m\u001b[38;5;241m*\u001b[39m ((bet\u001b[38;5;241m/\u001b[39m(\u001b[38;5;241m-\u001b[39m\u001b[38;5;241m2\u001b[39m)) \u001b[38;5;241m*\u001b[39m t)))\n\u001b[0;32m     15\u001b[0m \u001b[38;5;28;01melse\u001b[39;00m:\n\u001b[1;32m---> 16\u001b[0m     \u001b[38;5;28;01mreturn\u001b[39;00m((\u001b[43m(\u001b[49m\u001b[43m(\u001b[49m\u001b[38;5;241;43m2\u001b[39;49m\u001b[43m \u001b[49m\u001b[38;5;241;43m*\u001b[39;49m\u001b[43m \u001b[49m\u001b[43mn\u001b[49m\u001b[43m \u001b[49m\u001b[38;5;241;43m-\u001b[39;49m\u001b[43m \u001b[49m\u001b[38;5;241;43m1\u001b[39;49m\u001b[43m \u001b[49m\u001b[38;5;241;43m-\u001b[39;49m\u001b[43m \u001b[49m\u001b[43msig\u001b[49m\u001b[43m \u001b[49m\u001b[38;5;241;43m*\u001b[39;49m\u001b[43m \u001b[49m\u001b[43mt\u001b[49m\u001b[43m)\u001b[49m\u001b[38;5;241;43m/\u001b[39;49m\u001b[43mn\u001b[49m\u001b[43m)\u001b[49m\u001b[43m \u001b[49m\u001b[38;5;241;43m*\u001b[39;49m\u001b[43m \u001b[49m\u001b[43mLaguerr\u001b[49m\u001b[43m(\u001b[49m\u001b[43mn\u001b[49m\u001b[38;5;241;43m-\u001b[39;49m\u001b[38;5;241;43m1\u001b[39;49m\u001b[43m,\u001b[49m\u001b[43m \u001b[49m\u001b[43mt\u001b[49m\u001b[43m)\u001b[49m) \u001b[38;5;241m-\u001b[39m (((n \u001b[38;5;241m-\u001b[39m \u001b[38;5;241m1\u001b[39m)\u001b[38;5;241m/\u001b[39mn) \u001b[38;5;241m*\u001b[39m Laguerr(n\u001b[38;5;241m-\u001b[39m\u001b[38;5;241m2\u001b[39m, t)))\n",
      "\u001b[1;31mTypeError\u001b[0m: unsupported operand type(s) for *: 'float' and 'NoneType'"
     ]
    }
   ],
   "source": [
    "construct_a_graph(tabulation(8,2))"
   ]
  },
  {
   "cell_type": "code",
   "execution_count": 9,
   "id": "fa34641b-c4e7-48df-9dcb-9aa9f9d2ffd5",
   "metadata": {},
   "outputs": [],
   "source": [
    " \n",
    "#В np.random.permutation(n) числа не повторюються (випадкова перестановка чисел в [0, n) диапазоні). \n",
    "#В np.random.randint(n, size=m) числа можуть повторюватися (генерирується m  чисел з [0, n) диапазона з заміною) \n",
    "#Приклад: np.random.randint(2, size=5) -> array([1, 1, 0, 1, 0]) \n"
   ]
  },
  {
   "cell_type": "code",
   "execution_count": 4,
   "id": "0b30042f-2930-417a-9f87-d8998199fe8b",
   "metadata": {},
   "outputs": [],
   "source": [
    "def f(x):\n",
    "    return x**2\n"
   ]
  },
  {
   "cell_type": "code",
   "execution_count": 7,
   "id": "6969c50f-e5c2-4c82-9e8c-3731c0386ec0",
   "metadata": {},
   "outputs": [],
   "source": [
    "def method_of_rectangles(f, a, b, num_of_points):\n",
    "    n = ((b-a)/num_of_points)/2\n",
    "    points = np.linspace(a+n, b-n, num_of_points)\n",
    "    S = sum(f(points))*(b-a)/(num_of_points-1) \n",
    "    return S"
   ]
  },
  {
   "cell_type": "code",
   "execution_count": 9,
   "id": "33fd2aab-2531-4db7-9e57-db9633246e69",
   "metadata": {},
   "outputs": [
    {
     "name": "stdout",
     "output_type": "stream",
     "text": [
      "48.86831275720166\n",
      "42.300105431418565\n",
      "41.98126309941667\n",
      "41.72925010429181\n",
      "41.672917500104106\n"
     ]
    }
   ],
   "source": [
    "print(method_of_rectangles(f,0,5,10))\n",
    "print(method_of_rectangles(f,0,5,100))\n",
    "print(method_of_rectangles(f,0,5,200))\n",
    "print(method_of_rectangles(f,0,5,1000))\n",
    "print(method_of_rectangles(f,0,5,10000))"
   ]
  },
  {
   "cell_type": "code",
   "execution_count": null,
   "id": "f6bc0f82-5b2e-4aa5-9a0b-a89a86849345",
   "metadata": {},
   "outputs": [],
   "source": []
  },
  {
   "cell_type": "code",
   "execution_count": null,
   "id": "28c1af49-d759-4ef5-a562-91087ad478b5",
   "metadata": {},
   "outputs": [],
   "source": []
  }
 ],
 "metadata": {
  "kernelspec": {
   "display_name": "Python 3 (ipykernel)",
   "language": "python",
   "name": "python3"
  },
  "language_info": {
   "codemirror_mode": {
    "name": "ipython",
    "version": 3
   },
   "file_extension": ".py",
   "mimetype": "text/x-python",
   "name": "python",
   "nbconvert_exporter": "python",
   "pygments_lexer": "ipython3",
   "version": "3.9.12"
  }
 },
 "nbformat": 4,
 "nbformat_minor": 5
}
