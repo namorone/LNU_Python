{
 "cells": [
  {
   "cell_type": "code",
   "execution_count": 20,
   "id": "60718c9d-9ffe-4b9e-825c-3e555c41702f",
   "metadata": {},
   "outputs": [],
   "source": [
    "class Employee:\n",
    "    def __init__(self, first, last):\n",
    "        self.first = first\n",
    "        self.last = last\n",
    "    \n",
    "    def f(self):\n",
    "        return('Employee')\n",
    "\n",
    "    def __str__(self):\n",
    "        return f'Name: {self.first}\\nSurname: {self.last}\\n'\n",
    "\n",
    "    @property\n",
    "    def email(self):\n",
    "        '''getter for email'''\n",
    "        return f'{self.first}.{self.last}@email.com'\n",
    "    \n",
    "    @property\n",
    "    def fullname(self):\n",
    "        return f'{self.first} {self.last}'\n",
    "    \n",
    "    @fullname.setter\n",
    "    def fullname(self, name):\n",
    "        self.first, self.last=name.split(' ')"
   ]
  },
  {
   "cell_type": "code",
   "execution_count": 21,
   "id": "bab330a1-527e-4f48-a8c0-5bb377670904",
   "metadata": {},
   "outputs": [],
   "source": [
    "class Subject():\n",
    "    def __init__(self, name, department):\n",
    "        self.name = name\n",
    "        self.department = department\n",
    "    \n",
    "    def f(self):\n",
    "        return('Subject')\n",
    "    def __str__(self):\n",
    "        return f'Name of subject: {self.name}\\nChair: {self.department}\\n'\n",
    "    @property\n",
    "    def name(self):\n",
    "        return self._name\n",
    "    @name.setter\n",
    "    def name(self, value):\n",
    "        self._name = value\n",
    "    @property\n",
    "    def department(self):\n",
    "        return self._department\n",
    "    @department.setter\n",
    "    def department(self, value):\n",
    "        self._department = value"
   ]
  },
  {
   "cell_type": "code",
   "execution_count": 22,
   "id": "5a03b0e1-9ecf-4fbd-a291-a1648158f379",
   "metadata": {},
   "outputs": [],
   "source": [
    "class Teacher(Employee, Subject):\n",
    "    def __init__(self, first, last, name, department, rank):\n",
    "        Employee.__init__(self, first, last)\n",
    "        Subject.__init__(self, name, department)\n",
    "        self.rank = rank\n",
    "    def __str__(self):\n",
    "        return Employee.__str__(self) + Subject.__str__(self) + f'Rank: {self.rank}'\n",
    "    @property\n",
    "    def rank(self):\n",
    "        return self._rank\n",
    "    @rank.setter\n",
    "    def rank(self, value):\n",
    "        self._rank = value"
   ]
  },
  {
   "cell_type": "code",
   "execution_count": 23,
   "id": "c23ae928-a137-46e6-a452-4973f1ef51a7",
   "metadata": {},
   "outputs": [
    {
     "name": "stdout",
     "output_type": "stream",
     "text": [
      "Name: Sviatozar\n",
      "Surname: Matiash\n",
      "Name of subject: Math\n",
      "Chair: Faculty of Applied Math\n",
      "Rank: Docent\n"
     ]
    },
    {
     "data": {
      "text/plain": [
       "'Employee'"
      ]
     },
     "execution_count": 23,
     "metadata": {},
     "output_type": "execute_result"
    }
   ],
   "source": [
    "teacher_1 = Teacher('Sviatozar', 'Matiash', 'Math', 'Faculty of Applied Math', 'Docent')\n",
    "print(teacher_1)\n",
    "teacher_1.f()"
   ]
  },
  {
   "cell_type": "code",
   "execution_count": null,
   "id": "43f59297-7c04-45a0-9283-39788ef56c1a",
   "metadata": {},
   "outputs": [],
   "source": []
  }
 ],
 "metadata": {
  "kernelspec": {
   "display_name": "Python 3 (ipykernel)",
   "language": "python",
   "name": "python3"
  },
  "language_info": {
   "codemirror_mode": {
    "name": "ipython",
    "version": 3
   },
   "file_extension": ".py",
   "mimetype": "text/x-python",
   "name": "python",
   "nbconvert_exporter": "python",
   "pygments_lexer": "ipython3",
   "version": "3.9.12"
  }
 },
 "nbformat": 4,
 "nbformat_minor": 5
}
