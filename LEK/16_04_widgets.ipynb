{
 "cells": [
  {
   "cell_type": "markdown",
   "metadata": {},
   "source": [
    "## [Constructing UI with interactive APIs](https://ipywidgets.readthedocs.io/en/latest/examples/Using%20Interact.html)\n",
    "________________"
   ]
  },
  {
   "cell_type": "code",
   "execution_count": 1,
   "metadata": {},
   "outputs": [],
   "source": [
    "%matplotlib widget\n",
    "from ipywidgets import interactive, interactive_output, fixed, IntSlider, FloatSlider\n",
    "import ipywidgets as widgets\n",
    "import matplotlib.pyplot as plt\n",
    "import numpy as np\n",
    "import datetime"
   ]
  },
  {
   "cell_type": "markdown",
   "metadata": {
    "tags": []
   },
   "source": [
    "## 1. Using `interactive`\n",
    "_______________"
   ]
  },
  {
   "cell_type": "code",
   "execution_count": 2,
   "metadata": {
    "scrolled": true
   },
   "outputs": [],
   "source": [
    "def linear_function(m, b):\n",
    "    x = np.linspace(-5, 5, num=100)\n",
    "    plt.plot(x, m * x + b)\n",
    "    plt.ylim(-5, 5)\n",
    "    plt.show()"
   ]
  },
  {
   "cell_type": "code",
   "execution_count": 3,
   "metadata": {},
   "outputs": [
    {
     "data": {
      "text/plain": [
       "<matplotlib.lines.Line2D at 0x201d4ed4be0>"
      ]
     },
     "execution_count": 3,
     "metadata": {},
     "output_type": "execute_result"
    },
    {
     "data": {
      "application/vnd.jupyter.widget-view+json": {
       "model_id": "6fd9c559a80c4aa1b54bedf17d6f0040",
       "version_major": 2,
       "version_minor": 0
      },
      "image/png": "[encoded data removed]",
      "text/html": [
       "\n",
       "            <div style=\"display: inline-block;\">\n",
       "                <div class=\"jupyter-widgets widget-label\" style=\"text-align: center;\">\n",
       "                    Figure\n",
       "                </div>\n",
       "                <img src='data:image/png;base64,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' width=600.0/>\n",
       "            </div>\n",
       "        "
      ],
      "text/plain": [
       "Canvas(toolbar=Toolbar(toolitems=[('Home', 'Reset original view', 'home', 'home'), ('Back', 'Back to previous …"
      ]
     },
     "metadata": {},
     "output_type": "display_data"
    }
   ],
   "source": [
    "fig = plt.figure(figsize=(6, 4))\n",
    "ax = fig.gca()\n",
    "ax.axhline(color=\"grey\", ls=\"--\", zorder=-1)\n",
    "ax.axvline(color=\"grey\", ls=\"--\", zorder=-1)"
   ]
  },
  {
   "cell_type": "code",
   "execution_count": 4,
   "metadata": {},
   "outputs": [],
   "source": [
    "k=FloatSlider(min=-2.0, max=2.0,  continuous_update=False)\n",
    "b=FloatSlider(min=-3.0, max=3.0,  continuous_update=False)"
   ]
  },
  {
   "cell_type": "code",
   "execution_count": 5,
   "metadata": {
    "scrolled": true
   },
   "outputs": [
    {
     "data": {
      "application/vnd.jupyter.widget-view+json": {
       "model_id": "d891e6bdf3a245f5a10ead7b0dc448b5",
       "version_major": 2,
       "version_minor": 0
      },
      "text/plain": [
       "interactive(children=(FloatSlider(value=0.0, continuous_update=False, description='m', max=2.0, min=-2.0), Flo…"
      ]
     },
     "metadata": {},
     "output_type": "display_data"
    }
   ],
   "source": [
    "interactive(linear_function, m=k, b=b)"
   ]
  },
  {
   "cell_type": "code",
   "execution_count": 6,
   "metadata": {
    "tags": []
   },
   "outputs": [],
   "source": [
    "plt.close('all')"
   ]
  },
  {
   "cell_type": "markdown",
   "metadata": {},
   "source": [
    "## 2. Using `interactive_output`\n",
    "__________________"
   ]
  },
  {
   "cell_type": "markdown",
   "metadata": {},
   "source": [
    "* Additional flexibility to control how the UI elements are laid out\n",
    "\n",
    "* `interactive_output` does not generate a user interface for the widgets (unlike `interact`, and `interact_manual`)"
   ]
  },
  {
   "cell_type": "code",
   "execution_count": 7,
   "metadata": {},
   "outputs": [],
   "source": [
    "def f(a, b, c):\n",
    "    print((a, b, c))\n",
    "\n",
    "a1 = IntSlider()\n",
    "b1 = IntSlider()\n",
    "c1 = IntSlider()"
   ]
  },
  {
   "cell_type": "code",
   "execution_count": 8,
   "metadata": {},
   "outputs": [],
   "source": [
    "ui = widgets.VBox([a1, b1, c1])\n",
    "out = interactive_output(f, {'a': a1, 'b': b1, 'c': c1})"
   ]
  },
  {
   "cell_type": "code",
   "execution_count": 9,
   "metadata": {},
   "outputs": [
    {
     "data": {
      "application/vnd.jupyter.widget-view+json": {
       "model_id": "f2a96045c7124fb9aea7763d0727bf11",
       "version_major": 2,
       "version_minor": 0
      },
      "text/plain": [
       "VBox(children=(IntSlider(value=0), IntSlider(value=0), IntSlider(value=0)))"
      ]
     },
     "metadata": {},
     "output_type": "display_data"
    },
    {
     "data": {
      "application/vnd.jupyter.widget-view+json": {
       "model_id": "80872b7a4efa4c6f9d93bcf4bb146e9d",
       "version_major": 2,
       "version_minor": 0
      },
      "text/plain": [
       "Output(outputs=({'name': 'stdout', 'text': '(0, 0, 0)\\n', 'output_type': 'stream'},))"
      ]
     },
     "metadata": {},
     "output_type": "display_data"
    }
   ],
   "source": [
    "display(ui, out)"
   ]
  },
  {
   "cell_type": "code",
   "execution_count": 10,
   "metadata": {},
   "outputs": [],
   "source": [
    "ui = widgets.HBox([a1, b1, c1])\n",
    "out = interactive_output(f, {'a': a1, 'b': b1, 'c': c1})"
   ]
  },
  {
   "cell_type": "code",
   "execution_count": 11,
   "metadata": {},
   "outputs": [
    {
     "data": {
      "application/vnd.jupyter.widget-view+json": {
       "model_id": "e18e20558961445ead4cd427dd3fe8a0",
       "version_major": 2,
       "version_minor": 0
      },
      "text/plain": [
       "HBox(children=(IntSlider(value=0), IntSlider(value=0), IntSlider(value=0)))"
      ]
     },
     "metadata": {},
     "output_type": "display_data"
    },
    {
     "data": {
      "application/vnd.jupyter.widget-view+json": {
       "model_id": "fbd90f544ff041bc8313ebb1be82878d",
       "version_major": 2,
       "version_minor": 0
      },
      "text/plain": [
       "Output(outputs=({'name': 'stdout', 'text': '(0, 0, 0)\\n', 'output_type': 'stream'},))"
      ]
     },
     "metadata": {},
     "output_type": "display_data"
    }
   ],
   "source": [
    "display(ui, out)"
   ]
  },
  {
   "cell_type": "code",
   "execution_count": 12,
   "metadata": {},
   "outputs": [],
   "source": [
    "plt.close('all')"
   ]
  },
  {
   "cell_type": "code",
   "execution_count": 13,
   "metadata": {
    "tags": []
   },
   "outputs": [
    {
     "data": {
      "application/vnd.jupyter.widget-view+json": {
       "model_id": "3554bc67a29f473987710c85d25d4716",
       "version_major": 2,
       "version_minor": 0
      },
      "text/plain": [
       "Output()"
      ]
     },
     "metadata": {},
     "output_type": "display_data"
    },
    {
     "data": {
      "application/vnd.jupyter.widget-view+json": {
       "model_id": "53aed5ee8e7548538441f763f17b3979",
       "version_major": 2,
       "version_minor": 0
      },
      "text/plain": [
       "HBox(children=(FloatSlider(value=0.0, continuous_update=False, description='m', max=2.0, min=-2.0), FloatSlide…"
      ]
     },
     "metadata": {},
     "output_type": "display_data"
    }
   ],
   "source": [
    "uilf = widgets.HBox([k, b])\n",
    "outlf = interactive_output(linear_function, {'m': k, 'b': b})\n",
    "\n",
    "display(outlf, uilf)"
   ]
  },
  {
   "cell_type": "code",
   "execution_count": 14,
   "metadata": {},
   "outputs": [],
   "source": [
    "plt.close('all')"
   ]
  },
  {
   "cell_type": "code",
   "execution_count": 18,
   "metadata": {},
   "outputs": [
    {
     "data": {
      "application/vnd.jupyter.widget-view+json": {
       "model_id": "082e8b174790496da63b1ed0ab3f1ba7",
       "version_major": 2,
       "version_minor": 0
      },
      "text/plain": [
       "Output()"
      ]
     },
     "metadata": {},
     "output_type": "display_data"
    },
    {
     "data": {
      "application/vnd.jupyter.widget-view+json": {
       "model_id": "e56de79386d944b78c49a6f694d9e5c3",
       "version_major": 2,
       "version_minor": 0
      },
      "text/plain": [
       "VBox(children=(FloatSlider(value=0.8, continuous_update=False, description='m', max=2.0, min=-2.0), FloatSlide…"
      ]
     },
     "metadata": {},
     "output_type": "display_data"
    }
   ],
   "source": [
    "uilf = widgets.VBox([k, b])\n",
    "outlf = interactive_output(linear_function, {'m': k, 'b': b})\n",
    "\n",
    "display(outlf, uilf)"
   ]
  },
  {
   "cell_type": "code",
   "execution_count": 19,
   "metadata": {},
   "outputs": [],
   "source": [
    "plt.close('all')"
   ]
  },
  {
   "cell_type": "markdown",
   "metadata": {},
   "source": [
    "## 3. Linking two similar widgets\n",
    "____________________\n",
    "* to display the same value two different ways\n",
    "* instead of attempting to manually synchronize the values of the two widgets\n",
    "* to link two properties together"
   ]
  },
  {
   "cell_type": "code",
   "execution_count": 20,
   "metadata": {},
   "outputs": [
    {
     "data": {
      "application/vnd.jupyter.widget-view+json": {
       "model_id": "8a71a77a558049e99fb479622ba9b0ff",
       "version_major": 2,
       "version_minor": 0
      },
      "text/plain": [
       "FloatText(value=0.0)"
      ]
     },
     "metadata": {},
     "output_type": "display_data"
    },
    {
     "data": {
      "application/vnd.jupyter.widget-view+json": {
       "model_id": "8be38264206747dd92184821bb0b3d82",
       "version_major": 2,
       "version_minor": 0
      },
      "text/plain": [
       "FloatSlider(value=0.0)"
      ]
     },
     "metadata": {},
     "output_type": "display_data"
    }
   ],
   "source": [
    "a = widgets.FloatText()\n",
    "b = widgets.FloatSlider()\n",
    "display(a,b)\n",
    "\n",
    "mylink = widgets.jslink((a, 'value'), (b, 'value'))"
   ]
  },
  {
   "cell_type": "code",
   "execution_count": 21,
   "metadata": {},
   "outputs": [],
   "source": [
    "mylink.unlink()\n"
   ]
  },
  {
   "cell_type": "markdown",
   "metadata": {},
   "source": [
    "## 4. [Overview of widgets](https://ipywidgets.readthedocs.io/en/latest/examples/Widget%20List.html)\n",
    "________________________"
   ]
  },
  {
   "cell_type": "code",
   "execution_count": 22,
   "metadata": {},
   "outputs": [],
   "source": [
    "from ipywidgets import interact, interactive, fixed, interact_manual\n",
    "import ipywidgets as widgets"
   ]
  },
  {
   "cell_type": "code",
   "execution_count": 23,
   "metadata": {},
   "outputs": [],
   "source": [
    "wd=widgets.Dropdown(\n",
    "    options=['1', '2', '3'],\n",
    "    value='1',\n",
    "    description='Number:',\n",
    "    disabled=False,\n",
    ")"
   ]
  },
  {
   "cell_type": "code",
   "execution_count": 24,
   "metadata": {},
   "outputs": [
    {
     "data": {
      "application/vnd.jupyter.widget-view+json": {
       "model_id": "f58c5f2c4110478da3dd2d966d6326a4",
       "version_major": 2,
       "version_minor": 0
      },
      "text/plain": [
       "Dropdown(description='Number:', options=('1', '2', '3'), value='1')"
      ]
     },
     "metadata": {},
     "output_type": "display_data"
    }
   ],
   "source": [
    "wd"
   ]
  },
  {
   "cell_type": "code",
   "execution_count": 25,
   "metadata": {},
   "outputs": [
    {
     "data": {
      "text/plain": [
       "'1'"
      ]
     },
     "execution_count": 25,
     "metadata": {},
     "output_type": "execute_result"
    }
   ],
   "source": [
    "wd.value"
   ]
  },
  {
   "cell_type": "code",
   "execution_count": null,
   "metadata": {},
   "outputs": [],
   "source": [
    "wd.value='2'"
   ]
  },
  {
   "cell_type": "code",
   "execution_count": null,
   "metadata": {},
   "outputs": [],
   "source": [
    "wp=widgets.IntProgress(\n",
    "    value=8,\n",
    "    min=0,\n",
    "    max=10,\n",
    "    step=1,\n",
    "    description='Loading:',\n",
    "    bar_style='', # 'success', 'info', 'warning', 'danger' or ''\n",
    "    orientation='horizontal'\n",
    ")"
   ]
  },
  {
   "cell_type": "code",
   "execution_count": null,
   "metadata": {},
   "outputs": [],
   "source": [
    "wp"
   ]
  },
  {
   "cell_type": "code",
   "execution_count": null,
   "metadata": {},
   "outputs": [],
   "source": [
    "wp.value+=1"
   ]
  },
  {
   "cell_type": "code",
   "execution_count": null,
   "metadata": {},
   "outputs": [],
   "source": [
    "#Tab\n",
    "#wp."
   ]
  },
  {
   "cell_type": "code",
   "execution_count": null,
   "metadata": {},
   "outputs": [],
   "source": [
    "wra=widgets.RadioButtons(\n",
    "    options=['pepperoni', 'pineapple', 'anchovies'],\n",
    "    value='pineapple',\n",
    "    description='Pizza :',\n",
    "    disabled=True\n",
    "#    disabled=False\n",
    ")"
   ]
  },
  {
   "cell_type": "code",
   "execution_count": null,
   "metadata": {},
   "outputs": [],
   "source": [
    "wra"
   ]
  },
  {
   "cell_type": "code",
   "execution_count": null,
   "metadata": {},
   "outputs": [],
   "source": [
    "wra.index=0"
   ]
  },
  {
   "cell_type": "code",
   "execution_count": null,
   "metadata": {},
   "outputs": [],
   "source": [
    "wt=widgets.Text(\n",
    "    value='Hello World',\n",
    "    placeholder='Type something',\n",
    "    description='String:',\n",
    "    disabled=True\n",
    ")"
   ]
  },
  {
   "cell_type": "code",
   "execution_count": null,
   "metadata": {},
   "outputs": [],
   "source": [
    "wt"
   ]
  },
  {
   "cell_type": "code",
   "execution_count": null,
   "metadata": {},
   "outputs": [],
   "source": [
    "wt.value"
   ]
  },
  {
   "cell_type": "code",
   "execution_count": null,
   "metadata": {},
   "outputs": [],
   "source": [
    "wta=widgets.Textarea(\n",
    "    value='Hello World',\n",
    "    placeholder='Type something',\n",
    "    description='String:',\n",
    "    disabled=False\n",
    ")"
   ]
  },
  {
   "cell_type": "code",
   "execution_count": null,
   "metadata": {},
   "outputs": [],
   "source": [
    "wta"
   ]
  },
  {
   "cell_type": "code",
   "execution_count": null,
   "metadata": {},
   "outputs": [],
   "source": [
    "wta.value"
   ]
  },
  {
   "cell_type": "code",
   "execution_count": null,
   "metadata": {},
   "outputs": [],
   "source": [
    "wm=widgets.HTMLMath(\n",
    "    value=r\"Some math and <i>HTML</i>: \\(x^2\\) and $\\frac{x+1}{x-1}$\",\n",
    "    placeholder='Some HTML',\n",
    "    description='Some HTML',\n",
    ")"
   ]
  },
  {
   "cell_type": "code",
   "execution_count": null,
   "metadata": {},
   "outputs": [],
   "source": [
    "wm"
   ]
  },
  {
   "cell_type": "code",
   "execution_count": null,
   "metadata": {},
   "outputs": [],
   "source": [
    "file = open(\"MVC.png\", \"rb\")\n",
    "image = file.read()\n",
    "wf=widgets.Image(\n",
    "    value=image,\n",
    "    format='png',\n",
    "    width=300,\n",
    "    height=400,\n",
    ")"
   ]
  },
  {
   "cell_type": "code",
   "execution_count": null,
   "metadata": {},
   "outputs": [],
   "source": [
    "wf"
   ]
  },
  {
   "cell_type": "code",
   "execution_count": null,
   "metadata": {},
   "outputs": [],
   "source": [
    "wb=widgets.Button(\n",
    "    description='Click me',\n",
    "    disabled=False,\n",
    "    button_style='warning', # 'success', 'info', 'warning', 'danger' or ''\n",
    "    tooltip='Click me',\n",
    "    icon='check'\n",
    ")"
   ]
  },
  {
   "cell_type": "code",
   "execution_count": null,
   "metadata": {},
   "outputs": [],
   "source": [
    "# Tab\n",
    "#wb."
   ]
  },
  {
   "cell_type": "code",
   "execution_count": null,
   "metadata": {},
   "outputs": [],
   "source": [
    "play = widgets.Play(\n",
    "     interval=10,\n",
    "    value=50,\n",
    "    min=0,\n",
    "    max=100,\n",
    "    step=1,\n",
    "    description=\"Press play\",\n",
    "    disabled=False\n",
    ")\n",
    "slider = widgets.IntSlider()\n",
    "widgets.jslink((play, 'value'), (slider, 'value'))\n",
    "widgets.HBox([play, slider])"
   ]
  },
  {
   "cell_type": "code",
   "execution_count": null,
   "metadata": {},
   "outputs": [],
   "source": [
    "wd=widgets.DatePicker(\n",
    "    description='Pick a Date',\n",
    "    disabled=False\n",
    ")"
   ]
  },
  {
   "cell_type": "code",
   "execution_count": null,
   "metadata": {},
   "outputs": [],
   "source": [
    "import datetime"
   ]
  },
  {
   "cell_type": "code",
   "execution_count": null,
   "metadata": {},
   "outputs": [],
   "source": [
    "wd"
   ]
  },
  {
   "cell_type": "code",
   "execution_count": null,
   "metadata": {},
   "outputs": [],
   "source": [
    "d=wd.value\n",
    "d"
   ]
  },
  {
   "cell_type": "code",
   "execution_count": null,
   "metadata": {},
   "outputs": [],
   "source": [
    "type(d)"
   ]
  },
  {
   "cell_type": "code",
   "execution_count": null,
   "metadata": {},
   "outputs": [],
   "source": [
    "help(datetime.date)"
   ]
  },
  {
   "cell_type": "code",
   "execution_count": null,
   "metadata": {},
   "outputs": [],
   "source": [
    "d1=wd.value\n",
    "d1"
   ]
  },
  {
   "cell_type": "code",
   "execution_count": null,
   "metadata": {},
   "outputs": [],
   "source": [
    "d1-d"
   ]
  },
  {
   "cell_type": "code",
   "execution_count": null,
   "metadata": {},
   "outputs": [],
   "source": [
    "datetime.date(2022, 11, 18)-datetime.date(2022, 10, 18)\n"
   ]
  },
  {
   "cell_type": "code",
   "execution_count": null,
   "metadata": {},
   "outputs": [],
   "source": [
    "wc=widgets.ColorPicker(\n",
    "    concise=False,\n",
    "    description='Pick a color',\n",
    "    value='blue',\n",
    "    disabled=False\n",
    ")"
   ]
  },
  {
   "cell_type": "code",
   "execution_count": null,
   "metadata": {},
   "outputs": [],
   "source": [
    "wc"
   ]
  },
  {
   "cell_type": "markdown",
   "metadata": {},
   "source": [
    "## 5. Container and Layout widgets\n",
    "____________"
   ]
  },
  {
   "cell_type": "code",
   "execution_count": null,
   "metadata": {},
   "outputs": [],
   "source": [
    "items = [widgets.Label(str(i)) for i in range(4)]\n",
    "widgets.HBox(items)"
   ]
  },
  {
   "cell_type": "code",
   "execution_count": null,
   "metadata": {},
   "outputs": [],
   "source": [
    "items = [widgets.Label(str(i)) for i in range(4)]\n",
    "left_box = widgets.VBox([items[0], items[1],slider])\n",
    "right_box = widgets.VBox([items[2], items[3]])\n",
    "widgets.HBox([left_box, right_box])"
   ]
  },
  {
   "cell_type": "code",
   "execution_count": null,
   "metadata": {},
   "outputs": [],
   "source": [
    "accordion = widgets.Accordion(children=[widgets.IntSlider(), widgets.Text(), widgets.IntSlider()])\n",
    "accordion.set_title(0, 'Slider')\n",
    "accordion.set_title(1, 'Text')\n",
    "accordion.set_title(2, 'Slider1')\n",
    "accordion"
   ]
  },
  {
   "cell_type": "code",
   "execution_count": null,
   "metadata": {},
   "outputs": [],
   "source": [
    "accordion.children"
   ]
  },
  {
   "cell_type": "code",
   "execution_count": null,
   "metadata": {},
   "outputs": [],
   "source": [
    "accordion.selected_index = 0"
   ]
  },
  {
   "cell_type": "code",
   "execution_count": null,
   "metadata": {},
   "outputs": [],
   "source": [
    "accordion.children"
   ]
  },
  {
   "cell_type": "code",
   "execution_count": null,
   "metadata": {},
   "outputs": [],
   "source": [
    "tab_contents = ['P0', 'P1', 'P2', 'P3', 'P4']\n",
    "children = [widgets.Text(description=name) for name in tab_contents]\n",
    "tab = widgets.Tab()\n",
    "tab.children = children\n",
    "for i in range(len(children)):\n",
    "    tab.set_title(i, str(i))\n",
    "tab"
   ]
  },
  {
   "cell_type": "code",
   "execution_count": null,
   "metadata": {
    "tags": []
   },
   "outputs": [],
   "source": [
    "tab.children"
   ]
  },
  {
   "cell_type": "code",
   "execution_count": null,
   "metadata": {},
   "outputs": [],
   "source": [
    "tab.selected_index = 2"
   ]
  },
  {
   "cell_type": "code",
   "execution_count": null,
   "metadata": {},
   "outputs": [],
   "source": [
    "tab.children[3].value='cpp'"
   ]
  },
  {
   "cell_type": "code",
   "execution_count": null,
   "metadata": {},
   "outputs": [],
   "source": [
    "### Generate a sound\n",
    "import numpy as np\n",
    "from IPython.display import Audio\n",
    "framerate = 44100\n",
    "t = np.linspace(0,10,framerate*5)\n",
    "data = np.sin(2*np.pi*220*t) + np.sin(2*np.pi*224*t)\n",
    "Audio(data,rate=framerate)"
   ]
  },
  {
   "cell_type": "markdown",
   "metadata": {},
   "source": [
    "## 6. Output widgets\n",
    "_______________________\n",
    "\n",
    "* output widget forms the basis of how `interact()` and related methods are implemented\n",
    "* output widget can also be used by itself to create rich layouts with widgets and code output; one simple way to customize how an interact UI looks is to use  `interactive_output()` to hook controls up to a function whose output is captured in the returned output widget\n",
    "\n",
    "[Output widgets: leveraging Jupyter’s display system](https://ipywidgets.readthedocs.io/en/latest/examples/Output%20Widget.html)"
   ]
  },
  {
   "cell_type": "code",
   "execution_count": null,
   "metadata": {},
   "outputs": [],
   "source": [
    "out = widgets.Output(layout={'border': '1px solid black'})\n",
    "out"
   ]
  },
  {
   "cell_type": "code",
   "execution_count": null,
   "metadata": {},
   "outputs": [],
   "source": [
    "with out:\n",
    "    for i in range(3):\n",
    "        print(i, 'Hello world!')"
   ]
  },
  {
   "cell_type": "code",
   "execution_count": null,
   "metadata": {},
   "outputs": [],
   "source": [
    "from IPython.display import YouTubeVideo\n",
    "with out:\n",
    "    display(YouTubeVideo('UO98lJQ3QGI'))"
   ]
  },
  {
   "cell_type": "code",
   "execution_count": null,
   "metadata": {},
   "outputs": [],
   "source": [
    "plt.close('all')"
   ]
  },
  {
   "cell_type": "code",
   "execution_count": null,
   "metadata": {
    "scrolled": true
   },
   "outputs": [],
   "source": [
    "def linear_function(m, b):\n",
    "    x = np.linspace(-5, 5, num=100)\n",
    "    plt.plot(x, m * x + b)\n",
    "    plt.ylim(-5, 5)"
   ]
  },
  {
   "cell_type": "code",
   "execution_count": null,
   "metadata": {},
   "outputs": [],
   "source": [
    "with out:\n",
    "    outlf = widgets.interactive_output(linear_function, {'m': k, 'b': b})\n",
    "    display(outlf,uilf)"
   ]
  },
  {
   "cell_type": "code",
   "execution_count": null,
   "metadata": {},
   "outputs": [],
   "source": [
    "out.clear_output()"
   ]
  },
  {
   "cell_type": "code",
   "execution_count": null,
   "metadata": {},
   "outputs": [],
   "source": [
    "plt.close('all')"
   ]
  },
  {
   "cell_type": "code",
   "execution_count": null,
   "metadata": {},
   "outputs": [],
   "source": []
  }
 ],
 "metadata": {
  "kernelspec": {
   "display_name": "Python 3 (ipykernel)",
   "language": "python",
   "name": "python3"
  },
  "language_info": {
   "codemirror_mode": {
    "name": "ipython",
    "version": 3
   },
   "file_extension": ".py",
   "mimetype": "text/x-python",
   "name": "python",
   "nbconvert_exporter": "python",
   "pygments_lexer": "ipython3",
   "version": "3.9.12"
  }
 },
 "nbformat": 4,
 "nbformat_minor": 4
}
