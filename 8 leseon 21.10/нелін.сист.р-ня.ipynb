{
 "cells": [
  {
   "cell_type": "code",
   "execution_count": null,
   "id": "1a373348-2121-47eb-b2e6-f521d6cf5d40",
   "metadata": {},
   "outputs": [],
   "source": [
    "обчислення нелінійних систем рівнянь методом ітер"
   ]
  },
  {
   "cell_type": "code",
   "execution_count": null,
   "id": "75047af0-914e-4154-80d8-fb2a3fbb85d1",
   "metadata": {},
   "outputs": [],
   "source": [
    "import numpy as np"
   ]
  },
  {
   "cell_type": "code",
   "execution_count": null,
   "id": "24f00800-fe13-427d-a38e-ac7145a77029",
   "metadata": {},
   "outputs": [],
   "source": [
    "def g(x):\n",
    "    return np.array([(np.sin(x[1]) - 1)/4, (np.cos(x[0]) + 3)/2)])       "
   ]
  },
  {
   "cell_type": "code",
   "execution_count": null,
   "id": "77f4df92-6858-4b87-9622-71bb6f2165c3",
   "metadata": {},
   "outputs": [],
   "source": [
    "def norm_3(x):\n",
    "    return np.sqrt(np.sum(x**2))"
   ]
  },
  {
   "cell_type": "code",
   "execution_count": null,
   "id": "e82e33ca-132e-4230-9a65-23e13b4695fc",
   "metadata": {},
   "outputs": [],
   "source": [
    "def simple_iteration(g, x0, eps):\n",
    "    x_p = x0.copy()\n",
    "\n",
    "    counter = 1\n",
    "    x_n = g(x_p)\n",
    "    while norm_3(x_n - x_p) > eps:\n",
    "        counter += 1\n",
    "        x_p = x_n\n",
    "        x_n = g(x_p)\n",
    "    return x_n, counter"
   ]
  },
  {
   "cell_type": "code",
   "execution_count": null,
   "id": "6349acd4-48a0-4cc7-a7ce-037a922c5b43",
   "metadata": {},
   "outputs": [],
   "source": [
    "simple_iteration(np.array([func1, func2]), -0,25, )"
   ]
  },
  {
   "cell_type": "code",
   "execution_count": null,
   "id": "1eb19f56-9100-4f56-8bb3-7d7b51c5b76d",
   "metadata": {},
   "outputs": [],
   "source": []
  },
  {
   "cell_type": "code",
   "execution_count": null,
   "id": "0dfac826-fcbb-463e-b038-57c3286c12dd",
   "metadata": {},
   "outputs": [],
   "source": [
    "import math \n",
    "import numpy as np\n",
    "\n",
    "def f(x):\n",
    "    return np.array([(np.sin(x[1])-1)/4, (np.cos(x[0])+3)/2])\n",
    "    return \n",
    "def norm_3(x):\n",
    "    return np.sqrt(np.sum(x**2))\n",
    "\n",
    "#Метод ітерацій\n",
    "def simple_iterations_method(g, xp, eps):\n",
    "    n = 0\n",
    "    print(\"Simple iterations method:\")\n",
    "    print(f\"x0 = {xp}\")\n",
    "    x = g(xp)\n",
    "    while norm_3(x - xp) > eps:\n",
    "        xp = x\n",
    "        x = g(xp)\n",
    "        n += 1\n",
    "        #print(f\"x = {x} on {n} iteration\")\n",
    "    print(f\"Root using Iterations ~ {x}, number of iterations = {n}\");\n",
    "    print()\n",
    "\n",
    "simple_iterations_method(f, [-0.25, 1.25], 0.0001 )"
   ]
  }
 ],
 "metadata": {
  "kernelspec": {
   "display_name": "Python 3 (ipykernel)",
   "language": "python",
   "name": "python3"
  },
  "language_info": {
   "codemirror_mode": {
    "name": "ipython",
    "version": 3
   },
   "file_extension": ".py",
   "mimetype": "text/x-python",
   "name": "python",
   "nbconvert_exporter": "python",
   "pygments_lexer": "ipython3",
   "version": "3.9.12"
  }
 },
 "nbformat": 4,
 "nbformat_minor": 5
}
