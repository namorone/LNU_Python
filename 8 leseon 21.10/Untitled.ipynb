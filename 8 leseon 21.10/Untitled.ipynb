{
 "cells": [
  {
   "cell_type": "code",
   "execution_count": null,
   "id": "1b1d7bd6-e544-47c4-857e-41d7cb1df549",
   "metadata": {},
   "outputs": [],
   "source": [
    "def rectangles_method(a, b, n):\n",
    "    result = 0\n",
    "    h = (b - a) / n\n",
    "    for j in range(n):\n",
    "        result += func(a + h * (j + 0.5))\n",
    "    result *= h\n",
    "    return result"
   ]
  }
 ],
 "metadata": {
  "kernelspec": {
   "display_name": "Python 3 (ipykernel)",
   "language": "python",
   "name": "python3"
  },
  "language_info": {
   "codemirror_mode": {
    "name": "ipython",
    "version": 3
   },
   "file_extension": ".py",
   "mimetype": "text/x-python",
   "name": "python",
   "nbconvert_exporter": "python",
   "pygments_lexer": "ipython3",
   "version": "3.9.12"
  }
 },
 "nbformat": 4,
 "nbformat_minor": 5
}
