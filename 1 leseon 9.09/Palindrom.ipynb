{
 "cells": [
  {
   "cell_type": "code",
   "execution_count": 1,
   "id": "2c3be874",
   "metadata": {
    "colab": {
     "base_uri": "https://localhost:8080/"
    },
    "executionInfo": {
     "elapsed": 3920,
     "status": "ok",
     "timestamp": 1662706012953,
     "user": {
      "displayName": "Андрій Іщук",
      "userId": "11745434122380111522"
     },
     "user_tz": -180
    },
    "id": "2c3be874",
    "outputId": "552d7cde-afd1-4a56-9ff2-63e1f917c01f",
    "scrolled": true
   },
   "outputs": [
    {
     "name": "stdin",
     "output_type": "stream",
     "text": [
      " radar\n"
     ]
    },
    {
     "name": "stdout",
     "output_type": "stream",
     "text": [
      "Yes\n"
     ]
    }
   ],
   "source": [
    "word = str(input())\n",
    "n = len(word)//2\n",
    "if len(word) < 2:\n",
    "    print('Word length is less than 2')\n",
    "else:\n",
    "    for i in range(0, n):\n",
    "        if word[i] != word[len(word)-i-1]:\n",
    "            print('No')\n",
    "            break\n",
    "        else:\n",
    "            if i==n-1:\n",
    "                print('Yes')\n",
    "            continue"
   ]
  },
  {
   "cell_type": "code",
   "execution_count": null,
   "id": "a73VfcvAEEW0",
   "metadata": {
    "colab": {
     "base_uri": "https://localhost:8080/"
    },
    "executionInfo": {
     "elapsed": 290,
     "status": "ok",
     "timestamp": 1662707131332,
     "user": {
      "displayName": "Дмитро Грановський",
      "userId": "16919696996704778854"
     },
     "user_tz": -180
    },
    "id": "a73VfcvAEEW0",
    "outputId": "b9aca364-a0b2-4ece-af5a-828af92fdc4b"
   },
   "outputs": [
    {
     "data": {
      "text/plain": [
       "0"
      ]
     },
     "execution_count": 2,
     "metadata": {},
     "output_type": "execute_result"
    }
   ],
   "source": [
    "1//2"
   ]
  }
 ],
 "metadata": {
  "colab": {
   "collapsed_sections": [],
   "provenance": []
  },
  "kernelspec": {
   "display_name": "Python 3 (ipykernel)",
   "language": "python",
   "name": "python3"
  },
  "language_info": {
   "codemirror_mode": {
    "name": "ipython",
    "version": 3
   },
   "file_extension": ".py",
   "mimetype": "text/x-python",
   "name": "python",
   "nbconvert_exporter": "python",
   "pygments_lexer": "ipython3",
   "version": "3.9.12"
  }
 },
 "nbformat": 4,
 "nbformat_minor": 5
}
