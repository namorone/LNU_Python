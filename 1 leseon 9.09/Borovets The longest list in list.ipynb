{
 "cells": [
  {
   "cell_type": "code",
   "execution_count": 4,
   "id": "bc16dbdf-5394-4798-a2f2-ce4e5223b0c2",
   "metadata": {},
   "outputs": [
    {
     "name": "stdout",
     "output_type": "stream",
     "text": [
      "[1, 2, 7, 78, 56, 89, 1] [451, 2587, 77, 787, 6, 9, 144] "
     ]
    }
   ],
   "source": [
    "listOflists = [[1,2,5], [1, 2, 7, 78, 56, 89, 1], [], [54, 16, 89], [451, 2587,77,  787, 6, 9, 144]]\n",
    "listOfSizes = []\n",
    "for i in listOflists:\n",
    "    listOfSizes.append(len(i))\n",
    "    \n",
    "maxSize = max(listOfSizes)\n",
    "\n",
    "for i in listOflists:\n",
    "    if len(i) == maxSize:\n",
    "        print(i,  end = ' ')"
   ]
  },
  {
   "cell_type": "code",
   "execution_count": null,
   "id": "d197f0bc-cefe-4c8a-8806-1ef117dd4eb3",
   "metadata": {},
   "outputs": [],
   "source": []
  }
 ],
 "metadata": {
  "kernelspec": {
   "display_name": "Python 3 (ipykernel)",
   "language": "python",
   "name": "python3"
  },
  "language_info": {
   "codemirror_mode": {
    "name": "ipython",
    "version": 3
   },
   "file_extension": ".py",
   "mimetype": "text/x-python",
   "name": "python",
   "nbconvert_exporter": "python",
   "pygments_lexer": "ipython3",
   "version": "3.9.12"
  }
 },
 "nbformat": 4,
 "nbformat_minor": 5
}
