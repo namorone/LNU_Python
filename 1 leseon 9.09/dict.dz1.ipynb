{
 "cells": [
  {
   "cell_type": "code",
   "execution_count": 3,
   "id": "2b3b7b04-fd67-4700-8a3e-7d104b2b6864",
   "metadata": {},
   "outputs": [
    {
     "name": "stdout",
     "output_type": "stream",
     "text": [
      "[2, 3, 2] ['Роман', 'Назарій', 'Андрій']\n",
      "Назарій 3\n"
     ]
    }
   ],
   "source": [
    "grup={'Боровець':'Роман','Процьків':'Назарій','Іщук':'Андрій'}\n",
    "\n",
    "\n",
    "vowels =\"аоуіиеяєїАОУІИЕЯЮЄЇ\"\n",
    "i = 0\n",
    "size = []\n",
    "name = []\n",
    "for v in grup.values():\n",
    "    for g in vowels:\n",
    "         i = v.count(g) + i\n",
    "    size.append(i)\n",
    "    name.append(v)\n",
    "    i=0\n",
    "print(size, name)\n",
    "z=max(size)\n",
    "print(name[size.index(z)],z)\n"
   ]
  },
  {
   "cell_type": "code",
   "execution_count": 4,
   "id": "6f298868-5563-4372-b52c-0a34951051e7",
   "metadata": {},
   "outputs": [
    {
     "name": "stdout",
     "output_type": "stream",
     "text": [
      "Roman\n",
      "2\n",
      "Anton\n",
      "2\n",
      "Olena\n",
      "3\n",
      "Sofiia\n",
      "4\n",
      "Dmytro\n",
      "1\n",
      "Oleksandr\n",
      "3\n",
      "Iryna\n",
      "2\n",
      "Andriy\n",
      "2\n",
      "Andriy\n",
      "2\n",
      "Maksym\n",
      "1\n",
      "Victoriia\n",
      "5\n",
      "Vladyslav\n",
      "2\n",
      "Anastasiia\n",
      "6\n",
      "Sviatozar\n",
      "4\n",
      "Mariia\n",
      "4\n",
      "Andriy\n",
      "2\n",
      "Nazarii\n",
      "4\n",
      "Andriy\n",
      "2\n",
      "Rostyslav\n",
      "2\n",
      "Volodymyr\n",
      "2\n",
      "Olena\n",
      "3\n",
      "Andriy\n",
      "2\n",
      "People who have max count of vowels in name:  ['Anastasiia'] \n",
      "Count of vowels in name:  6\n"
     ]
    }
   ],
   "source": [
    "\n",
    "dict_of_grouplist = {'Borovets':'Roman', 'Brezin':'Anton', 'Hatala':'Olena', 'Hoshko':'Sofiia', 'Hranovskyy':'Dmytro', 'Zhenchenko':'Oleksandr', 'Zelenko':'Iryna', 'Ishchuk':'Andriy', \n",
    "                 'Kaparys':'Andriy', 'Krynytskyy':'Maksym', 'Kurka':'Victoriia', 'Linnik':'Vladyslav', 'Masnyk':'Anastasiia', 'Matiash':'Sviatozar', 'Padalka':'Mariia', 'Pik':'Andriy', \n",
    "                 'Protskiv':'Nazarii', 'Skvarko':'Andriy', 'Stets':'Rostyslav', 'Tutko':'Volodymyr', 'Shafran':'Olena', 'Iatsuliak':'Andriy'}\n",
    "\n",
    "vowels = 'AaEeIiOoUu'\n",
    "vcount = 0\n",
    "dict_of_names_and_vcounts = {}\n",
    "\n",
    "for i in dict_of_grouplist:\n",
    "    print(dict_of_grouplist[i])\n",
    "    for j in dict_of_grouplist[i]:\n",
    "        if j in vowels:\n",
    "            vcount += 1\n",
    "    print(vcount)\n",
    "    dict_of_names_and_vcounts.update({dict_of_grouplist[i]:vcount})\n",
    "    vcount = 0\n",
    "\n",
    "max_keys = [key for key, value in dict_of_names_and_vcounts.items() if value == max(dict_of_names_and_vcounts.values())]\n",
    "max_value = max(dict_of_names_and_vcounts.values())\n",
    "print(\"People who have max count of vowels in name: \", max_keys, \"\\nCount of vowels in name: \", max_value)\n"
   ]
  },
  {
   "cell_type": "code",
   "execution_count": 1,
   "id": "f761d33d-508f-4b5a-8ceb-2474eda17709",
   "metadata": {},
   "outputs": [
    {
     "name": "stdout",
     "output_type": "stream",
     "text": [
      "{'Linnik': 'Vlad', 'Zhenchenko': 'Sasha', 'Zelenko': 'Ira', 'Ishchuk': 'Andriy', 'Skvarko': 'Andriy', 'Hatala': 'Olena', 'Padalka': 'Marichka', 'Hoshko': 'Sofiia', 'Protskiv': 'Nazarii', 'Masnyk': 'Anastasia'}\n"
     ]
    }
   ],
   "source": [
    "group = {\"Hoshko\" : \"Sofiia\",\n",
    "        \"Zhenchenko\" : \"Sasha\",\n",
    "        \"Masnyk\" : \"Anastasia\",\n",
    "        \"Protskiv\" : \"Nazarii\",\n",
    "        \"Zelenko\" : \"Ira\",\n",
    "        \"Ishchuk\" : \"Andriy\",\n",
    "        \"Hatala\" : \"Olena\",\n",
    "        \"Padalka\" : \"Marichka\",\n",
    "        \"Linnik\" : \"Vlad\",\n",
    "        \"Skvarko\" : \"Andriy\"}\n",
    "\n",
    "def count_vowels(s):\n",
    "    c = 0\n",
    "    for i in s:\n",
    "        if i.lower() in \"aoiue\":\n",
    "            c = c+1\n",
    "    return c\n",
    "\n",
    "#def count_vowels(s):\n",
    "#   return len([x for x in s if x.lower() in \"aoieu\"])\n",
    "\n",
    "print(dict(sorted(group.items(), key=lambda x: count_vowels(x[1]))))"
   ]
  },
  {
   "cell_type": "code",
   "execution_count": null,
   "id": "57ac7ec9-78cc-4810-b17b-c34faef851e6",
   "metadata": {},
   "outputs": [],
   "source": []
  }
 ],
 "metadata": {
  "kernelspec": {
   "display_name": "Python 3 (ipykernel)",
   "language": "python",
   "name": "python3"
  },
  "language_info": {
   "codemirror_mode": {
    "name": "ipython",
    "version": 3
   },
   "file_extension": ".py",
   "mimetype": "text/x-python",
   "name": "python",
   "nbconvert_exporter": "python",
   "pygments_lexer": "ipython3",
   "version": "3.9.12"
  }
 },
 "nbformat": 4,
 "nbformat_minor": 5
}
