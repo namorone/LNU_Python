{
 "cells": [
  {
   "cell_type": "code",
   "execution_count": 13,
   "id": "4f8c9c05-0010-4e7f-be0c-4845ac79bf39",
   "metadata": {},
   "outputs": [
    {
     "name": "stdout",
     "output_type": "stream",
     "text": [
      "radar is polindrom\n"
     ]
    }
   ],
   "source": [
    "word = 'radar'\n",
    "if word[0:3]==word[:-4:-1]:\n",
    "    print(word, \"is polindrom\")\n",
    "else :\n",
    "    print(word, \"isn't polindrom\")"
   ]
  },
  {
   "cell_type": "code",
   "execution_count": null,
   "id": "3af923aa-9dbd-44ff-91ff-7b7199d52d10",
   "metadata": {},
   "outputs": [],
   "source": []
  },
  {
   "cell_type": "code",
   "execution_count": null,
   "id": "685691a3-6c69-45e8-9fb7-27a4e7c54625",
   "metadata": {},
   "outputs": [],
   "source": []
  },
  {
   "cell_type": "code",
   "execution_count": null,
   "id": "dafbf221-6c26-4af3-b38f-768bb96e4512",
   "metadata": {},
   "outputs": [],
   "source": []
  },
  {
   "cell_type": "code",
   "execution_count": null,
   "id": "28e0f86c-9c3b-4d49-a1e9-1ea703e4c712",
   "metadata": {},
   "outputs": [],
   "source": []
  }
 ],
 "metadata": {
  "kernelspec": {
   "display_name": "Python 3 (ipykernel)",
   "language": "python",
   "name": "python3"
  },
  "language_info": {
   "codemirror_mode": {
    "name": "ipython",
    "version": 3
   },
   "file_extension": ".py",
   "mimetype": "text/x-python",
   "name": "python",
   "nbconvert_exporter": "python",
   "pygments_lexer": "ipython3",
   "version": "3.9.12"
  }
 },
 "nbformat": 4,
 "nbformat_minor": 5
}
