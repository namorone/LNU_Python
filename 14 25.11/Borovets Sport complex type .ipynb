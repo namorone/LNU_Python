{
 "cells": [
  {
   "cell_type": "code",
   "execution_count": 1,
   "id": "ad8f5831-b02c-45a7-be58-4e928fdce087",
   "metadata": {},
   "outputs": [],
   "source": [
    "import pandas as pd\n",
    "import numpy as np\n",
    "import matplotlib.pyplot as plt\n",
    "#%matplotlib widget\n",
    "%matplotlib inline\n",
    "import ipywidgets as widgets\n",
    "import datetime\n",
    "from IPython.display import display"
   ]
  },
  {
   "cell_type": "code",
   "execution_count": 2,
   "id": "c403556e-c7c7-421a-8422-ccf21bc6b10e",
   "metadata": {},
   "outputs": [
    {
     "data": {
      "text/html": [
       "<div>\n",
       "<style scoped>\n",
       "    .dataframe tbody tr th:only-of-type {\n",
       "        vertical-align: middle;\n",
       "    }\n",
       "\n",
       "    .dataframe tbody tr th {\n",
       "        vertical-align: top;\n",
       "    }\n",
       "\n",
       "    .dataframe thead th {\n",
       "        text-align: right;\n",
       "    }\n",
       "</style>\n",
       "<table border=\"1\" class=\"dataframe\">\n",
       "  <thead>\n",
       "    <tr style=\"text-align: right;\">\n",
       "      <th></th>\n",
       "      <th>Surname</th>\n",
       "      <th>id</th>\n",
       "      <th>sum in ac</th>\n",
       "    </tr>\n",
       "  </thead>\n",
       "  <tbody>\n",
       "    <tr>\n",
       "      <th>0</th>\n",
       "      <td>Masnyk</td>\n",
       "      <td>12</td>\n",
       "      <td>400</td>\n",
       "    </tr>\n",
       "    <tr>\n",
       "      <th>1</th>\n",
       "      <td>Borovets</td>\n",
       "      <td>15</td>\n",
       "      <td>600</td>\n",
       "    </tr>\n",
       "    <tr>\n",
       "      <th>2</th>\n",
       "      <td>Zelenko</td>\n",
       "      <td>9</td>\n",
       "      <td>350</td>\n",
       "    </tr>\n",
       "    <tr>\n",
       "      <th>3</th>\n",
       "      <td>Kaparys</td>\n",
       "      <td>6</td>\n",
       "      <td>360</td>\n",
       "    </tr>\n",
       "  </tbody>\n",
       "</table>\n",
       "</div>"
      ],
      "text/plain": [
       "    Surname  id  sum in ac\n",
       "0    Masnyk  12        400\n",
       "1  Borovets  15        600\n",
       "2   Zelenko   9        350\n",
       "3   Kaparys   6        360"
      ]
     },
     "execution_count": 2,
     "metadata": {},
     "output_type": "execute_result"
    }
   ],
   "source": [
    "dv = pd.read_csv('data visitor.txt')\n",
    "dv"
   ]
  },
  {
   "cell_type": "code",
   "execution_count": 15,
   "id": "b53902fb-44c4-49dc-bd2c-0c87708e23a2",
   "metadata": {},
   "outputs": [
    {
     "data": {
      "text/html": [
       "<div>\n",
       "<style scoped>\n",
       "    .dataframe tbody tr th:only-of-type {\n",
       "        vertical-align: middle;\n",
       "    }\n",
       "\n",
       "    .dataframe tbody tr th {\n",
       "        vertical-align: top;\n",
       "    }\n",
       "\n",
       "    .dataframe thead th {\n",
       "        text-align: right;\n",
       "    }\n",
       "</style>\n",
       "<table border=\"1\" class=\"dataframe\">\n",
       "  <thead>\n",
       "    <tr style=\"text-align: right;\">\n",
       "      <th></th>\n",
       "      <th>id t</th>\n",
       "      <th>name</th>\n",
       "      <th>price for traning</th>\n",
       "    </tr>\n",
       "  </thead>\n",
       "  <tbody>\n",
       "    <tr>\n",
       "      <th>0</th>\n",
       "      <td>1</td>\n",
       "      <td>віджимання</td>\n",
       "      <td>50</td>\n",
       "    </tr>\n",
       "    <tr>\n",
       "      <th>1</th>\n",
       "      <td>2</td>\n",
       "      <td>присідання</td>\n",
       "      <td>60</td>\n",
       "    </tr>\n",
       "    <tr>\n",
       "      <th>2</th>\n",
       "      <td>3</td>\n",
       "      <td>стрибки</td>\n",
       "      <td>70</td>\n",
       "    </tr>\n",
       "  </tbody>\n",
       "</table>\n",
       "</div>"
      ],
      "text/plain": [
       "   id t        name  price for traning\n",
       "0     1  віджимання                 50\n",
       "1     2  присідання                 60\n",
       "2     3     стрибки                 70"
      ]
     },
     "execution_count": 15,
     "metadata": {},
     "output_type": "execute_result"
    }
   ],
   "source": [
    "vt = pd.read_csv('види тренувань.txt')\n",
    "vt"
   ]
  },
  {
   "cell_type": "code",
   "execution_count": 4,
   "id": "c49f83d9-1609-43ba-8cd1-8ab12f5f2750",
   "metadata": {},
   "outputs": [
    {
     "data": {
      "text/html": [
       "<div>\n",
       "<style scoped>\n",
       "    .dataframe tbody tr th:only-of-type {\n",
       "        vertical-align: middle;\n",
       "    }\n",
       "\n",
       "    .dataframe tbody tr th {\n",
       "        vertical-align: top;\n",
       "    }\n",
       "\n",
       "    .dataframe thead th {\n",
       "        text-align: right;\n",
       "    }\n",
       "</style>\n",
       "<table border=\"1\" class=\"dataframe\">\n",
       "  <thead>\n",
       "    <tr style=\"text-align: right;\">\n",
       "      <th></th>\n",
       "      <th>Date</th>\n",
       "      <th>id</th>\n",
       "      <th>id t</th>\n",
       "    </tr>\n",
       "  </thead>\n",
       "  <tbody>\n",
       "    <tr>\n",
       "      <th>0</th>\n",
       "      <td>04/11/2022</td>\n",
       "      <td>15</td>\n",
       "      <td>1</td>\n",
       "    </tr>\n",
       "    <tr>\n",
       "      <th>1</th>\n",
       "      <td>11/10/2022</td>\n",
       "      <td>12</td>\n",
       "      <td>3</td>\n",
       "    </tr>\n",
       "    <tr>\n",
       "      <th>2</th>\n",
       "      <td>10/10/2022</td>\n",
       "      <td>6</td>\n",
       "      <td>2</td>\n",
       "    </tr>\n",
       "    <tr>\n",
       "      <th>3</th>\n",
       "      <td>27/10/2022</td>\n",
       "      <td>9</td>\n",
       "      <td>1</td>\n",
       "    </tr>\n",
       "    <tr>\n",
       "      <th>4</th>\n",
       "      <td>27/11/2022</td>\n",
       "      <td>6</td>\n",
       "      <td>3</td>\n",
       "    </tr>\n",
       "  </tbody>\n",
       "</table>\n",
       "</div>"
      ],
      "text/plain": [
       "         Date  id  id t\n",
       "0  04/11/2022  15     1\n",
       "1  11/10/2022  12     3\n",
       "2  10/10/2022   6     2\n",
       "3  27/10/2022   9     1\n",
       "4  27/11/2022   6     3"
      ]
     },
     "execution_count": 4,
     "metadata": {},
     "output_type": "execute_result"
    }
   ],
   "source": [
    "dt1 = pd.read_csv('відомості.txt')\n",
    "dt1"
   ]
  },
  {
   "cell_type": "code",
   "execution_count": 5,
   "id": "0f638215-005c-4258-aea6-18284a1a189c",
   "metadata": {},
   "outputs": [
    {
     "data": {
      "text/html": [
       "<div>\n",
       "<style scoped>\n",
       "    .dataframe tbody tr th:only-of-type {\n",
       "        vertical-align: middle;\n",
       "    }\n",
       "\n",
       "    .dataframe tbody tr th {\n",
       "        vertical-align: top;\n",
       "    }\n",
       "\n",
       "    .dataframe thead th {\n",
       "        text-align: right;\n",
       "    }\n",
       "</style>\n",
       "<table border=\"1\" class=\"dataframe\">\n",
       "  <thead>\n",
       "    <tr style=\"text-align: right;\">\n",
       "      <th></th>\n",
       "      <th>Date</th>\n",
       "      <th>id</th>\n",
       "      <th>id t</th>\n",
       "    </tr>\n",
       "  </thead>\n",
       "  <tbody>\n",
       "    <tr>\n",
       "      <th>0</th>\n",
       "      <td>04/10/2022</td>\n",
       "      <td>15</td>\n",
       "      <td>1</td>\n",
       "    </tr>\n",
       "    <tr>\n",
       "      <th>1</th>\n",
       "      <td>05/10/2022</td>\n",
       "      <td>15</td>\n",
       "      <td>3</td>\n",
       "    </tr>\n",
       "    <tr>\n",
       "      <th>2</th>\n",
       "      <td>11/9/2022</td>\n",
       "      <td>12</td>\n",
       "      <td>3</td>\n",
       "    </tr>\n",
       "    <tr>\n",
       "      <th>3</th>\n",
       "      <td>11/9/2022</td>\n",
       "      <td>12</td>\n",
       "      <td>2</td>\n",
       "    </tr>\n",
       "    <tr>\n",
       "      <th>4</th>\n",
       "      <td>10/9/2022</td>\n",
       "      <td>6</td>\n",
       "      <td>2</td>\n",
       "    </tr>\n",
       "    <tr>\n",
       "      <th>5</th>\n",
       "      <td>27/9/2022</td>\n",
       "      <td>9</td>\n",
       "      <td>1</td>\n",
       "    </tr>\n",
       "    <tr>\n",
       "      <th>6</th>\n",
       "      <td>27/10/2022</td>\n",
       "      <td>6</td>\n",
       "      <td>3</td>\n",
       "    </tr>\n",
       "  </tbody>\n",
       "</table>\n",
       "</div>"
      ],
      "text/plain": [
       "         Date  id  id t\n",
       "0  04/10/2022  15     1\n",
       "1  05/10/2022  15     3\n",
       "2   11/9/2022  12     3\n",
       "3   11/9/2022  12     2\n",
       "4   10/9/2022   6     2\n",
       "5   27/9/2022   9     1\n",
       "6  27/10/2022   6     3"
      ]
     },
     "execution_count": 5,
     "metadata": {},
     "output_type": "execute_result"
    }
   ],
   "source": [
    "dt2 = pd.read_csv('відомості 2.txt')\n",
    "dt2"
   ]
  },
  {
   "cell_type": "code",
   "execution_count": 6,
   "id": "106b7a7d-73e8-4ed2-a2e8-b30a4dd04416",
   "metadata": {},
   "outputs": [
    {
     "data": {
      "text/html": [
       "<div>\n",
       "<style scoped>\n",
       "    .dataframe tbody tr th:only-of-type {\n",
       "        vertical-align: middle;\n",
       "    }\n",
       "\n",
       "    .dataframe tbody tr th {\n",
       "        vertical-align: top;\n",
       "    }\n",
       "\n",
       "    .dataframe thead th {\n",
       "        text-align: right;\n",
       "    }\n",
       "</style>\n",
       "<table border=\"1\" class=\"dataframe\">\n",
       "  <thead>\n",
       "    <tr style=\"text-align: right;\">\n",
       "      <th></th>\n",
       "      <th>Date</th>\n",
       "      <th>id</th>\n",
       "      <th>id t</th>\n",
       "    </tr>\n",
       "  </thead>\n",
       "  <tbody>\n",
       "    <tr>\n",
       "      <th>0</th>\n",
       "      <td>04/11/2022</td>\n",
       "      <td>15</td>\n",
       "      <td>1</td>\n",
       "    </tr>\n",
       "    <tr>\n",
       "      <th>1</th>\n",
       "      <td>11/10/2022</td>\n",
       "      <td>12</td>\n",
       "      <td>3</td>\n",
       "    </tr>\n",
       "    <tr>\n",
       "      <th>2</th>\n",
       "      <td>10/10/2022</td>\n",
       "      <td>6</td>\n",
       "      <td>2</td>\n",
       "    </tr>\n",
       "    <tr>\n",
       "      <th>3</th>\n",
       "      <td>27/10/2022</td>\n",
       "      <td>9</td>\n",
       "      <td>1</td>\n",
       "    </tr>\n",
       "    <tr>\n",
       "      <th>4</th>\n",
       "      <td>27/11/2022</td>\n",
       "      <td>6</td>\n",
       "      <td>3</td>\n",
       "    </tr>\n",
       "    <tr>\n",
       "      <th>0</th>\n",
       "      <td>04/10/2022</td>\n",
       "      <td>15</td>\n",
       "      <td>1</td>\n",
       "    </tr>\n",
       "    <tr>\n",
       "      <th>1</th>\n",
       "      <td>05/10/2022</td>\n",
       "      <td>15</td>\n",
       "      <td>3</td>\n",
       "    </tr>\n",
       "    <tr>\n",
       "      <th>2</th>\n",
       "      <td>11/9/2022</td>\n",
       "      <td>12</td>\n",
       "      <td>3</td>\n",
       "    </tr>\n",
       "    <tr>\n",
       "      <th>3</th>\n",
       "      <td>11/9/2022</td>\n",
       "      <td>12</td>\n",
       "      <td>2</td>\n",
       "    </tr>\n",
       "    <tr>\n",
       "      <th>4</th>\n",
       "      <td>10/9/2022</td>\n",
       "      <td>6</td>\n",
       "      <td>2</td>\n",
       "    </tr>\n",
       "    <tr>\n",
       "      <th>5</th>\n",
       "      <td>27/9/2022</td>\n",
       "      <td>9</td>\n",
       "      <td>1</td>\n",
       "    </tr>\n",
       "    <tr>\n",
       "      <th>6</th>\n",
       "      <td>27/10/2022</td>\n",
       "      <td>6</td>\n",
       "      <td>3</td>\n",
       "    </tr>\n",
       "  </tbody>\n",
       "</table>\n",
       "</div>"
      ],
      "text/plain": [
       "         Date  id  id t\n",
       "0  04/11/2022  15     1\n",
       "1  11/10/2022  12     3\n",
       "2  10/10/2022   6     2\n",
       "3  27/10/2022   9     1\n",
       "4  27/11/2022   6     3\n",
       "0  04/10/2022  15     1\n",
       "1  05/10/2022  15     3\n",
       "2   11/9/2022  12     3\n",
       "3   11/9/2022  12     2\n",
       "4   10/9/2022   6     2\n",
       "5   27/9/2022   9     1\n",
       "6  27/10/2022   6     3"
      ]
     },
     "execution_count": 6,
     "metadata": {},
     "output_type": "execute_result"
    }
   ],
   "source": [
    "dt=pd.concat([dt1, dt2])\n",
    "dt"
   ]
  },
  {
   "cell_type": "markdown",
   "id": "b51203f1-1b4c-41e5-8c08-1d551b8ebe1f",
   "metadata": {},
   "source": [
    "# 1"
   ]
  },
  {
   "cell_type": "code",
   "execution_count": 16,
   "id": "0b39cebf-dc1b-4a41-b363-8480cc43f5a2",
   "metadata": {},
   "outputs": [
    {
     "name": "stderr",
     "output_type": "stream",
     "text": [
      "C:\\Users\\user\\AppData\\Local\\Temp\\ipykernel_892\\4040065948.py:4: UserWarning: Parsing '27/10/2022' in DD/MM/YYYY format. Provide format or specify infer_datetime_format=True for consistent parsing.\n",
      "  df1['Date']=pd.to_datetime(df1.Date)\n",
      "C:\\Users\\user\\AppData\\Local\\Temp\\ipykernel_892\\4040065948.py:4: UserWarning: Parsing '27/11/2022' in DD/MM/YYYY format. Provide format or specify infer_datetime_format=True for consistent parsing.\n",
      "  df1['Date']=pd.to_datetime(df1.Date)\n"
     ]
    },
    {
     "data": {
      "text/html": [
       "<div>\n",
       "<style scoped>\n",
       "    .dataframe tbody tr th:only-of-type {\n",
       "        vertical-align: middle;\n",
       "    }\n",
       "\n",
       "    .dataframe tbody tr th {\n",
       "        vertical-align: top;\n",
       "    }\n",
       "\n",
       "    .dataframe thead th {\n",
       "        text-align: right;\n",
       "    }\n",
       "</style>\n",
       "<table border=\"1\" class=\"dataframe\">\n",
       "  <thead>\n",
       "    <tr style=\"text-align: right;\">\n",
       "      <th></th>\n",
       "      <th>id t</th>\n",
       "      <th>name</th>\n",
       "      <th>price for traning</th>\n",
       "      <th>Date</th>\n",
       "      <th>id</th>\n",
       "      <th>Surname</th>\n",
       "      <th>sum in ac</th>\n",
       "    </tr>\n",
       "  </thead>\n",
       "  <tbody>\n",
       "    <tr>\n",
       "      <th>1</th>\n",
       "      <td>1</td>\n",
       "      <td>віджимання</td>\n",
       "      <td>50</td>\n",
       "      <td>2022-04-10</td>\n",
       "      <td>15</td>\n",
       "      <td>Borovets</td>\n",
       "      <td>600</td>\n",
       "    </tr>\n",
       "    <tr>\n",
       "      <th>0</th>\n",
       "      <td>1</td>\n",
       "      <td>віджимання</td>\n",
       "      <td>50</td>\n",
       "      <td>2022-04-11</td>\n",
       "      <td>15</td>\n",
       "      <td>Borovets</td>\n",
       "      <td>600</td>\n",
       "    </tr>\n",
       "    <tr>\n",
       "      <th>2</th>\n",
       "      <td>3</td>\n",
       "      <td>стрибки</td>\n",
       "      <td>70</td>\n",
       "      <td>2022-05-10</td>\n",
       "      <td>15</td>\n",
       "      <td>Borovets</td>\n",
       "      <td>600</td>\n",
       "    </tr>\n",
       "    <tr>\n",
       "      <th>4</th>\n",
       "      <td>1</td>\n",
       "      <td>віджимання</td>\n",
       "      <td>50</td>\n",
       "      <td>2022-09-27</td>\n",
       "      <td>9</td>\n",
       "      <td>Zelenko</td>\n",
       "      <td>350</td>\n",
       "    </tr>\n",
       "    <tr>\n",
       "      <th>6</th>\n",
       "      <td>2</td>\n",
       "      <td>присідання</td>\n",
       "      <td>60</td>\n",
       "      <td>2022-10-09</td>\n",
       "      <td>6</td>\n",
       "      <td>Kaparys</td>\n",
       "      <td>360</td>\n",
       "    </tr>\n",
       "    <tr>\n",
       "      <th>5</th>\n",
       "      <td>2</td>\n",
       "      <td>присідання</td>\n",
       "      <td>60</td>\n",
       "      <td>2022-10-10</td>\n",
       "      <td>6</td>\n",
       "      <td>Kaparys</td>\n",
       "      <td>360</td>\n",
       "    </tr>\n",
       "    <tr>\n",
       "      <th>3</th>\n",
       "      <td>1</td>\n",
       "      <td>віджимання</td>\n",
       "      <td>50</td>\n",
       "      <td>2022-10-27</td>\n",
       "      <td>9</td>\n",
       "      <td>Zelenko</td>\n",
       "      <td>350</td>\n",
       "    </tr>\n",
       "    <tr>\n",
       "      <th>8</th>\n",
       "      <td>3</td>\n",
       "      <td>стрибки</td>\n",
       "      <td>70</td>\n",
       "      <td>2022-10-27</td>\n",
       "      <td>6</td>\n",
       "      <td>Kaparys</td>\n",
       "      <td>360</td>\n",
       "    </tr>\n",
       "    <tr>\n",
       "      <th>9</th>\n",
       "      <td>2</td>\n",
       "      <td>присідання</td>\n",
       "      <td>60</td>\n",
       "      <td>2022-11-09</td>\n",
       "      <td>12</td>\n",
       "      <td>Masnyk</td>\n",
       "      <td>400</td>\n",
       "    </tr>\n",
       "    <tr>\n",
       "      <th>11</th>\n",
       "      <td>3</td>\n",
       "      <td>стрибки</td>\n",
       "      <td>70</td>\n",
       "      <td>2022-11-09</td>\n",
       "      <td>12</td>\n",
       "      <td>Masnyk</td>\n",
       "      <td>400</td>\n",
       "    </tr>\n",
       "    <tr>\n",
       "      <th>10</th>\n",
       "      <td>3</td>\n",
       "      <td>стрибки</td>\n",
       "      <td>70</td>\n",
       "      <td>2022-11-10</td>\n",
       "      <td>12</td>\n",
       "      <td>Masnyk</td>\n",
       "      <td>400</td>\n",
       "    </tr>\n",
       "    <tr>\n",
       "      <th>7</th>\n",
       "      <td>3</td>\n",
       "      <td>стрибки</td>\n",
       "      <td>70</td>\n",
       "      <td>2022-11-27</td>\n",
       "      <td>6</td>\n",
       "      <td>Kaparys</td>\n",
       "      <td>360</td>\n",
       "    </tr>\n",
       "  </tbody>\n",
       "</table>\n",
       "</div>"
      ],
      "text/plain": [
       "    id t        name  price for traning       Date  id   Surname  sum in ac\n",
       "1      1  віджимання                 50 2022-04-10  15  Borovets        600\n",
       "0      1  віджимання                 50 2022-04-11  15  Borovets        600\n",
       "2      3     стрибки                 70 2022-05-10  15  Borovets        600\n",
       "4      1  віджимання                 50 2022-09-27   9   Zelenko        350\n",
       "6      2  присідання                 60 2022-10-09   6   Kaparys        360\n",
       "5      2  присідання                 60 2022-10-10   6   Kaparys        360\n",
       "3      1  віджимання                 50 2022-10-27   9   Zelenko        350\n",
       "8      3     стрибки                 70 2022-10-27   6   Kaparys        360\n",
       "9      2  присідання                 60 2022-11-09  12    Masnyk        400\n",
       "11     3     стрибки                 70 2022-11-09  12    Masnyk        400\n",
       "10     3     стрибки                 70 2022-11-10  12    Masnyk        400\n",
       "7      3     стрибки                 70 2022-11-27   6   Kaparys        360"
      ]
     },
     "execution_count": 16,
     "metadata": {},
     "output_type": "execute_result"
    }
   ],
   "source": [
    "df1=pd.merge(vt, dt)\n",
    "df1=pd.merge(df1,dv)\n",
    "#df1['Date']=df1['Date'].astype('datetime64')\n",
    "df1['Date']=pd.to_datetime(df1.Date)\n",
    "df1.sort_values('Date',inplace=True)\n",
    "df1"
   ]
  },
  {
   "cell_type": "code",
   "execution_count": 127,
   "id": "74158325-f12a-4bd2-9592-ec9f0f5096cb",
   "metadata": {},
   "outputs": [
    {
     "data": {
      "text/plain": [
       "стрибки       5\n",
       "віджимання    4\n",
       "присідання    3\n",
       "Name: name, dtype: int64"
      ]
     },
     "execution_count": 127,
     "metadata": {},
     "output_type": "execute_result"
    }
   ],
   "source": [
    "df1['name'].value_counts()\n"
   ]
  },
  {
   "cell_type": "markdown",
   "id": "07a6ce22-ca49-4514-8612-0738030e4697",
   "metadata": {},
   "source": [
    "# 2"
   ]
  },
  {
   "cell_type": "code",
   "execution_count": 8,
   "id": "5df39cb1-f0fc-4714-a4ec-4e1ed98efad1",
   "metadata": {},
   "outputs": [
    {
     "data": {
      "image/png": "[encoded data removed]",
      "text/plain": [
       "<Figure size 432x288 with 1 Axes>"
      ]
     },
     "metadata": {
      "needs_background": "light"
     },
     "output_type": "display_data"
    }
   ],
   "source": [
    "y=df1['name'].value_counts().plot(kind = 'bar')"
   ]
  },
  {
   "cell_type": "markdown",
   "id": "6a1c9cb7-827e-4b7a-a113-4d3441f30cef",
   "metadata": {},
   "source": [
    "# 3,4"
   ]
  },
  {
   "cell_type": "code",
   "execution_count": 43,
   "id": "75552b05-2382-4247-b215-cb3017ab65da",
   "metadata": {},
   "outputs": [
    {
     "data": {
      "application/vnd.jupyter.widget-view+json": {
       "model_id": "6e55227e0b364dcbae84e614050a833d",
       "version_major": 2,
       "version_minor": 0
      },
      "text/plain": [
       "interactive(children=(SelectMultiple(description='interval', options=(numpy.datetime64('2022-04-10T00:00:00.00…"
      ]
     },
     "metadata": {},
     "output_type": "display_data"
    }
   ],
   "source": [
    "def funk1(row):\n",
    "   \n",
    "    if row['count']>1:\n",
    "        return row['price for traning']*0.6\n",
    "    else: \n",
    "        return row['price for traning']\n",
    "    \n",
    "@widgets.interact(interval=widgets.SelectMultiple(options=df1.Date.unique()))\n",
    "def f(interval):\n",
    "    dffilter=df1['Date'].isin(interval)\n",
    "    df2=df1[dffilter]\n",
    "    \n",
    "    df2['count']=df2.groupby(['Date','id'])[\"id t\"].transform(len)\n",
    "    df2['price for traning']=df2.apply(funk1,axis=1)\n",
    "  \n",
    "    #print(df2)\n",
    "    #print(df4)\n",
    "    df3=df2.groupby('id').sum().reset_index()[['id','price for traning']]\n",
    "    \n",
    "    df3=df3.merge(dv, on='id')\n",
    "    \n",
    "    df3['Remainder']=df3['sum in ac']-df3['price for traning']\n",
    "    \n",
    "    print(df3)\n",
    "    y=df3.plot.bar(x=\"Surname\",y=\"price for traning\")\n",
    "    plt.show()\n",
    "    return \n",
    "\n",
    "### Через Ctrl + ЛКМ вобираємо дати які цікавлять"
   ]
  },
  {
   "cell_type": "markdown",
   "id": "513cd84c-a707-4bd4-b3ff-51f26702c950",
   "metadata": {},
   "source": [
    "# 5,6"
   ]
  },
  {
   "cell_type": "code",
   "execution_count": 40,
   "id": "46bd546d-d066-4dbd-8fb4-83f1abe32d74",
   "metadata": {},
   "outputs": [
    {
     "data": {
      "application/vnd.jupyter.widget-view+json": {
       "model_id": "29548237d76f4fd79aec8ee77484c993",
       "version_major": 2,
       "version_minor": 0
      },
      "text/plain": [
       "interactive(children=(Dropdown(description='user', options=('Masnyk', 'Borovets', 'Zelenko', 'Kaparys'), value…"
      ]
     },
     "metadata": {},
     "output_type": "display_data"
    }
   ],
   "source": [
    "#6\n",
    "@widgets.interact(user=widgets.Dropdown(options=dv.Surname.unique()))\n",
    "def g(user):\n",
    "    dfilter=df1[df1['Surname']== user]\n",
    "    print(dfilter)\n",
    "    df=dfilter.groupby('name').sum().reset_index()[['name','price for traning']]\n",
    "    print(df)\n",
    "    text= f\"\\nДіаграма для {user}\"\n",
    "    print(text)\n",
    "    y=df.plot.bar(x=\"name\",y=\"price for traning\")\n",
    "    plt.show()\n"
   ]
  },
  {
   "cell_type": "code",
   "execution_count": null,
   "id": "81ed76b3-857f-4997-a8c9-8cba461de109",
   "metadata": {},
   "outputs": [],
   "source": []
  },
  {
   "cell_type": "code",
   "execution_count": null,
   "id": "8de6e0da-d2b2-4f72-92b4-703c813ea1f9",
   "metadata": {},
   "outputs": [],
   "source": []
  }
 ],
 "metadata": {
  "kernelspec": {
   "display_name": "Python 3 (ipykernel)",
   "language": "python",
   "name": "python3"
  },
  "language_info": {
   "codemirror_mode": {
    "name": "ipython",
    "version": 3
   },
   "file_extension": ".py",
   "mimetype": "text/x-python",
   "name": "python",
   "nbconvert_exporter": "python",
   "pygments_lexer": "ipython3",
   "version": "3.9.12"
  }
 },
 "nbformat": 4,
 "nbformat_minor": 5
}
