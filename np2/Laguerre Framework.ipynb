{
 "cells": [
  {
   "cell_type": "code",
   "execution_count": 1,
   "id": "3c46f7a7-d793-4f45-81b5-8a2dfbb7a857",
   "metadata": {},
   "outputs": [],
   "source": [
    "import math\n",
    "import matplotlib.pyplot as plt\n",
    "import numpy as np\n",
    "import ipympl\n",
    "import ipywidgets as widgets\n",
    "import tkinter as tk\n",
    "from IPython.display import display"
   ]
  },
  {
   "cell_type": "code",
   "execution_count": 2,
   "id": "cb1ab313-2af7-4fa4-a99f-09b6ef35f440",
   "metadata": {},
   "outputs": [],
   "source": [
    "class Laguerre:\n",
    "    def __init__(self, t=20, n=10, num_of_points=100, eps=0.1, beta=2, sigma=4):\n",
    "        self.t = t\n",
    "        self.n = n\n",
    "        self.beta = beta\n",
    "        self.sigma = sigma\n",
    "        self.num_of_points = num_of_points\n",
    "        self.eps = eps\n",
    "        self.nu = 6\n",
    "        self.gamma = 1\n",
    "    def __str__(self):\n",
    "        return \"t: {} n: {} number of points: {} eps: {} beta: {} sigma: {}\".format(self.t, self.n, self.num_of_points, self.eps, self.beta, self.sigma)\n",
    "        \n",
    "    def laguerre(self):\n",
    "        l_0 = np.sqrt(self.sigma) * (np.exp(-self.beta * self.t / 2))\n",
    "        l_1 = np.sqrt(self.sigma) * (1 - self.sigma * self.t) * (np.exp(-self.beta * self.t / 2))\n",
    "\n",
    "        if self.n == 0:\n",
    "            return l_0\n",
    "        if self.n == 1:\n",
    "            return l_1\n",
    "        if self.n >= 2:\n",
    "            l_next = (2 * 2 - 1 - self.t * self.sigma) / 2 * l_1 - (2 - 1) / 2 * l_0\n",
    "            for j in range(3, self.n + 1):\n",
    "                l_0 = l_1\n",
    "                l_1 = l_next\n",
    "                l_next = (2 * j - 1 - self.t * self.sigma) / j * l_1 - (j - 1) / j * l_0\n",
    "            return l_next\n",
    "        \n",
    "    def tabulate_laguerre(self):\n",
    "        steps = np.linspace(0, self.t, self.num_of_points)\n",
    "        y_s = []\n",
    "        for i in steps:\n",
    "            self.t = i\n",
    "            y_s.append(self.laguerre())\n",
    "        return steps, y_s\n",
    "    \n",
    "    def experiment(self):\n",
    "        self.t = 0\n",
    "        while True:\n",
    "            self.t += 0.01\n",
    "            res = []\n",
    "\n",
    "            for i in range(self.n + 1):\n",
    "                x = abs(self.laguerre())\n",
    "                if x < self.eps:\n",
    "                    res.append(x)\n",
    "                    if i == self.n:\n",
    "                        return self.t, res\n",
    "                else:\n",
    "                    break\n",
    "                    \n",
    "    def integral_with_rectangles(self, f):\n",
    "        alpha = self.sigma - self.beta\n",
    "        self.num_of_points = 100\n",
    "        steps = np.linspace(0, self.t, self.num_of_points)\n",
    "\n",
    "        help1 = []\n",
    "        for i in steps:\n",
    "            self.t = i\n",
    "            help1.append(f(i) * self.laguerre() * np.exp(-alpha * i))\n",
    "        res1 = sum(help1) * self.t / self.num_of_points\n",
    "\n",
    "        self.num_of_points *= 2\n",
    "        steps = np.linspace(0, self.t, self.num_of_points)\n",
    "\n",
    "        help2 = []\n",
    "        for i in steps:\n",
    "            self.t = i\n",
    "            help2.append(f(i) * self.laguerre() * np.exp(-alpha * i))\n",
    "        res2 = sum(help2) * self.t / self.num_of_points\n",
    "\n",
    "        while abs(res2 - res1) >= self.eps:\n",
    "            self.num_of_points *= 2\n",
    "            res1 = res2\n",
    "\n",
    "            help2 = []\n",
    "            for i in steps:\n",
    "                self.t = i\n",
    "                help2.append(f(i) * self.laguerre() * np.exp(-alpha * i))\n",
    "            res2 = sum(help2) * self.t / self.num_of_points\n",
    "        return res2\n",
    "    \n",
    "    def integral_with_rectangles_2(self, f, a, b):\n",
    "        alpha = self.sigma - self.beta\n",
    "        self.num_of_points = 100\n",
    "        steps = np.linspace(0, self.t, self.num_of_points)\n",
    "\n",
    "        help1 = []\n",
    "        for i in steps:\n",
    "            self.t = i\n",
    "            help1.append(f(i, a, b) * self.laguerre() * np.exp(-alpha * i))\n",
    "        res1 = sum(help1) * self.t / self.num_of_points\n",
    "\n",
    "        self.num_of_points *= 2\n",
    "        steps = np.linspace(0, self.t, self.num_of_points)\n",
    "\n",
    "        help2 = []\n",
    "        for i in steps:\n",
    "            self.t = i\n",
    "            help2.append(f(i, a, b) * self.laguerre() * np.exp(-alpha * i))\n",
    "        res2 = sum(help2) * self.t / self.num_of_points\n",
    "\n",
    "        while abs(res2 - res1) >= self.eps:\n",
    "            self.num_of_points *= 2\n",
    "            res1 = res2\n",
    "\n",
    "            help2 = []\n",
    "            for i in steps:\n",
    "                self.t = i\n",
    "                help2.append(f(i, a, b) * self.laguerre() * np.exp(-alpha * i))\n",
    "            res2 = sum(help2) * self.t / self.num_of_points\n",
    "        return res2\n",
    "    \n",
    "    def laguerre_transformation(self, f):\n",
    "        to_return = []\n",
    "        for i in range(self.n + 1):\n",
    "            self.n = i\n",
    "            to_return.append(self.integral_with_rectangles(f))\n",
    "        return to_return\n",
    "    \n",
    "    def laguerre_transformation_2(self, f, a, b):\n",
    "        to_return = []\n",
    "        for i in range(self.n + 1):\n",
    "            self.n = i\n",
    "            to_return.append(self.integral_with_rectangles_2(f, a, b))\n",
    "        return to_return\n",
    "    \n",
    "    def reverse_laguerre_transformation(self, lst):\n",
    "        to_return = []\n",
    "        for i in range(len(lst)):\n",
    "            self.n = i\n",
    "            to_return.append(lst[i] * self.laguerre())\n",
    "        return sum(to_return)"
   ]
  },
  {
   "cell_type": "code",
   "execution_count": 3,
   "id": "b539b7f9-c012-4061-b16e-96cc2a98e7b0",
   "metadata": {},
   "outputs": [],
   "source": [
    "def f(t):\n",
    "    if 0 <= t <= 2 * np.pi:\n",
    "        return np.sin(t - np.pi / 2) + 1\n",
    "    elif t > 2 * np.pi:\n",
    "        return 0"
   ]
  },
  {
   "cell_type": "code",
   "execution_count": 4,
   "id": "883c6490-dd3d-4c27-8fc4-c3b49b99d6c5",
   "metadata": {},
   "outputs": [],
   "source": [
    "def gaussian_function(t, nu, lamd):\n",
    "    return 1 / (lamd * np.sqrt(np.pi * 2)) * np.exp(-(((t - nu) ** 2) / (2 * lamd ** 2)))"
   ]
  },
  {
   "cell_type": "code",
   "execution_count": 5,
   "id": "6346067f-b543-4a40-b320-8a50476b48e9",
   "metadata": {},
   "outputs": [],
   "source": [
    "def for_case_2():\n",
    "    n_copy, t_copy = lag_test.n, lag_test.t\n",
    "    lag_test.n = 20\n",
    "    val, arr = lag_test.experiment()\n",
    "    lag_test.t = val\n",
    "    for i in range(0, 21):\n",
    "        lag_test.n = i\n",
    "        t_arr, lag_arr = lag_test.tabulate_laguerre()\n",
    "        plt.plot(t_arr, lag_arr, label = f'L_{i} (t)')\n",
    "    print(f't = {val}')\n",
    "    lag_test.n, lag_test.t = n_copy, t_copy\n",
    "    plt.title('LAGUERRE\\'S FUNCTION')\n",
    "    plt.grid(True)\n",
    "    plt.xlabel('t')\n",
    "    plt.ylabel('lag')\n",
    "    plt.legend()\n",
    "    plt.show()"
   ]
  },
  {
   "cell_type": "code",
   "execution_count": 6,
   "id": "0e8e6e38-058a-4ba1-9c1b-85d1da4cf9ab",
   "metadata": {},
   "outputs": [],
   "source": [
    "def for_case_5(number):\n",
    "    t_copy, pts_copy = lag_test.t, lag_test.num_of_points\n",
    "    arr = lag_test.laguerre_transformation(f)\n",
    "    res = []\n",
    "    steps = np.linspace(0, 2*np.pi, 1000)\n",
    "    for i in steps:\n",
    "        lag_test.t = i\n",
    "        res.append(lag_test.reverse_laguerre_transformation(arr))\n",
    "    lag_test.t, lag_test.num_of_points = t_copy, pts_copy\n",
    "    plt.title('Simple and Reverse transformation')\n",
    "    plt.plot(steps, res)\n",
    "    plt.show()"
   ]
  },
  {
   "cell_type": "code",
   "execution_count": 7,
   "id": "d53bc18b-d41f-48e6-93f4-49231094a8b9",
   "metadata": {},
   "outputs": [],
   "source": [
    "def for_case_6(number, a, b):\n",
    "    t_copy, pts_copy = lag_test.t, lag_test.num_of_points\n",
    "    arr = lag_test.laguerre_transformation_2(gaussian_function, a, b)\n",
    "    res = []\n",
    "    steps = np.linspace(0, lag_test.t, 1000)\n",
    "    for i in steps:\n",
    "        lag_test.t = i\n",
    "        res.append(lag_test.reverse_laguerre_transformation(arr))\n",
    "    lag_test.t, lag_test.num_of_points = t_copy, pts_copy\n",
    "    plt.title('Simple and Reverse transformation Gausse')\n",
    "    plt.plot(steps, res)\n",
    "    plt.show()"
   ]
  },
  {
   "cell_type": "code",
   "execution_count": 8,
   "id": "8307e5b3-8e96-424d-b2ca-9ad1ec42c7cc",
   "metadata": {},
   "outputs": [],
   "source": [
    "number_options=[\"Tabulate laguerre\", \"Experiment\", \"Laguerre Transformation\", \"Reverse Laguerre Transformation\", \"Simple and Reverse transformation\", \"Simple and Reverse Gausse Transformation\"]\n",
    "\n",
    "def test_function(t, n, num_of_p, sigma, beta, eps, nu, gamma, lag_test, option):\n",
    "    lag_test.n = n\n",
    "    lag_test.t = t\n",
    "    lag_test.eps = eps\n",
    "    lag_test.num_of_points = num_of_p\n",
    "    lag_test.sigma = sigma\n",
    "    lag_test.beta = beta\n",
    "    lag_test.nu = nu\n",
    "    lag_test.gamma = gamma\n",
    "    plt.close()\n",
    "    print(lag_test)\n",
    "    if option == number_options[0]:\n",
    "        plt.plot(lag_test.tabulate_laguerre()[0], lag_test.tabulate_laguerre()[1])\n",
    "        plt.title('Tabulate laguerre')\n",
    "        plt.show()\n",
    "    elif option == number_options[1]:\n",
    "        for_case_2()\n",
    "    elif option == number_options[2]:\n",
    "        pts_copy = lag_test.num_of_points\n",
    "        for i in lag_test.laguerre_transformation(f): print(i)\n",
    "        lag_test.num_of_points = pts_copy\n",
    "    elif option == number_options[3]:\n",
    "        n_copy = lag_test.n\n",
    "        print(\"\\n\" + str(lag_test.reverse_laguerre_transformation(np.array([-5, -2, -1, 0, 3, 5, 7]))))\n",
    "        lag_test.n = n_copy\n",
    "    elif option == number_options[4]:\n",
    "        for_case_5(lag_test.n)\n",
    "    elif option == number_options[5]:\n",
    "        for_case_6(lag_test.n, nu, gamma)\n",
    "        \n",
    "    global option_to_write\n",
    "    option_to_write = option"
   ]
  },
  {
   "cell_type": "code",
   "execution_count": 9,
   "id": "aa2f72e5-3e76-435d-ba65-a2ffb78a95f9",
   "metadata": {},
   "outputs": [],
   "source": [
    "def on_button_click(b, lag_test):\n",
    "    file = open(\"MyFile.txt\", \"w\")\n",
    "    t = str(lag_test.t).replace('.', ',')\n",
    "    epsilon = str(lag_test.eps).replace('.', ',')\n",
    "    _nu = str(lag_test.nu).replace('.', ',')\n",
    "    _gam = str(lag_test.gamma).replace('.', ',')\n",
    "    to_write = f'{t};{lag_test.n};{lag_test.num_of_points};{epsilon};{lag_test.beta};{lag_test.sigma};{_nu};{_gam};{option_to_write}'\n",
    "    file.write(to_write)"
   ]
  },
  {
   "cell_type": "code",
   "execution_count": 10,
   "id": "dc3a70b1-58d4-4947-9ce3-370e4d42495f",
   "metadata": {},
   "outputs": [],
   "source": [
    "def read_tab_lag(lines):\n",
    "    arr_x, arr_y = [], []\n",
    "    \n",
    "    for i in range(1, int((len(lines) - 3) / 2) + 1):\n",
    "        to_add = lines[i].replace(',', '.')[:-1]\n",
    "        arr_x.append(float(to_add))\n",
    "        \n",
    "    for i in range(len(lines) - 100, len(lines)):\n",
    "        to_add = lines[i].replace(',', '.')[:-1]\n",
    "        arr_y.append(float(to_add))\n",
    "    \n",
    "    plt.plot(arr_x, arr_y)\n",
    "    plt.show() "
   ]
  },
  {
   "cell_type": "code",
   "execution_count": 11,
   "id": "b1005d54-a56d-48f6-b2d6-86d88df347d4",
   "metadata": {},
   "outputs": [],
   "source": [
    "def read_exp(lines):\n",
    "    i = 2\n",
    "    x = True\n",
    "    arr_x, arr_y = [], []\n",
    "    print(lines[1])\n",
    "    while i < len(lines):\n",
    "        if lines[i] == '\\n' and lines[i - 1] == '\\n':\n",
    "            plt.plot(arr_x, arr_y)\n",
    "            arr_x, arr_y = [], []\n",
    "            i += 1\n",
    "            continue\n",
    "        if lines[i] == '\\n':\n",
    "            x = not x\n",
    "            i += 1\n",
    "            continue\n",
    "        if x:\n",
    "            to_add = lines[i].replace(',', '.')[:-1]\n",
    "            arr_x.append(float(to_add))\n",
    "        else:\n",
    "            to_add = lines[i].replace(',', '.')[:-1]\n",
    "            arr_y.append(float(to_add))\n",
    "        i += 1\n",
    "    plt.title('LAGUERRE\\'S FUNCTION')\n",
    "    plt.grid(True)\n",
    "    plt.xlabel('t')\n",
    "    plt.ylabel('lag')\n",
    "    plt.show()"
   ]
  },
  {
   "cell_type": "code",
   "execution_count": 12,
   "id": "53f7ff07-34a4-4b1d-8dce-ad57cf2acce7",
   "metadata": {},
   "outputs": [],
   "source": [
    "def read_lag_trans(lines):\n",
    "    for i in range(1, len(lines)):\n",
    "        print(lines[i].replace(',', '.'), end='')"
   ]
  },
  {
   "cell_type": "code",
   "execution_count": 13,
   "id": "6761bff6-49b4-4bc8-b31f-19334ffaae49",
   "metadata": {},
   "outputs": [],
   "source": [
    "def read_rev_lag_trans(lines):\n",
    "    print(lines[1].replace(',', '.'))"
   ]
  },
  {
   "cell_type": "code",
   "execution_count": 14,
   "id": "203564b3-e1e3-4f40-aa5a-7a4f60736e3b",
   "metadata": {},
   "outputs": [],
   "source": [
    "def read_simple_and_reverse(lines):\n",
    "    steps = np.linspace(0, 2*np.pi, 1000)\n",
    "    res = []\n",
    "    for i in range(1, len(steps) + 1):\n",
    "        to_add = lines[i].replace(',', '.')[:-1]\n",
    "        res.append(float(to_add))\n",
    "\n",
    "    plt.plot(steps, res)\n",
    "    plt.show()"
   ]
  },
  {
   "cell_type": "code",
   "execution_count": 15,
   "id": "2fa6980d-a680-4586-a7a6-d21924980ef2",
   "metadata": {},
   "outputs": [],
   "source": [
    "def read_simple_and_reverse_gausse(lines):\n",
    "    arr_x, arr_y = [], []\n",
    "    \n",
    "    for i in range(1, int((len(lines) - 3) / 2) + 1):\n",
    "        to_add = lines[i].replace(',', '.')[:-1]\n",
    "        arr_x.append(float(to_add))\n",
    "        \n",
    "    for i in range(len(lines) - 1000, len(lines)):\n",
    "        to_add = lines[i].replace(',', '.')[:-1]\n",
    "        arr_y.append(float(to_add))\n",
    "    \n",
    "    plt.plot(arr_x, arr_y)\n",
    "    plt.show()"
   ]
  },
  {
   "cell_type": "code",
   "execution_count": 16,
   "id": "e488dfcd-1a80-4afa-8cd0-f3990c20fd8a",
   "metadata": {},
   "outputs": [],
   "source": [
    "functions = [read_tab_lag, read_exp, read_lag_trans, read_rev_lag_trans, read_simple_and_reverse, read_simple_and_reverse_gausse]"
   ]
  },
  {
   "cell_type": "code",
   "execution_count": 17,
   "id": "dc46a2da-e5d2-4772-8d2b-5f57b96f5a0f",
   "metadata": {},
   "outputs": [],
   "source": [
    "def test_function2():  \n",
    "    options, filename = number_options, 'MyFile.txt'\n",
    "    with open(filename, 'r') as f:\n",
    "        lines = f.readlines()\n",
    "\n",
    "    functions[options.index(lines[0][:-1])](lines)"
   ]
  },
  {
   "cell_type": "code",
   "execution_count": 18,
   "id": "5232051a-243f-4146-8250-9e943c3b8f4d",
   "metadata": {},
   "outputs": [],
   "source": [
    "def on_button_click2(button):\n",
    "    test_function2()"
   ]
  },
  {
   "cell_type": "code",
   "execution_count": 19,
   "id": "de3ad940-8aef-43f6-bb25-08ad4a5b7d5e",
   "metadata": {},
   "outputs": [
    {
     "data": {
      "application/vnd.jupyter.widget-view+json": {
       "model_id": "ffb3d2421529441884fd77a9849eced5",
       "version_major": 2,
       "version_minor": 0
      },
      "text/plain": [
       "interactive(children=(IntText(value=7, description='t'), IntText(value=5, description='n'), IntText(value=100,…"
      ]
     },
     "metadata": {},
     "output_type": "display_data"
    },
    {
     "data": {
      "application/vnd.jupyter.widget-view+json": {
       "model_id": "224e1f8290e04b3781a86a81e1cbeffe",
       "version_major": 2,
       "version_minor": 0
      },
      "text/plain": [
       "Button(description='Записати у файл!', style=ButtonStyle())"
      ]
     },
     "metadata": {},
     "output_type": "display_data"
    }
   ],
   "source": [
    "lag_test = Laguerre()\n",
    "widgets.interact(test_function, \n",
    "                 t=widgets.IntText(value='7'), \n",
    "                 n=widgets.IntText(value='5'), \n",
    "                 num_of_p=widgets.IntText(value='100'), \n",
    "                 sigma=widgets.IntText(value='4'), \n",
    "                 beta=widgets.IntText(value='2'), \n",
    "                 eps=widgets.FloatText(value='0.001'),\n",
    "                 nu=widgets.FloatText(value='6'),\n",
    "                 gamma=widgets.FloatText(value='1'),\n",
    "                 lag_test=widgets.fixed(lag_test),\n",
    "                 option=number_options)\n",
    "\n",
    "button = widgets.Button(description=\"Записати у файл!\")\n",
    "display(button)\n",
    "button.on_click(lambda b: on_button_click(b, lag_test))"
   ]
  },
  {
   "cell_type": "code",
   "execution_count": 20,
   "id": "23a677f1-5c4c-4a03-b83f-787610529f08",
   "metadata": {},
   "outputs": [
    {
     "data": {
      "application/vnd.jupyter.widget-view+json": {
       "model_id": "d6074c2421514ccab15a79a13ac81a1f",
       "version_major": 2,
       "version_minor": 0
      },
      "text/plain": [
       "Button(description='Показати ту саму штуку на C#', style=ButtonStyle())"
      ]
     },
     "metadata": {},
     "output_type": "display_data"
    }
   ],
   "source": [
    "button2 = widgets.Button(description=\"Показати ту саму штуку на C#\")\n",
    "button2.on_click(on_button_click2)\n",
    "display(button2)"
   ]
  },
  {
   "cell_type": "code",
   "execution_count": null,
   "id": "874b86b2-c65b-4297-b8af-6e4dcb3c5b0c",
   "metadata": {},
   "outputs": [],
   "source": []
  }
 ],
 "metadata": {
  "kernelspec": {
   "display_name": "Python 3 (ipykernel)",
   "language": "python",
   "name": "python3"
  },
  "language_info": {
   "codemirror_mode": {
    "name": "ipython",
    "version": 3
   },
   "file_extension": ".py",
   "mimetype": "text/x-python",
   "name": "python",
   "nbconvert_exporter": "python",
   "pygments_lexer": "ipython3",
   "version": "3.9.12"
  }
 },
 "nbformat": 4,
 "nbformat_minor": 5
}
