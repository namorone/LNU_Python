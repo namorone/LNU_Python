{
 "cells": [
  {
   "cell_type": "code",
   "execution_count": 3,
   "id": "dc71e675-0f69-4fc1-b297-502ae8f65f71",
   "metadata": {},
   "outputs": [],
   "source": [
    "import math\n",
    "class Point:\n",
    "    def __init__(self,x,y):\n",
    "        self.x = x\n",
    "        self.y = y\n",
    "    def __str__(self):\n",
    "        return f'({self.x};{self.y})'\n",
    "    @property\n",
    "    def x(self):\n",
    "        return self._x\n",
    "    @property\n",
    "    def y(self):\n",
    "        return self._y\n",
    "    @x.setter\n",
    "    def x(self,value ):\n",
    "        self._x = value\n",
    "    @y.setter\n",
    "    def y(self,value ):\n",
    "        self._y = value\n",
    "    def move(self,other):\n",
    "        self.x+=other.x\n",
    "        self.y+=other.y\n",
    "        new_point=Point(self.x,self.y)\n",
    "        return new_point\n",
    "    def dictance(self,other):\n",
    "        self.x-=other.x\n",
    "        self.y-=other.y\n",
    "        new_point=math.sqrt(self.x**2  + self.y**2)\n",
    "        return new_point\n",
    "    def distance_from_start(self):\n",
    "        return math.sqrt(self._x ** 2 + self._y ** 2)"
   ]
  },
  {
   "cell_type": "code",
   "execution_count": 4,
   "id": "7bc6e365-660c-409e-b0cc-53bf67df6b27",
   "metadata": {},
   "outputs": [
    {
     "name": "stdout",
     "output_type": "stream",
     "text": [
      "(5;6)\n",
      "(20;30)\n",
      "(25;36)\n",
      "7.810249675906654\n"
     ]
    }
   ],
   "source": [
    "p1=Point(5,6)\n",
    "p2=Point(20,30)\n",
    "print(p1)\n",
    "print(p2)\n",
    "print(p1.move(p2))\n",
    "print(p1.dictance(p2))"
   ]
  },
  {
   "cell_type": "code",
   "execution_count": null,
   "id": "f514902d-2ae7-48ef-add2-4a05bfab5368",
   "metadata": {},
   "outputs": [],
   "source": []
  },
  {
   "cell_type": "code",
   "execution_count": 4,
   "id": "df6657a3-33ea-4dc1-8d47-fe7380a9bc5f",
   "metadata": {},
   "outputs": [
    {
     "name": "stdout",
     "output_type": "stream",
     "text": [
      "(3, 4)\n"
     ]
    }
   ],
   "source": [
    "import math\n",
    "class Point:\n",
    "    def __init__(self, x, y):\n",
    "        self.x=x\n",
    "        self.y=y\n",
    "    def add_point(self, other):\n",
    "        self.x+=other.x\n",
    "        self.y+=other.y\n",
    "        new_point=self.x, self.y\n",
    "        return new_point\n",
    "    def distance_to_point(self, other):\n",
    "        delta_x=self.x-other.x\n",
    "        delta_y=self.y-other.y\n",
    "        return math.sqrt(delta_x**2+delta_y**2)\n",
    "\n",
    "point_1=Point(1,1)\n",
    "point_2=Point(2,3)\n",
    "print(point_1.add_point(point_2))"
   ]
  },
  {
   "cell_type": "code",
   "execution_count": null,
   "id": "cc5885f4-5137-4859-9454-91ca2f065474",
   "metadata": {},
   "outputs": [],
   "source": []
  },
  {
   "cell_type": "code",
   "execution_count": 2,
   "id": "c6397c65-dca7-4590-bbd0-167d7360d085",
   "metadata": {},
   "outputs": [],
   "source": [
    "import math\n",
    "class Point:\n",
    "    def __init__(self, x, y):\n",
    "        self.x = x\n",
    "        self.y = y\n",
    "\n",
    "    def __str__(self):\n",
    "        return f'{self.x}, {self.y}'\n",
    "\n",
    "    @property\n",
    "    def x(self):\n",
    "        return self._x\n",
    "\n",
    "    @x.setter\n",
    "    def x(self, value):\n",
    "        self._x = value\n",
    "\n",
    "    @property\n",
    "    def y(self):\n",
    "        return self._y\n",
    "\n",
    "    @y.setter\n",
    "    def y(self, value):\n",
    "        self._y = value\n",
    "\n",
    "    def distance_from_start(self):\n",
    "        return math.sqrt(self._x ** 2 + self._y ** 2)\n",
    "\n",
    "\n",
    "def longest_from_start(points):\n",
    "    all_pts = []\n",
    "    for x in points:\n",
    "        all_pts.append((x, x.distance_from_start()))\n",
    "    return sorted(all_pts, key=lambda x:-x[1])[0][0]\n",
    "\n",
    "pt = Point(5, 10)\n",
    "pt1 = Point(6, 7)\n",
    "pt2 = Point(-2, 15)\n",
    "pt3 = Point(1, 5)\n",
    "pt4 = Point(2, 3)\n",
    "points = [pt,pt1,pt2,pt3,pt4]"
   ]
  },
  {
   "cell_type": "code",
   "execution_count": 3,
   "id": "00a80b66-0c6c-467a-83dc-11bd84043062",
   "metadata": {},
   "outputs": [
    {
     "name": "stdout",
     "output_type": "stream",
     "text": [
      "5, 10\n"
     ]
    }
   ],
   "source": [
    "print(pt)"
   ]
  },
  {
   "cell_type": "code",
   "execution_count": null,
   "id": "1e40e2a5-6d2a-4e53-bbfb-719ea1d9890b",
   "metadata": {},
   "outputs": [],
   "source": []
  }
 ],
 "metadata": {
  "kernelspec": {
   "display_name": "Python 3 (ipykernel)",
   "language": "python",
   "name": "python3"
  },
  "language_info": {
   "codemirror_mode": {
    "name": "ipython",
    "version": 3
   },
   "file_extension": ".py",
   "mimetype": "text/x-python",
   "name": "python",
   "nbconvert_exporter": "python",
   "pygments_lexer": "ipython3",
   "version": "3.9.12"
  }
 },
 "nbformat": 4,
 "nbformat_minor": 5
}
