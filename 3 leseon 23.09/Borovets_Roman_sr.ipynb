{
 "cells": [
  {
   "cell_type": "code",
   "execution_count": 2,
   "id": "5c93ecde-f206-471c-8447-0515ad4c431a",
   "metadata": {},
   "outputs": [
    {
     "name": "stdout",
     "output_type": "stream",
     "text": [
      "25.0\n",
      "0.0 312.5 25.0\n",
      "0.5 312.375 24.5\n",
      "1.0 312.0 24.0\n",
      "1.5 311.375 23.5\n",
      "2.0 310.5 23.0\n",
      "2.5 309.375 22.5\n",
      "3.0 308.0 22.0\n",
      "3.5 306.375 21.5\n",
      "4.0 304.5 21.0\n",
      "4.5 302.375 20.5\n",
      "5.0 300.0 20.0\n",
      "5.5 297.375 19.5\n",
      "6.0 294.5 19.0\n",
      "6.5 291.375 18.5\n",
      "7.0 288.0 18.0\n",
      "7.5 284.375 17.5\n",
      "8.0 280.5 17.0\n",
      "8.5 276.375 16.5\n",
      "9.0 272.0 16.0\n",
      "9.5 267.375 15.5\n",
      "10.0 262.5 15.0\n",
      "10.5 257.375 14.5\n",
      "11.0 252.0 14.0\n",
      "11.5 246.375 13.5\n",
      "12.0 240.5 13.0\n",
      "12.5 234.375 12.5\n",
      "13.0 228.0 12.0\n",
      "13.5 221.375 11.5\n",
      "14.0 214.5 11.0\n",
      "14.5 207.375 10.5\n",
      "15.0 200.0 10.0\n",
      "15.5 192.375 9.5\n",
      "16.0 184.5 9.0\n",
      "16.5 176.375 8.5\n",
      "17.0 168.0 8.0\n",
      "17.5 159.375 7.5\n",
      "18.0 150.5 7.0\n",
      "18.5 141.375 6.5\n",
      "19.0 132.0 6.0\n",
      "19.5 122.375 5.5\n",
      "20.0 112.5 5.0\n",
      "20.5 102.375 4.5\n",
      "21.0 92.0 4.0\n",
      "21.5 81.375 3.5\n",
      "22.0 70.5 3.0\n",
      "22.5 59.375 2.5\n",
      "23.0 48.0 2.0\n",
      "23.5 36.375 1.5\n",
      "24.0 24.5 1.0\n",
      "24.5 12.375 0.5\n",
      "25.0 0.0 0.0\n",
      "25.5 -12.625 -0.5\n"
     ]
    }
   ],
   "source": [
    "# 1.1\n",
    "v=25\n",
    "a=-1\n",
    "\n",
    "def tab(v,a):\n",
    "    vt=0\n",
    "    st=0\n",
    "    t=abs(v/a)\n",
    "    print (t)\n",
    "    while t!=-1:\n",
    "        vt=v+a*t\n",
    "        st=v*t + a*t**2  /2\n",
    "        print(vt,st,t)\n",
    "        vt=0\n",
    "        st=0\n",
    "        t-=0.5\n",
    "        \n",
    "        \n",
    "        \n",
    "    \n",
    "tab(v,a)\n"
   ]
  },
  {
   "cell_type": "code",
   "execution_count": null,
   "id": "d9dc362f-da71-4eab-b6d5-16fd66415031",
   "metadata": {},
   "outputs": [],
   "source": []
  },
  {
   "cell_type": "code",
   "execution_count": 18,
   "id": "2f84a259-e583-4886-af56-bfa1016e6306",
   "metadata": {},
   "outputs": [
    {
     "ename": "NameError",
     "evalue": "name 'milk' is not defined",
     "output_type": "error",
     "traceback": [
      "\u001b[1;31m---------------------------------------------------------------------------\u001b[0m",
      "\u001b[1;31mNameError\u001b[0m                                 Traceback (most recent call last)",
      "Input \u001b[1;32mIn [18]\u001b[0m, in \u001b[0;36m<cell line: 2>\u001b[1;34m()\u001b[0m\n\u001b[0;32m      1\u001b[0m \u001b[38;5;66;03m#1.2\u001b[39;00m\n\u001b[1;32m----> 2\u001b[0m stat\u001b[38;5;241m=\u001b[39m[{\u001b[43mmilk\u001b[49m: \u001b[38;5;241m100\u001b[39m}, {wood:\u001b[38;5;241m2000\u001b[39m},{whater:\u001b[38;5;241m400\u001b[39m},{milk: \u001b[38;5;241m150\u001b[39m}, {wood:\u001b[38;5;241m2100\u001b[39m},{whater:\u001b[38;5;241m470\u001b[39m}]\n\u001b[0;32m      4\u001b[0m \u001b[38;5;28;01mdef\u001b[39;00m \u001b[38;5;21mgeneral_list\u001b[39m(stst):\n\u001b[0;32m      5\u001b[0m     stat\u001b[38;5;241m=\u001b[39m[ v \u001b[38;5;28;01mfor\u001b[39;00m  v \u001b[38;5;129;01min\u001b[39;00m \u001b[38;5;28msorted\u001b[39m( stat\u001b[38;5;241m.\u001b[39mitems(), key\u001b[38;5;241m=\u001b[39m\u001b[38;5;28;01mlambda\u001b[39;00m item: \u001b[38;5;241m-\u001b[39mitem[\u001b[38;5;241m1\u001b[39m])]\n",
      "\u001b[1;31mNameError\u001b[0m: name 'milk' is not defined"
     ]
    }
   ],
   "source": [
    "#1.2\n",
    "stat=[{milk: 100}, {wood:2000},{whater:400},{milk: 150}, {wood:2100},{whater:470}]\n",
    "\n",
    "def general_list(stst):\n",
    "    stat=[ v for  v in sorted( stat.items(), key=lambda item: -item[1])]"
   ]
  },
  {
   "cell_type": "code",
   "execution_count": null,
   "id": "2dd3c525-86fb-41f9-9c60-13b64ff659fe",
   "metadata": {},
   "outputs": [],
   "source": []
  }
 ],
 "metadata": {
  "kernelspec": {
   "display_name": "Python 3 (ipykernel)",
   "language": "python",
   "name": "python3"
  },
  "language_info": {
   "codemirror_mode": {
    "name": "ipython",
    "version": 3
   },
   "file_extension": ".py",
   "mimetype": "text/x-python",
   "name": "python",
   "nbconvert_exporter": "python",
   "pygments_lexer": "ipython3",
   "version": "3.9.12"
  }
 },
 "nbformat": 4,
 "nbformat_minor": 5
}
