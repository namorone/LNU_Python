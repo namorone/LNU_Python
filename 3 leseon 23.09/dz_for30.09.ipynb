{
 "cells": [
  {
   "cell_type": "code",
   "execution_count": null,
   "id": "505117a8-8be2-4174-9dcb-2f66e5aadd73",
   "metadata": {},
   "outputs": [],
   "source": [
    "#3.1 Прості класи"
   ]
  },
  {
   "cell_type": "code",
   "execution_count": 1,
   "id": "f7302d48-4a9e-463a-b32a-8f42e656b3cd",
   "metadata": {},
   "outputs": [],
   "source": [
    "class WaterCounter :\n",
    "    def __init__(self, apart_number, month, prev_value, nw_value):\n",
    "        self.apart_number = apart_number\n",
    "        self.mounth = month\n",
    "        self.prev_value = prev_value\n",
    "        self.nw_value = nw_value\n",
    "    \n",
    "    def __str__(self):\n",
    "        return f'{self.apart_number}, {self.mounth},{self.prev_value}, {self.nw_value}'\n",
    "    \n",
    "    @property\n",
    "    def apart_number(self):\n",
    "        return self._apart_number\n",
    "    \n",
    "    @property\n",
    "    def month(self):\n",
    "        return self._month\n",
    "    \n",
    "    @property\n",
    "    def prev_value(self):\n",
    "        return self._prev_value\n",
    "    \n",
    "    @property\n",
    "    def nw_value(self):\n",
    "        return self._nw_value\n",
    "    \n",
    "    @apart_number.setter\n",
    "    def apart_number(self,value ):\n",
    "        self._apart_number = value\n",
    "    \n",
    "    @month.setter\n",
    "    def month(self,value ):\n",
    "        self._month = value\n",
    "    \n",
    "    @prev_value.setter\n",
    "    def prev_value(self,value ):\n",
    "        self._prev_value = value\n",
    "    \n",
    "    @nw_value.setter\n",
    "    def nw_value(self,value):\n",
    "        '''Set nw_value need to be more then prev_value.'''\n",
    "        if value > self.prev_value :\n",
    "            self._nw_value = value\n",
    "        else:\n",
    "            print('!!! Incorrect value !!!')\n",
    "    \n",
    "    def diff(self):\n",
    "        d = self._nw_value-self._prev_value\n",
    "        print(d)\n",
    "        return d\n",
    "        "
   ]
  },
  {
   "cell_type": "code",
   "execution_count": 2,
   "id": "40ead085-ba6a-46d3-99b8-26da1042c991",
   "metadata": {},
   "outputs": [
    {
     "name": "stdout",
     "output_type": "stream",
     "text": [
      "1, 9,1001, 1129 2, 9,908, 1029 1, 10,1129, 1229 2, 10,1029, 1129 5, 10,1629, 1759\n",
      "<bound method WaterCounter.diff of <__main__.WaterCounter object at 0x0000021CCA7A1BB0>>\n"
     ]
    }
   ],
   "source": [
    "sept1 = WaterCounter(1,9,1001,1129)\n",
    "sept2 = WaterCounter(2,9,908,1029)\n",
    "sept5 = WaterCounter(5,9,1531,1629)\n",
    "oct1 = WaterCounter(1,10,1129,1229)\n",
    "oct2 = WaterCounter(2,10,1029,1129)\n",
    "oct5 = WaterCounter(5,10,1629,1759)\n",
    "print(sept1,sept2 \n",
    "      ,oct1 ,oct2 ,oct5)\n",
    "sept1.diff\n",
    "print(sept1.diff)"
   ]
  },
  {
   "cell_type": "code",
   "execution_count": null,
   "id": "91833f12-4126-4070-8f79-cd16313e456b",
   "metadata": {},
   "outputs": [],
   "source": []
  }
 ],
 "metadata": {
  "kernelspec": {
   "display_name": "Python 3 (ipykernel)",
   "language": "python",
   "name": "python3"
  },
  "language_info": {
   "codemirror_mode": {
    "name": "ipython",
    "version": 3
   },
   "file_extension": ".py",
   "mimetype": "text/x-python",
   "name": "python",
   "nbconvert_exporter": "python",
   "pygments_lexer": "ipython3",
   "version": "3.9.12"
  }
 },
 "nbformat": 4,
 "nbformat_minor": 5
}
