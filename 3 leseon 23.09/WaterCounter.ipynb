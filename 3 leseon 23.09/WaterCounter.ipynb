{
 "cells": [
  {
   "cell_type": "markdown",
   "id": "1cc0a4d8",
   "metadata": {},
   "source": [
    "Створити тип WaterCounter для поквартирного облiку води в будинку.\n",
    "Характеризується номером квартири, номером мiсяця та показниками лiчильника – поточним i попереднiм. Передбачити за рахунок properties, що поточний показник лiчильника неменший попереднього, а також змiнювати значення може лише номер мiсяця.\n",
    "\n",
    "2.Задати в кодi окремої комiрки ноутбуку колекцiю даних типу WaterCounter про використану за кiлька мiсяцiв воду в будинку з кiлькох квартир.\n",
    "\n",
    "3.Вивести:\n",
    "(а) для конкретного мiсяця табличку з даними про використану воду кожною квартирою\n",
    "(б) для кожного рiчного кварталу використану воду кожною квартирою\n",
    "(в) табличку загальної для будинку кiлькостi води по усiх мiсяцях, для яких були данi."
   ]
  },
  {
   "cell_type": "code",
   "execution_count": 1,
   "id": "3488f40d",
   "metadata": {},
   "outputs": [],
   "source": [
    "import datetime\n",
    "\n",
    "def month_name(mon_num):\n",
    "    datetime_object = datetime.datetime.strptime(str(mon_num), \"%m\")\n",
    "    return datetime_object.strftime(\"%b\")\n",
    "    \n",
    "\n",
    "class WaterCounter:\n",
    "    \n",
    "    def __init__(self, flat_num, month, prev_ind, cur_ind):\n",
    "        self.flat_num = flat_num\n",
    "        self.month = month\n",
    "        self.prev_ind = prev_ind\n",
    "        self.cur_ind = cur_ind\n",
    "        \n",
    "    def __str__(self):\n",
    "        return f'Flat number: {self.flat_num}, month: {self.month}, prev_ind: {self.prev_ind}, cur_ind {self.cur_ind}'\n",
    "    \n",
    "    @property\n",
    "    def flat_num(self):\n",
    "        return self._flat_num\n",
    "    \n",
    "    @flat_num.setter\n",
    "    def flat_num(self, value):\n",
    "        self._flat_num = value\n",
    "        \n",
    "    @property\n",
    "    def month(self):\n",
    "        return self._month\n",
    "    \n",
    "    @month.setter\n",
    "    def month(self, value):\n",
    "        self._month = value\n",
    "        \n",
    "    @property\n",
    "    def prev_ind(self):\n",
    "        return self._prev_ind\n",
    "    \n",
    "    @prev_ind.setter\n",
    "    def prev_ind(self, value):\n",
    "        self._prev_ind = value\n",
    "        \n",
    "    @property\n",
    "    def cur_ind(self):\n",
    "        return self._cur_ind\n",
    "    \n",
    "    @cur_ind.setter\n",
    "    def cur_ind(self, value):\n",
    "        if (self.prev_ind > value):\n",
    "            self._cur_ind = self.prev_ind\n",
    "        else:\n",
    "            self._cur_ind = value\n",
    "    \n",
    "    def water_use(self):\n",
    "        total = self.cur_ind - self.prev_ind\n",
    "        return total\n",
    "    \n",
    "    def monthly_report(self, month):\n",
    "        if self.month == month:\n",
    "            print (f'{self.flat_num} \\t {self.water_use()}')"
   ]
  },
  {
   "cell_type": "code",
   "execution_count": 2,
   "id": "0748d244",
   "metadata": {},
   "outputs": [],
   "source": [
    "# 2\n",
    "\n",
    "w1 = WaterCounter(12, 10, 24512, 29745)\n",
    "w2 = WaterCounter(12, 11, 29745, 29800)\n",
    "w3 = WaterCounter(12, 12, 29800, 32044)\n",
    "w4 = WaterCounter(7, 1, 2584, 2688)\n",
    "w5 = WaterCounter(7, 2, 2688, 2845)\n",
    "w6 = WaterCounter(7, 3, 2845, 3475)\n",
    "w7 = WaterCounter(10, 6, 15487, 18751) \n",
    "w8 = WaterCounter(10, 7, 18751, 20548) \n",
    "w9 = WaterCounter(10, 8, 20548, 34755)\n",
    "w10 = WaterCounter(3, 12, 14789, 19874)\n",
    "w11 = WaterCounter(3, 4, 45465, 54993)\n",
    "w12 = WaterCounter(8, 4, 89455, 154987)\n",
    "w13 = WaterCounter(9, 9, 15132, 16887)\n",
    "w14 = WaterCounter(6, 9, 4789, 5688)\n",
    "w15 = WaterCounter(7, 4, 8995, 9001)\n",
    "w16 = WaterCounter(2, 3, 4546, 7554)\n",
    "w17 = WaterCounter(2, 4, 56897, 54892) \n",
    "w18 = WaterCounter(1, 2, 88898, 966645) \n",
    "w19 = WaterCounter(1, 4, 205484, 565655)\n",
    "w20 = WaterCounter(6, 5, 45455, 49545)\n",
    "\n",
    "datalist = [ w1, w2, w3, w4, w5, w6, w7, w8, w9, w10, w11, w12, w13, w14, w15, w16, w17, w18, w19, w20 ]"
   ]
  },
  {
   "cell_type": "code",
   "execution_count": 3,
   "id": "14fb283e",
   "metadata": {
    "scrolled": true
   },
   "outputs": [
    {
     "name": "stdout",
     "output_type": "stream",
     "text": [
      "Enter a number of month (between 1 and 12): 10\n",
      "\n",
      "  Report for OCT \n",
      "FLAT \t USED WATER\n",
      "12 \t 5233\n"
     ]
    }
   ],
   "source": [
    "# 3 a\n",
    "#для конкретного мiсяця табличку з даними про використану воду кожною квартирою\n",
    "\n",
    "mon_num = int(input(\"Enter a number of month (between 1 and 12): \"))\n",
    "month = month_name(mon_num)\n",
    "\n",
    "print('\\n  Report for', month.upper(), '\\nFLAT \\t USED WATER')\n",
    "for item in datalist:\n",
    "    item.monthly_report(mon_num) "
   ]
  },
  {
   "cell_type": "code",
   "execution_count": 4,
   "id": "291baf99",
   "metadata": {},
   "outputs": [
    {
     "name": "stdout",
     "output_type": "stream",
     "text": [
      "\n",
      "USED WATER IN YEAR\n",
      "  QUARTAL 1 \n",
      "Flat \t Used water\n",
      "7  \t  891\n",
      "2  \t  3008\n",
      "1  \t  877747\n",
      "  QUARTAL 2 \n",
      "Flat \t Used water\n",
      "10  \t  3264\n",
      "3  \t  9528\n",
      "8  \t  65532\n",
      "7  \t  6\n",
      "2  \t  0\n",
      "1  \t  360171\n",
      "6  \t  4090\n",
      "  QUARTAL 3 \n",
      "Flat \t Used water\n",
      "10  \t  16004\n",
      "9  \t  1755\n",
      "6  \t  899\n",
      "  QUARTAL 4 \n",
      "Flat \t Used water\n",
      "12  \t  7532\n",
      "3  \t  5085\n"
     ]
    }
   ],
   "source": [
    "# 3 б\n",
    "# для кожного рiчного кварталу використану воду кожною квартирою\n",
    "quartal_list = [{}, {}, {}, {}]\n",
    "for month in datalist:\n",
    "    quartal = (month.month - 1) // 3\n",
    "    if month.flat_num in quartal_list[quartal]:\n",
    "        quartal_list[quartal][month.flat_num] += month.water_use()\n",
    "    else:\n",
    "        quartal_list[quartal][month.flat_num] = month.water_use()\n",
    "\n",
    "\n",
    "print('\\nUSED WATER IN YEAR')\n",
    "count = 0\n",
    "for i in quartal_list:\n",
    "    count += 1\n",
    "    print('  QUARTAL',count,'\\nFlat \\t Used water')\n",
    "    for j in i:\n",
    "        print(j, ' \\t ', i[j])"
   ]
  },
  {
   "cell_type": "code",
   "execution_count": 5,
   "id": "6eba4ddc",
   "metadata": {},
   "outputs": [
    {
     "name": "stdout",
     "output_type": "stream",
     "text": [
      "USED WATER IN YEAR \n",
      "MONTH \t WATER\n",
      "Jan \t 104\n",
      "Feb \t 877747\n",
      "Mar \t 3008\n",
      "Apr \t 360171\n",
      "May \t 4090\n",
      "Jun \t 3264\n",
      "Jul \t 1797\n",
      "Aug \t 14207\n",
      "Sep \t 899\n",
      "Oct \t 5233\n",
      "Nov \t 55\n",
      "Dec \t 5085\n"
     ]
    }
   ],
   "source": [
    "# 3 в\n",
    "# табличку загальної для будинку кiлькостi води по усiх мiсяцях, для яких були данi\n",
    "total = {}\n",
    "for i in datalist:\n",
    "    if i in total:\n",
    "        total[i.month] += i.water_use()\n",
    "    else:\n",
    "        total[i.month] = i.water_use()\n",
    "        \n",
    "total = sorted(total.items())\n",
    "\n",
    "print('USED WATER IN YEAR \\nMONTH \\t WATER')\n",
    "for i in total:\n",
    "    print(month_name(i[0]), '\\t', i[1])"
   ]
  }
 ],
 "metadata": {
  "kernelspec": {
   "display_name": "Python 3 (ipykernel)",
   "language": "python",
   "name": "python3"
  },
  "language_info": {
   "codemirror_mode": {
    "name": "ipython",
    "version": 3
   },
   "file_extension": ".py",
   "mimetype": "text/x-python",
   "name": "python",
   "nbconvert_exporter": "python",
   "pygments_lexer": "ipython3",
   "version": "3.9.12"
  }
 },
 "nbformat": 4,
 "nbformat_minor": 5
}
