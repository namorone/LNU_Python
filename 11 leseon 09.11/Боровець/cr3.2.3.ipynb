{
 "cells": [
  {
   "cell_type": "code",
   "execution_count": 2,
   "id": "8dc8c4ff-389f-4426-a833-03e075963f07",
   "metadata": {},
   "outputs": [],
   "source": [
    "import pandas as pd\n",
    "import numpy as np\n",
    "import matplotlib.pyplot as plt"
   ]
  },
  {
   "cell_type": "code",
   "execution_count": 3,
   "id": "bc823e34-78e3-4747-a2d5-e79e05ee3bd8",
   "metadata": {},
   "outputs": [],
   "source": [
    "dfdeparture = pd.read_csv(\"departure.txt\")\n",
    "dfdeparture2 = pd.read_csv(\"departure 2.txt\")\n",
    "dfcountry_of_destination = pd.read_csv(\"country of destination.txt\")"
   ]
  },
  {
   "cell_type": "code",
   "execution_count": 4,
   "id": "ff3dade8-dcba-4e7e-8338-8cd65e72ebdb",
   "metadata": {},
   "outputs": [
    {
     "data": {
      "text/html": [
       "<div>\n",
       "<style scoped>\n",
       "    .dataframe tbody tr th:only-of-type {\n",
       "        vertical-align: middle;\n",
       "    }\n",
       "\n",
       "    .dataframe tbody tr th {\n",
       "        vertical-align: top;\n",
       "    }\n",
       "\n",
       "    .dataframe thead th {\n",
       "        text-align: right;\n",
       "    }\n",
       "</style>\n",
       "<table border=\"1\" class=\"dataframe\">\n",
       "  <thead>\n",
       "    <tr style=\"text-align: right;\">\n",
       "      <th></th>\n",
       "      <th>department number</th>\n",
       "      <th>account number</th>\n",
       "      <th>weight</th>\n",
       "      <th>destination country code</th>\n",
       "    </tr>\n",
       "  </thead>\n",
       "  <tbody>\n",
       "    <tr>\n",
       "      <th>0</th>\n",
       "      <td>75</td>\n",
       "      <td>26743</td>\n",
       "      <td>10</td>\n",
       "      <td>2</td>\n",
       "    </tr>\n",
       "    <tr>\n",
       "      <th>1</th>\n",
       "      <td>65</td>\n",
       "      <td>26382</td>\n",
       "      <td>8</td>\n",
       "      <td>3</td>\n",
       "    </tr>\n",
       "    <tr>\n",
       "      <th>2</th>\n",
       "      <td>45</td>\n",
       "      <td>28901</td>\n",
       "      <td>2</td>\n",
       "      <td>1</td>\n",
       "    </tr>\n",
       "  </tbody>\n",
       "</table>\n",
       "</div>"
      ],
      "text/plain": [
       "   department number  account number  weight  destination country code\n",
       "0                 75           26743      10                         2\n",
       "1                 65           26382       8                         3\n",
       "2                 45           28901       2                         1"
      ]
     },
     "execution_count": 4,
     "metadata": {},
     "output_type": "execute_result"
    }
   ],
   "source": [
    "dfdeparture"
   ]
  },
  {
   "cell_type": "code",
   "execution_count": 5,
   "id": "f0c01d8b-0c12-440b-a41c-9ca387bf018b",
   "metadata": {},
   "outputs": [
    {
     "data": {
      "text/html": [
       "<div>\n",
       "<style scoped>\n",
       "    .dataframe tbody tr th:only-of-type {\n",
       "        vertical-align: middle;\n",
       "    }\n",
       "\n",
       "    .dataframe tbody tr th {\n",
       "        vertical-align: top;\n",
       "    }\n",
       "\n",
       "    .dataframe thead th {\n",
       "        text-align: right;\n",
       "    }\n",
       "</style>\n",
       "<table border=\"1\" class=\"dataframe\">\n",
       "  <thead>\n",
       "    <tr style=\"text-align: right;\">\n",
       "      <th></th>\n",
       "      <th>department number</th>\n",
       "      <th>account number</th>\n",
       "      <th>weight</th>\n",
       "      <th>destination country code</th>\n",
       "    </tr>\n",
       "  </thead>\n",
       "  <tbody>\n",
       "    <tr>\n",
       "      <th>0</th>\n",
       "      <td>65</td>\n",
       "      <td>29938</td>\n",
       "      <td>5</td>\n",
       "      <td>3</td>\n",
       "    </tr>\n",
       "    <tr>\n",
       "      <th>1</th>\n",
       "      <td>89</td>\n",
       "      <td>27833</td>\n",
       "      <td>4</td>\n",
       "      <td>2</td>\n",
       "    </tr>\n",
       "  </tbody>\n",
       "</table>\n",
       "</div>"
      ],
      "text/plain": [
       "   department number  account number  weight  destination country code\n",
       "0                 65           29938       5                         3\n",
       "1                 89           27833       4                         2"
      ]
     },
     "execution_count": 5,
     "metadata": {},
     "output_type": "execute_result"
    }
   ],
   "source": [
    "dfdeparture2"
   ]
  },
  {
   "cell_type": "code",
   "execution_count": 6,
   "id": "24328947-47bf-4810-8e98-34de7fa9ed48",
   "metadata": {},
   "outputs": [
    {
     "data": {
      "text/html": [
       "<div>\n",
       "<style scoped>\n",
       "    .dataframe tbody tr th:only-of-type {\n",
       "        vertical-align: middle;\n",
       "    }\n",
       "\n",
       "    .dataframe tbody tr th {\n",
       "        vertical-align: top;\n",
       "    }\n",
       "\n",
       "    .dataframe thead th {\n",
       "        text-align: right;\n",
       "    }\n",
       "</style>\n",
       "<table border=\"1\" class=\"dataframe\">\n",
       "  <thead>\n",
       "    <tr style=\"text-align: right;\">\n",
       "      <th></th>\n",
       "      <th>destination country code</th>\n",
       "      <th>name</th>\n",
       "      <th>price for delivery 1KH</th>\n",
       "    </tr>\n",
       "  </thead>\n",
       "  <tbody>\n",
       "    <tr>\n",
       "      <th>0</th>\n",
       "      <td>1</td>\n",
       "      <td>Ukraine</td>\n",
       "      <td>50</td>\n",
       "    </tr>\n",
       "    <tr>\n",
       "      <th>1</th>\n",
       "      <td>2</td>\n",
       "      <td>Poland</td>\n",
       "      <td>60</td>\n",
       "    </tr>\n",
       "    <tr>\n",
       "      <th>2</th>\n",
       "      <td>3</td>\n",
       "      <td>Great Britain</td>\n",
       "      <td>70</td>\n",
       "    </tr>\n",
       "  </tbody>\n",
       "</table>\n",
       "</div>"
      ],
      "text/plain": [
       "   destination country code           name  price for delivery 1KH\n",
       "0                         1        Ukraine                      50\n",
       "1                         2         Poland                      60\n",
       "2                         3  Great Britain                      70"
      ]
     },
     "execution_count": 6,
     "metadata": {},
     "output_type": "execute_result"
    }
   ],
   "source": [
    "dfcountry_of_destination"
   ]
  },
  {
   "cell_type": "markdown",
   "id": "5e5f9262-3bee-4e38-9806-1aab32bf74e4",
   "metadata": {},
   "source": [
    "# a)"
   ]
  },
  {
   "cell_type": "code",
   "execution_count": 7,
   "id": "0a6fcd62-4a0d-4d62-88a2-7f79d06ed8d9",
   "metadata": {},
   "outputs": [],
   "source": [
    "dfdep = pd.concat([dfdeparture, dfdeparture2], axis = 0)\n",
    "df_d = dfdep['department number'].value_counts()"
   ]
  },
  {
   "cell_type": "code",
   "execution_count": 8,
   "id": "29175c7f-47a8-4bfb-998e-cb259c89a736",
   "metadata": {},
   "outputs": [
    {
     "data": {
      "text/html": [
       "<div>\n",
       "<style scoped>\n",
       "    .dataframe tbody tr th:only-of-type {\n",
       "        vertical-align: middle;\n",
       "    }\n",
       "\n",
       "    .dataframe tbody tr th {\n",
       "        vertical-align: top;\n",
       "    }\n",
       "\n",
       "    .dataframe thead th {\n",
       "        text-align: right;\n",
       "    }\n",
       "</style>\n",
       "<table border=\"1\" class=\"dataframe\">\n",
       "  <thead>\n",
       "    <tr style=\"text-align: right;\">\n",
       "      <th></th>\n",
       "      <th>department number</th>\n",
       "      <th>valeu of premise</th>\n",
       "    </tr>\n",
       "  </thead>\n",
       "  <tbody>\n",
       "    <tr>\n",
       "      <th>0</th>\n",
       "      <td>65</td>\n",
       "      <td>2</td>\n",
       "    </tr>\n",
       "    <tr>\n",
       "      <th>1</th>\n",
       "      <td>75</td>\n",
       "      <td>1</td>\n",
       "    </tr>\n",
       "    <tr>\n",
       "      <th>2</th>\n",
       "      <td>45</td>\n",
       "      <td>1</td>\n",
       "    </tr>\n",
       "    <tr>\n",
       "      <th>3</th>\n",
       "      <td>89</td>\n",
       "      <td>1</td>\n",
       "    </tr>\n",
       "  </tbody>\n",
       "</table>\n",
       "</div>"
      ],
      "text/plain": [
       "   department number  valeu of premise\n",
       "0                 65                 2\n",
       "1                 75                 1\n",
       "2                 45                 1\n",
       "3                 89                 1"
      ]
     },
     "execution_count": 8,
     "metadata": {},
     "output_type": "execute_result"
    }
   ],
   "source": [
    "df_d=df_d.to_frame().reset_index()\n",
    "df_d.rename(columns=({'index':'department number','department number':'valeu of premise'}), inplace=True)\n",
    "df_d"
   ]
  },
  {
   "cell_type": "markdown",
   "id": "021f99fa-2d13-43e6-a8f6-d76e4ddc46df",
   "metadata": {},
   "source": [
    "# б)"
   ]
  },
  {
   "cell_type": "code",
   "execution_count": 9,
   "id": "90f57b3a-e1ed-4802-8507-5417abb1098d",
   "metadata": {},
   "outputs": [
    {
     "data": {
      "image/png": "[encoded data removed]",
      "text/plain": [
       "<Figure size 432x288 with 1 Axes>"
      ]
     },
     "metadata": {
      "needs_background": "light"
     },
     "output_type": "display_data"
    }
   ],
   "source": [
    "ax=df_d.plot(x='department number', y='valeu of premise',kind = 'bar')\n",
    "plt.show()"
   ]
  },
  {
   "cell_type": "markdown",
   "id": "d5e20720-f28a-4f28-ba1f-d8a2908d19b9",
   "metadata": {},
   "source": [
    "# в)"
   ]
  },
  {
   "cell_type": "code",
   "execution_count": 10,
   "id": "43b9afb5-b5be-4951-b0f1-587f5113713b",
   "metadata": {},
   "outputs": [
    {
     "data": {
      "text/html": [
       "<div>\n",
       "<style scoped>\n",
       "    .dataframe tbody tr th:only-of-type {\n",
       "        vertical-align: middle;\n",
       "    }\n",
       "\n",
       "    .dataframe tbody tr th {\n",
       "        vertical-align: top;\n",
       "    }\n",
       "\n",
       "    .dataframe thead th {\n",
       "        text-align: right;\n",
       "    }\n",
       "</style>\n",
       "<table border=\"1\" class=\"dataframe\">\n",
       "  <thead>\n",
       "    <tr style=\"text-align: right;\">\n",
       "      <th></th>\n",
       "      <th>sum</th>\n",
       "    </tr>\n",
       "    <tr>\n",
       "      <th>department number</th>\n",
       "      <th></th>\n",
       "    </tr>\n",
       "  </thead>\n",
       "  <tbody>\n",
       "    <tr>\n",
       "      <th>45</th>\n",
       "      <td>100</td>\n",
       "    </tr>\n",
       "    <tr>\n",
       "      <th>65</th>\n",
       "      <td>910</td>\n",
       "    </tr>\n",
       "    <tr>\n",
       "      <th>75</th>\n",
       "      <td>600</td>\n",
       "    </tr>\n",
       "    <tr>\n",
       "      <th>89</th>\n",
       "      <td>240</td>\n",
       "    </tr>\n",
       "  </tbody>\n",
       "</table>\n",
       "</div>"
      ],
      "text/plain": [
       "                   sum \n",
       "department number      \n",
       "45                  100\n",
       "65                  910\n",
       "75                  600\n",
       "89                  240"
      ]
     },
     "execution_count": 10,
     "metadata": {},
     "output_type": "execute_result"
    }
   ],
   "source": [
    "dfdep=pd.merge(dfdep,dfcountry_of_destination ,on='destination country code')\n",
    "\n",
    "dfdep['sum ']=dfdep['weight']*dfdep['price for delivery 1KH']\n",
    "df3=dfdep[['department number','sum ']]\n",
    "\n",
    "df3=df3.groupby('department number').sum()\n",
    "\n",
    "df3"
   ]
  },
  {
   "cell_type": "markdown",
   "id": "177ce530-0582-4e22-9b52-73022a842849",
   "metadata": {},
   "source": [
    "# г)"
   ]
  },
  {
   "cell_type": "code",
   "execution_count": 16,
   "id": "afbfe1b6-72fa-4560-8c9b-0f2441129570",
   "metadata": {},
   "outputs": [
    {
     "name": "stdout",
     "output_type": "stream",
     "text": [
      "sum     910\n",
      "Name: Great Britain, dtype: int64\n",
      "\n",
      "\n",
      " have a maximum shipping cost\n"
     ]
    }
   ],
   "source": [
    "df4=dfdep[['sum ','name']]\n",
    "df4=df4.groupby('name').sum()\n",
    "df4=df4.sort_values(by=['sum '],ascending=False)\n",
    "t=df4.iloc[0]\n",
    "\n",
    "print(f\"{t}\\n\\n\\n have a maximum shipping cost\")"
   ]
  },
  {
   "cell_type": "markdown",
   "id": "dee1570c-135d-4c6b-82e0-9c5bc7ea6b13",
   "metadata": {},
   "source": [
    "# д)"
   ]
  },
  {
   "cell_type": "code",
   "execution_count": 17,
   "id": "2e315bc3-c7f1-4789-9b4d-ab9068b5fca4",
   "metadata": {},
   "outputs": [
    {
     "data": {
      "text/html": [
       "<div>\n",
       "<style scoped>\n",
       "    .dataframe tbody tr th:only-of-type {\n",
       "        vertical-align: middle;\n",
       "    }\n",
       "\n",
       "    .dataframe tbody tr th {\n",
       "        vertical-align: top;\n",
       "    }\n",
       "\n",
       "    .dataframe thead th {\n",
       "        text-align: right;\n",
       "    }\n",
       "</style>\n",
       "<table border=\"1\" class=\"dataframe\">\n",
       "  <thead>\n",
       "    <tr style=\"text-align: right;\">\n",
       "      <th></th>\n",
       "      <th>sum</th>\n",
       "    </tr>\n",
       "    <tr>\n",
       "      <th>name</th>\n",
       "      <th></th>\n",
       "    </tr>\n",
       "  </thead>\n",
       "  <tbody>\n",
       "    <tr>\n",
       "      <th>Great Britain</th>\n",
       "      <td>910</td>\n",
       "    </tr>\n",
       "    <tr>\n",
       "      <th>Poland</th>\n",
       "      <td>840</td>\n",
       "    </tr>\n",
       "    <tr>\n",
       "      <th>Ukraine</th>\n",
       "      <td>100</td>\n",
       "    </tr>\n",
       "  </tbody>\n",
       "</table>\n",
       "</div>"
      ],
      "text/plain": [
       "               sum \n",
       "name               \n",
       "Great Britain   910\n",
       "Poland          840\n",
       "Ukraine         100"
      ]
     },
     "execution_count": 17,
     "metadata": {},
     "output_type": "execute_result"
    }
   ],
   "source": [
    "df4"
   ]
  }
 ],
 "metadata": {
  "kernelspec": {
   "display_name": "Python 3 (ipykernel)",
   "language": "python",
   "name": "python3"
  },
  "language_info": {
   "codemirror_mode": {
    "name": "ipython",
    "version": 3
   },
   "file_extension": ".py",
   "mimetype": "text/x-python",
   "name": "python",
   "nbconvert_exporter": "python",
   "pygments_lexer": "ipython3",
   "version": "3.9.12"
  }
 },
 "nbformat": 4,
 "nbformat_minor": 5
}
